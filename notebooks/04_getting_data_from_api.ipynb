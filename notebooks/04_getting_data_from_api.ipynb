{
 "cells": [
  {
   "cell_type": "code",
   "execution_count": 1,
   "metadata": {
    "collapsed": false
   },
   "outputs": [
    {
     "data": {
      "text/plain": [
       "'\\nCLASS: Getting Data from APIs\\n\\nWhat is an API?\\n- Application Programming Interface\\n- Structured way to expose specific functionality and data access to users\\n- Web APIs usually follow the \"REST\" standard\\n\\nHow to interact with a REST API:\\n- Make a \"request\" to a specific URL (an \"endpoint\"), and get the data back in a \"response\"\\n- Most relevant request method for us is GET (other methods: POST, PUT, DELETE)\\n- Response is often JSON format\\n- Web console is sometimes available (allows you to explore an API)\\n'"
      ]
     },
     "execution_count": 1,
     "metadata": {},
     "output_type": "execute_result"
    }
   ],
   "source": [
    "'''\n",
    "CLASS: Getting Data from APIs\n",
    "\n",
    "What is an API?\n",
    "- Application Programming Interface\n",
    "- Structured way to expose specific functionality and data access to users\n",
    "- Web APIs usually follow the \"REST\" standard\n",
    "\n",
    "How to interact with an API:\n",
    "- Make a \"request\" to a specific URL (an \"endpoint\"), and get the data back in a \"response\"\n",
    "- Most relevant request method for us is GET (other methods: POST, PUT, DELETE)\n",
    "- Response is often JSON format\n",
    "- Web console is sometimes available (allows you to explore an API)\n",
    "'''"
   ]
  },
  {
   "cell_type": "code",
   "execution_count": 1,
   "metadata": {
    "collapsed": false
   },
   "outputs": [],
   "source": [
    "import sys\n",
    "sys.path = ['', '/Library/Frameworks/Python.framework/Versions/2.7/lib/python2.7/site-packages/distribute-0.6.14-py2.7.egg', '/Library/Frameworks/Python.framework/Versions/2.7/lib/python2.7/site-packages/pip-8.0.0.dev0-py2.7.egg', '/Library/Frameworks/Python.framework/Versions/2.7/lib/python2.7/site-packages/pytz-2015.7-py2.7.egg', '/Library/Python/2.7/site-packages/pandas-0.14.1-py2.7-macosx-10.9-intel.egg', '/Library/Python/2.7/site-packages/distribute-0.6.49-py2.7.egg', '/Library/Python/2.7/site-packages/BeautifulSoup-3.2.1-py2.7.egg', '/Library/Python/2.7/site-packages/mechanize-0.2.5-py2.7.egg', '/Library/Python/2.7/site-packages/pyPdf-1.13-py2.7.egg', '/Library/Python/2.7/site-packages/rapportive-0.1.0-py2.7.egg', '/Library/Python/2.7/site-packages/docopt-0.6.1-py2.7.egg', '/Library/Python/2.7/site-packages/django_registration-1.0-py2.7.egg', '/Library/Python/2.7/site-packages/MySQL_python-1.2.4b4-py2.7-macosx-10.9-intel.egg', '/Library/Python/2.7/site-packages/openpyxl-1.8.4-py2.7.egg', '/Library/Python/2.7/site-packages/django_chartit-0.1-py2.7.egg', '/System/Library/Frameworks/Python.framework/Versions/2.7/Extras/lib/python', '/Library/Python/2.7/site-packages/gnureadline-6.3.3-py2.7-macosx-10.9-intel.egg', '/Library/Python/2.7/site-packages/pymorph-0.96-py2.7.egg', '/Library/Python/2.7/site-packages/webcolors-1.4-py2.7.egg', '/Library/Python/2.7/site-packages/virtualenv-1.11.5-py2.7.egg', '/Library/Python/2.7/site-packages/python_openid-2.2.5-py2.7.egg', '/Library/Python/2.7/site-packages/httplib2-0.9-py2.7.egg', '/Library/Python/2.7/site-packages/oauth-1.0.1-py2.7.egg', '/Library/Python/2.7/site-packages/textblob-0.8.4-py2.7.egg', '/Library/Python/2.7/site-packages/PyYAML-3.11-py2.7-macosx-10.9-intel.egg', '/Library/Python/2.7/site-packages/feedparser-5.1.3-py2.7.egg', '/Library/Python/2.7/site-packages/pyThesaurus-1.1_dev_r371-py2.7.egg', '/Library/Python/2.7/site-packages/KISSmetrics-0.1.0-py2.7.egg', '/Library/Python/2.7/site-packages/simplejson-3.6.0-py2.7-macosx-10.9-intel.egg', '/Library/Python/2.7/site-packages/dnspython-1.12.0-py2.7.egg', '/Library/Python/2.7/site-packages/RapLeafApi-0.1.1-py2.7.egg', '/Library/Python/2.7/site-packages/statsmodels-0.6.0-py2.7-macosx-10.9-intel.egg', '/Library/Python/2.7/site-packages/patsy-0.3.0-py2.7.egg', '/Library/Python/2.7/site-packages/paramiko-1.15.1-py2.7.egg', '/Library/Python/2.7/site-packages/ecdsa-0.11-py2.7.egg', '/Library/Python/2.7/site-packages/pycrypto-2.6.1-py2.7-macosx-10.9-intel.egg', '/Library/Python/2.7/site-packages/postgres-2.1.2-py2.7.egg', '/Library/Python/2.7/site-packages/guppy-0.1.10-py2.7-macosx-10.9-intel.egg', '/Library/Python/2.7/site-packages/PyBrain-0.3-py2.7.egg', '/Library/Python/2.7/site-packages/Flask-0.10.1-py2.7.egg', '/Library/Python/2.7/site-packages/itsdangerous-0.24-py2.7.egg', '/Library/Python/2.7/site-packages/Werkzeug-0.9.6-py2.7.egg', '/Library/Python/2.7/site-packages/clearbit-0.0.7-py2.7.egg', '/Library/Python/2.7/site-packages/fuzzywuzzy-0.5.0-py2.7.egg', '/Library/Frameworks/Python.framework/Versions/2.7/lib/python27.zip', '/Library/Frameworks/Python.framework/Versions/2.7/lib/python2.7', '/Library/Frameworks/Python.framework/Versions/2.7/lib/python2.7/plat-darwin', '/Library/Frameworks/Python.framework/Versions/2.7/lib/python2.7/plat-mac', '/Library/Frameworks/Python.framework/Versions/2.7/lib/python2.7/plat-mac/lib-scriptpackages', '/Library/Frameworks/Python.framework/Versions/2.7/lib/python2.7/lib-tk', '/Library/Frameworks/Python.framework/Versions/2.7/lib/python2.7/lib-old', '/Library/Frameworks/Python.framework/Versions/2.7/lib/python2.7/lib-dynload', '/Users/sinanozdemir/Library/Python/2.7/lib/python/site-packages', '/usr/local/lib/python2.7/site-packages', '/usr/local/Cellar/scapy/2.3.1/libexec/vendor/lib/python2.7/site-packages', '/Library/Frameworks/Python.framework/Versions/2.7/lib/python2.7/site-packages', '/Library/Python/2.7/site-packages', '/Library/Python/2.7/site-packages/setuptools-0.6c11-py2.7.egg-info']\n",
    "import pandas as pd\n",
    "import requests"
   ]
  },
  {
   "cell_type": "code",
   "execution_count": 2,
   "metadata": {
    "collapsed": false
   },
   "outputs": [
    {
     "data": {
      "text/html": [
       "<div style=\"max-height:1000px;max-width:1500px;overflow:auto;\">\n",
       "<table border=\"1\" class=\"dataframe\">\n",
       "  <thead>\n",
       "    <tr style=\"text-align: right;\">\n",
       "      <th></th>\n",
       "      <th>star_rating</th>\n",
       "      <th>title</th>\n",
       "      <th>content_rating</th>\n",
       "      <th>genre</th>\n",
       "      <th>duration</th>\n",
       "      <th>actors_list</th>\n",
       "    </tr>\n",
       "  </thead>\n",
       "  <tbody>\n",
       "    <tr>\n",
       "      <th>0</th>\n",
       "      <td> 9.3</td>\n",
       "      <td> The Shawshank Redemption</td>\n",
       "      <td>     R</td>\n",
       "      <td>  Crime</td>\n",
       "      <td> 142</td>\n",
       "      <td> [u'Tim Robbins', u'Morgan Freeman', u'Bob Gunt...</td>\n",
       "    </tr>\n",
       "    <tr>\n",
       "      <th>1</th>\n",
       "      <td> 9.2</td>\n",
       "      <td>            The Godfather</td>\n",
       "      <td>     R</td>\n",
       "      <td>  Crime</td>\n",
       "      <td> 175</td>\n",
       "      <td>   [u'Marlon Brando', u'Al Pacino', u'James Caan']</td>\n",
       "    </tr>\n",
       "    <tr>\n",
       "      <th>2</th>\n",
       "      <td> 9.1</td>\n",
       "      <td>   The Godfather: Part II</td>\n",
       "      <td>     R</td>\n",
       "      <td>  Crime</td>\n",
       "      <td> 200</td>\n",
       "      <td> [u'Al Pacino', u'Robert De Niro', u'Robert Duv...</td>\n",
       "    </tr>\n",
       "    <tr>\n",
       "      <th>3</th>\n",
       "      <td> 9.0</td>\n",
       "      <td>          The Dark Knight</td>\n",
       "      <td> PG-13</td>\n",
       "      <td> Action</td>\n",
       "      <td> 152</td>\n",
       "      <td> [u'Christian Bale', u'Heath Ledger', u'Aaron E...</td>\n",
       "    </tr>\n",
       "    <tr>\n",
       "      <th>4</th>\n",
       "      <td> 8.9</td>\n",
       "      <td>             Pulp Fiction</td>\n",
       "      <td>     R</td>\n",
       "      <td>  Crime</td>\n",
       "      <td> 154</td>\n",
       "      <td> [u'John Travolta', u'Uma Thurman', u'Samuel L....</td>\n",
       "    </tr>\n",
       "  </tbody>\n",
       "</table>\n",
       "</div>"
      ],
      "text/plain": [
       "   star_rating                     title content_rating   genre  duration  \\\n",
       "0          9.3  The Shawshank Redemption              R   Crime       142   \n",
       "1          9.2             The Godfather              R   Crime       175   \n",
       "2          9.1    The Godfather: Part II              R   Crime       200   \n",
       "3          9.0           The Dark Knight          PG-13  Action       152   \n",
       "4          8.9              Pulp Fiction              R   Crime       154   \n",
       "\n",
       "                                         actors_list  \n",
       "0  [u'Tim Robbins', u'Morgan Freeman', u'Bob Gunt...  \n",
       "1    [u'Marlon Brando', u'Al Pacino', u'James Caan']  \n",
       "2  [u'Al Pacino', u'Robert De Niro', u'Robert Duv...  \n",
       "3  [u'Christian Bale', u'Heath Ledger', u'Aaron E...  \n",
       "4  [u'John Travolta', u'Uma Thurman', u'Samuel L....  "
      ]
     },
     "execution_count": 2,
     "metadata": {},
     "output_type": "execute_result"
    }
   ],
   "source": [
    "# read IMDb data into a DataFrame: we want a year column!\n",
    "movies = pd.read_csv('../data/imdb_1000.csv')\n",
    "movies.head()"
   ]
  },
  {
   "cell_type": "code",
   "execution_count": 3,
   "metadata": {
    "collapsed": false
   },
   "outputs": [
    {
     "name": "stdout",
     "output_type": "stream",
     "text": [
      "(979, 6)\n"
     ]
    },
    {
     "data": {
      "text/html": [
       "<div style=\"max-height:1000px;max-width:1500px;overflow:auto;\">\n",
       "<table border=\"1\" class=\"dataframe\">\n",
       "  <thead>\n",
       "    <tr style=\"text-align: right;\">\n",
       "      <th></th>\n",
       "      <th>star_rating</th>\n",
       "      <th>duration</th>\n",
       "    </tr>\n",
       "  </thead>\n",
       "  <tbody>\n",
       "    <tr>\n",
       "      <th>count</th>\n",
       "      <td> 979.000000</td>\n",
       "      <td> 979.000000</td>\n",
       "    </tr>\n",
       "    <tr>\n",
       "      <th>mean</th>\n",
       "      <td>   7.889785</td>\n",
       "      <td> 120.979571</td>\n",
       "    </tr>\n",
       "    <tr>\n",
       "      <th>std</th>\n",
       "      <td>   0.336069</td>\n",
       "      <td>  26.218010</td>\n",
       "    </tr>\n",
       "    <tr>\n",
       "      <th>min</th>\n",
       "      <td>   7.400000</td>\n",
       "      <td>  64.000000</td>\n",
       "    </tr>\n",
       "    <tr>\n",
       "      <th>25%</th>\n",
       "      <td>   7.600000</td>\n",
       "      <td> 102.000000</td>\n",
       "    </tr>\n",
       "    <tr>\n",
       "      <th>50%</th>\n",
       "      <td>   7.800000</td>\n",
       "      <td> 117.000000</td>\n",
       "    </tr>\n",
       "    <tr>\n",
       "      <th>75%</th>\n",
       "      <td>   8.100000</td>\n",
       "      <td> 134.000000</td>\n",
       "    </tr>\n",
       "    <tr>\n",
       "      <th>max</th>\n",
       "      <td>   9.300000</td>\n",
       "      <td> 242.000000</td>\n",
       "    </tr>\n",
       "  </tbody>\n",
       "</table>\n",
       "</div>"
      ],
      "text/plain": [
       "       star_rating    duration\n",
       "count   979.000000  979.000000\n",
       "mean      7.889785  120.979571\n",
       "std       0.336069   26.218010\n",
       "min       7.400000   64.000000\n",
       "25%       7.600000  102.000000\n",
       "50%       7.800000  117.000000\n",
       "75%       8.100000  134.000000\n",
       "max       9.300000  242.000000"
      ]
     },
     "execution_count": 3,
     "metadata": {},
     "output_type": "execute_result"
    }
   ],
   "source": [
    "print movies.shape\n",
    "movies.describe()"
   ]
  },
  {
   "cell_type": "code",
   "execution_count": 9,
   "metadata": {
    "collapsed": false
   },
   "outputs": [
    {
     "name": "stdout",
     "output_type": "stream",
     "text": [
      "The Girl with the Dragon Tattoo\n",
      "Les Miserables\n",
      "True Grit\n",
      "Dracula\n"
     ]
    }
   ],
   "source": [
    "###### exercise #######\n",
    "\n",
    "# Is the title column unique? If not, what are the non unique names?\n",
    "from collections import Counter\n",
    "for title, count in Counter(movies['title']).items():\n",
    "    if count > 1:\n",
    "        print title"
   ]
  },
  {
   "cell_type": "code",
   "execution_count": 10,
   "metadata": {
    "collapsed": true
   },
   "outputs": [],
   "source": [
    "# use requests library to interact with a URL http://www.omdbapi.com\n",
    "r = requests.get('http://www.omdbapi.com?t=the shawshank redemption&r=json&type=movie')"
   ]
  },
  {
   "cell_type": "code",
   "execution_count": 11,
   "metadata": {
    "collapsed": false
   },
   "outputs": [
    {
     "data": {
      "text/plain": [
       "200"
      ]
     },
     "execution_count": 11,
     "metadata": {},
     "output_type": "execute_result"
    }
   ],
   "source": [
    "# check the status: 200 means success, 4xx or 5xx means error\n",
    "r.status_code"
   ]
  },
  {
   "cell_type": "code",
   "execution_count": 12,
   "metadata": {
    "collapsed": false
   },
   "outputs": [
    {
     "data": {
      "text/plain": [
       "u'{\"Title\":\"The Shawshank Redemption\",\"Year\":\"1994\",\"Rated\":\"R\",\"Released\":\"14 Oct 1994\",\"Runtime\":\"142 min\",\"Genre\":\"Crime, Drama\",\"Director\":\"Frank Darabont\",\"Writer\":\"Stephen King (short story \\\\\"Rita Hayworth and Shawshank Redemption\\\\\"), Frank Darabont (screenplay)\",\"Actors\":\"Tim Robbins, Morgan Freeman, Bob Gunton, William Sadler\",\"Plot\":\"Two imprisoned men bond over a number of years, finding solace and eventual redemption through acts of common decency.\",\"Language\":\"English\",\"Country\":\"USA\",\"Awards\":\"Nominated for 7 Oscars. Another 14 wins & 21 nominations.\",\"Poster\":\"http://ia.media-imdb.com/images/M/MV5BODU4MjU4NjIwNl5BMl5BanBnXkFtZTgwMDU2MjEyMDE@._V1_SX300.jpg\",\"Metascore\":\"80\",\"imdbRating\":\"9.3\",\"imdbVotes\":\"1,626,900\",\"imdbID\":\"tt0111161\",\"Type\":\"movie\",\"Response\":\"True\"}'"
      ]
     },
     "execution_count": 12,
     "metadata": {},
     "output_type": "execute_result"
    }
   ],
   "source": [
    "# view the raw response text\n",
    "r.text"
   ]
  },
  {
   "cell_type": "code",
   "execution_count": 13,
   "metadata": {
    "collapsed": false
   },
   "outputs": [
    {
     "data": {
      "text/plain": [
       "{u'Actors': u'Tim Robbins, Morgan Freeman, Bob Gunton, William Sadler',\n",
       " u'Awards': u'Nominated for 7 Oscars. Another 14 wins & 21 nominations.',\n",
       " u'Country': u'USA',\n",
       " u'Director': u'Frank Darabont',\n",
       " u'Genre': u'Crime, Drama',\n",
       " u'Language': u'English',\n",
       " u'Metascore': u'80',\n",
       " u'Plot': u'Two imprisoned men bond over a number of years, finding solace and eventual redemption through acts of common decency.',\n",
       " u'Poster': u'http://ia.media-imdb.com/images/M/MV5BODU4MjU4NjIwNl5BMl5BanBnXkFtZTgwMDU2MjEyMDE@._V1_SX300.jpg',\n",
       " u'Rated': u'R',\n",
       " u'Released': u'14 Oct 1994',\n",
       " u'Response': u'True',\n",
       " u'Runtime': u'142 min',\n",
       " u'Title': u'The Shawshank Redemption',\n",
       " u'Type': u'movie',\n",
       " u'Writer': u'Stephen King (short story \"Rita Hayworth and Shawshank Redemption\"), Frank Darabont (screenplay)',\n",
       " u'Year': u'1994',\n",
       " u'imdbID': u'tt0111161',\n",
       " u'imdbRating': u'9.3',\n",
       " u'imdbVotes': u'1,626,900'}"
      ]
     },
     "execution_count": 13,
     "metadata": {},
     "output_type": "execute_result"
    }
   ],
   "source": [
    "# decode the JSON response body into a dictionary\n",
    "r.json()"
   ]
  },
  {
   "cell_type": "code",
   "execution_count": 14,
   "metadata": {
    "collapsed": false
   },
   "outputs": [
    {
     "data": {
      "text/plain": [
       "u'1994'"
      ]
     },
     "execution_count": 14,
     "metadata": {},
     "output_type": "execute_result"
    }
   ],
   "source": [
    "# extracting the year from the dictionary\n",
    "r.json()['Year']"
   ]
  },
  {
   "cell_type": "code",
   "execution_count": 16,
   "metadata": {
    "collapsed": false
   },
   "outputs": [
    {
     "name": "stdout",
     "output_type": "stream",
     "text": [
      "200\n"
     ]
    },
    {
     "data": {
      "text/plain": [
       "{u'Error': u'Movie not found!', u'Response': u'False'}"
      ]
     },
     "execution_count": 16,
     "metadata": {},
     "output_type": "execute_result"
    }
   ],
   "source": [
    "# what happens if the movie name is not recognized?\n",
    "r = requests.get('http://www.omdbapi.com/?t=thebestmovieevermade&r=json&type=movie')\n",
    "print r.status_code\n",
    "r.json()"
   ]
  },
  {
   "cell_type": "code",
   "execution_count": 23,
   "metadata": {
    "collapsed": false
   },
   "outputs": [],
   "source": [
    "##### Exercise #####\n",
    "\n",
    "# define a function to return the year\n",
    "def get_movie_year(title):\n",
    "    response = requests.get('http://www.omdbapi.com/?t='+title+'&r=json&type=movie').json()\n",
    "    if 'Error' not in response: return response['Year']\n"
   ]
  },
  {
   "cell_type": "code",
   "execution_count": 26,
   "metadata": {
    "collapsed": false
   },
   "outputs": [
    {
     "name": "stdout",
     "output_type": "stream",
     "text": [
      "2016\n",
      "None\n"
     ]
    }
   ],
   "source": [
    "# test the function\n",
    "print get_movie_year('finding dory')\n",
    "print get_movie_year('blahblahblah')"
   ]
  },
  {
   "cell_type": "code",
   "execution_count": 27,
   "metadata": {
    "collapsed": true
   },
   "outputs": [],
   "source": [
    "# create a smaller DataFrame for testing\n",
    "# the copy method makes a carbon copy of the dataframe\n",
    "top_movies = movies.head().copy()"
   ]
  },
  {
   "cell_type": "code",
   "execution_count": 28,
   "metadata": {
    "collapsed": false
   },
   "outputs": [],
   "source": [
    "# write a for loop to build a list of years\n",
    "from time import sleep # timey wimey stuff\n",
    "years = []\n",
    "for title in top_movies.title:\n",
    "    years.append(get_movie_year(title))\n",
    "    sleep(1)\n",
    "    \n",
    "# the sleep is used to not over hit the API\n",
    "# this is called \"rate limiting\"\n",
    "# Most APIs don't allow you to hit it too much"
   ]
  },
  {
   "cell_type": "code",
   "execution_count": 29,
   "metadata": {
    "collapsed": false
   },
   "outputs": [
    {
     "ename": "AssertionError",
     "evalue": "",
     "output_type": "error",
     "traceback": [
      "\u001b[0;31m---------------------------------------------------------------------------\u001b[0m",
      "\u001b[0;31mAssertionError\u001b[0m                            Traceback (most recent call last)",
      "\u001b[0;32m<ipython-input-29-eda2d9072f25>\u001b[0m in \u001b[0;36m<module>\u001b[0;34m()\u001b[0m\n\u001b[1;32m      1\u001b[0m \u001b[0;31m# assert will throw an error if the value inside is NOT True\u001b[0m\u001b[0;34m\u001b[0m\u001b[0;34m\u001b[0m\u001b[0m\n\u001b[1;32m      2\u001b[0m \u001b[0;34m\u001b[0m\u001b[0m\n\u001b[0;32m----> 3\u001b[0;31m \u001b[0;32massert\u001b[0m\u001b[0;34m(\u001b[0m\u001b[0;36m3\u001b[0m\u001b[0;34m==\u001b[0m\u001b[0;36m4\u001b[0m\u001b[0;34m)\u001b[0m\u001b[0;34m\u001b[0m\u001b[0m\n\u001b[0m",
      "\u001b[0;31mAssertionError\u001b[0m: "
     ]
    }
   ],
   "source": [
    "# assert will throw an error if the value inside is NOT True\n",
    "\n",
    "assert(3==4)"
   ]
  },
  {
   "cell_type": "code",
   "execution_count": 29,
   "metadata": {
    "collapsed": false
   },
   "outputs": [],
   "source": [
    "# check that the DataFrame and the list of years are the same length\n",
    "assert(len(top_movies) == len(years))"
   ]
  },
  {
   "cell_type": "code",
   "execution_count": 31,
   "metadata": {
    "collapsed": false
   },
   "outputs": [
    {
     "data": {
      "text/html": [
       "<div style=\"max-height:1000px;max-width:1500px;overflow:auto;\">\n",
       "<table border=\"1\" class=\"dataframe\">\n",
       "  <thead>\n",
       "    <tr style=\"text-align: right;\">\n",
       "      <th></th>\n",
       "      <th>star_rating</th>\n",
       "      <th>title</th>\n",
       "      <th>content_rating</th>\n",
       "      <th>genre</th>\n",
       "      <th>duration</th>\n",
       "      <th>actors_list</th>\n",
       "      <th>year</th>\n",
       "    </tr>\n",
       "  </thead>\n",
       "  <tbody>\n",
       "    <tr>\n",
       "      <th>0</th>\n",
       "      <td> 9.3</td>\n",
       "      <td> The Shawshank Redemption</td>\n",
       "      <td>     R</td>\n",
       "      <td>  Crime</td>\n",
       "      <td> 142</td>\n",
       "      <td> [u'Tim Robbins', u'Morgan Freeman', u'Bob Gunt...</td>\n",
       "      <td> 1994</td>\n",
       "    </tr>\n",
       "    <tr>\n",
       "      <th>1</th>\n",
       "      <td> 9.2</td>\n",
       "      <td>            The Godfather</td>\n",
       "      <td>     R</td>\n",
       "      <td>  Crime</td>\n",
       "      <td> 175</td>\n",
       "      <td>   [u'Marlon Brando', u'Al Pacino', u'James Caan']</td>\n",
       "      <td> 1972</td>\n",
       "    </tr>\n",
       "    <tr>\n",
       "      <th>2</th>\n",
       "      <td> 9.1</td>\n",
       "      <td>   The Godfather: Part II</td>\n",
       "      <td>     R</td>\n",
       "      <td>  Crime</td>\n",
       "      <td> 200</td>\n",
       "      <td> [u'Al Pacino', u'Robert De Niro', u'Robert Duv...</td>\n",
       "      <td> 1974</td>\n",
       "    </tr>\n",
       "    <tr>\n",
       "      <th>3</th>\n",
       "      <td> 9.0</td>\n",
       "      <td>          The Dark Knight</td>\n",
       "      <td> PG-13</td>\n",
       "      <td> Action</td>\n",
       "      <td> 152</td>\n",
       "      <td> [u'Christian Bale', u'Heath Ledger', u'Aaron E...</td>\n",
       "      <td> 2008</td>\n",
       "    </tr>\n",
       "    <tr>\n",
       "      <th>4</th>\n",
       "      <td> 8.9</td>\n",
       "      <td>             Pulp Fiction</td>\n",
       "      <td>     R</td>\n",
       "      <td>  Crime</td>\n",
       "      <td> 154</td>\n",
       "      <td> [u'John Travolta', u'Uma Thurman', u'Samuel L....</td>\n",
       "      <td> 1994</td>\n",
       "    </tr>\n",
       "  </tbody>\n",
       "</table>\n",
       "</div>"
      ],
      "text/plain": [
       "   star_rating                     title content_rating   genre  duration  \\\n",
       "0          9.3  The Shawshank Redemption              R   Crime       142   \n",
       "1          9.2             The Godfather              R   Crime       175   \n",
       "2          9.1    The Godfather: Part II              R   Crime       200   \n",
       "3          9.0           The Dark Knight          PG-13  Action       152   \n",
       "4          8.9              Pulp Fiction              R   Crime       154   \n",
       "\n",
       "                                         actors_list  year  \n",
       "0  [u'Tim Robbins', u'Morgan Freeman', u'Bob Gunt...  1994  \n",
       "1    [u'Marlon Brando', u'Al Pacino', u'James Caan']  1972  \n",
       "2  [u'Al Pacino', u'Robert De Niro', u'Robert Duv...  1974  \n",
       "3  [u'Christian Bale', u'Heath Ledger', u'Aaron E...  2008  \n",
       "4  [u'John Travolta', u'Uma Thurman', u'Samuel L....  1994  "
      ]
     },
     "execution_count": 31,
     "metadata": {},
     "output_type": "execute_result"
    }
   ],
   "source": [
    "# save that list as a new column\n",
    "top_movies['year'] = years\n",
    "top_movies"
   ]
  },
  {
   "cell_type": "code",
   "execution_count": null,
   "metadata": {
    "collapsed": false
   },
   "outputs": [],
   "source": [
    "'''\n",
    "Bonus content: Updating the DataFrame as part of a loop\n",
    "'''\n",
    "\n",
    "# enumerate allows you to access the item location while iterating\n",
    "letters = ['a', 'b', 'c']\n",
    "for index, letter in enumerate(letters):\n",
    "    print index, letter"
   ]
  },
  {
   "cell_type": "code",
   "execution_count": null,
   "metadata": {
    "collapsed": false
   },
   "outputs": [],
   "source": [
    "# iterrows method for DataFrames is similar\n",
    "for index, row in top_movies.iterrows():\n",
    "    print index, row.title"
   ]
  },
  {
   "cell_type": "code",
   "execution_count": null,
   "metadata": {
    "collapsed": false
   },
   "outputs": [],
   "source": [
    "# create a new column and set a default value\n",
    "movies['yearsr'] = None\n",
    "movies.head()"
   ]
  },
  {
   "cell_type": "code",
   "execution_count": null,
   "metadata": {
    "collapsed": false
   },
   "outputs": [],
   "source": [
    "# loc method allows you to access a DataFrame element by 'label'\n",
    "movies.loc[0, 'year'] = 1994\n",
    "movies.head()"
   ]
  },
  {
   "cell_type": "code",
   "execution_count": null,
   "metadata": {
    "collapsed": false
   },
   "outputs": [],
   "source": [
    "# write a for loop to update the year for the first three movies\n",
    "for index, row in movies.iterrows():\n",
    "    if index < 3:\n",
    "        movies.loc[index, 'year'] = get_movie_year(row.title)\n",
    "        sleep(1)\n",
    "    else:\n",
    "        break"
   ]
  },
  {
   "cell_type": "code",
   "execution_count": 30,
   "metadata": {
    "collapsed": false
   },
   "outputs": [
    {
     "data": {
      "text/html": [
       "<div style=\"max-height:1000px;max-width:1500px;overflow:auto;\">\n",
       "<table border=\"1\" class=\"dataframe\">\n",
       "  <thead>\n",
       "    <tr style=\"text-align: right;\">\n",
       "      <th></th>\n",
       "      <th>star_rating</th>\n",
       "      <th>title</th>\n",
       "      <th>content_rating</th>\n",
       "      <th>genre</th>\n",
       "      <th>duration</th>\n",
       "      <th>actors_list</th>\n",
       "    </tr>\n",
       "  </thead>\n",
       "  <tbody>\n",
       "    <tr>\n",
       "      <th>0</th>\n",
       "      <td> 9.3</td>\n",
       "      <td> The Shawshank Redemption</td>\n",
       "      <td>     R</td>\n",
       "      <td>  Crime</td>\n",
       "      <td> 142</td>\n",
       "      <td> [u'Tim Robbins', u'Morgan Freeman', u'Bob Gunt...</td>\n",
       "    </tr>\n",
       "    <tr>\n",
       "      <th>1</th>\n",
       "      <td> 9.2</td>\n",
       "      <td>            The Godfather</td>\n",
       "      <td>     R</td>\n",
       "      <td>  Crime</td>\n",
       "      <td> 175</td>\n",
       "      <td>   [u'Marlon Brando', u'Al Pacino', u'James Caan']</td>\n",
       "    </tr>\n",
       "    <tr>\n",
       "      <th>2</th>\n",
       "      <td> 9.1</td>\n",
       "      <td>   The Godfather: Part II</td>\n",
       "      <td>     R</td>\n",
       "      <td>  Crime</td>\n",
       "      <td> 200</td>\n",
       "      <td> [u'Al Pacino', u'Robert De Niro', u'Robert Duv...</td>\n",
       "    </tr>\n",
       "    <tr>\n",
       "      <th>3</th>\n",
       "      <td> 9.0</td>\n",
       "      <td>          The Dark Knight</td>\n",
       "      <td> PG-13</td>\n",
       "      <td> Action</td>\n",
       "      <td> 152</td>\n",
       "      <td> [u'Christian Bale', u'Heath Ledger', u'Aaron E...</td>\n",
       "    </tr>\n",
       "    <tr>\n",
       "      <th>4</th>\n",
       "      <td> 8.9</td>\n",
       "      <td>             Pulp Fiction</td>\n",
       "      <td>     R</td>\n",
       "      <td>  Crime</td>\n",
       "      <td> 154</td>\n",
       "      <td> [u'John Travolta', u'Uma Thurman', u'Samuel L....</td>\n",
       "    </tr>\n",
       "  </tbody>\n",
       "</table>\n",
       "</div>"
      ],
      "text/plain": [
       "   star_rating                     title content_rating   genre  duration  \\\n",
       "0          9.3  The Shawshank Redemption              R   Crime       142   \n",
       "1          9.2             The Godfather              R   Crime       175   \n",
       "2          9.1    The Godfather: Part II              R   Crime       200   \n",
       "3          9.0           The Dark Knight          PG-13  Action       152   \n",
       "4          8.9              Pulp Fiction              R   Crime       154   \n",
       "\n",
       "                                         actors_list  \n",
       "0  [u'Tim Robbins', u'Morgan Freeman', u'Bob Gunt...  \n",
       "1    [u'Marlon Brando', u'Al Pacino', u'James Caan']  \n",
       "2  [u'Al Pacino', u'Robert De Niro', u'Robert Duv...  \n",
       "3  [u'Christian Bale', u'Heath Ledger', u'Aaron E...  \n",
       "4  [u'John Travolta', u'Uma Thurman', u'Samuel L....  "
      ]
     },
     "execution_count": 30,
     "metadata": {},
     "output_type": "execute_result"
    }
   ],
   "source": [
    "movies.head()"
   ]
  },
  {
   "cell_type": "code",
   "execution_count": null,
   "metadata": {
    "collapsed": false
   },
   "outputs": [],
   "source": []
  },
  {
   "cell_type": "code",
   "execution_count": null,
   "metadata": {
    "collapsed": true
   },
   "outputs": [],
   "source": []
  },
  {
   "cell_type": "code",
   "execution_count": 32,
   "metadata": {
    "collapsed": true
   },
   "outputs": [],
   "source": [
    "# this is my own personal twitter api information\n",
    "# if you could be so kind as to sign up yourself on both twitter and mashape that'd be great :)\n",
    "# It's FREEEEEEE\n",
    "api_key = 'g5uPIpw80nULQI1gfklv2zrh4'\n",
    "api_secret = 'cOWvNWxYvPmEZ0ArZVeeVVvJu41QYHdUS2GpqIKtSQ1isd5PJy'\n",
    "access_token = '49722956-TWl8J0aAS6KTdcbz3ppZ7NfqZEmrwmbsb9cYPNELG'\n",
    "access_secret = '3eqrVssF3ppv23qyflyAto8wLEiYRA8sXEPSghuOJWTub'\n",
    "\n",
    "# Masahpe Key\n",
    "mashape_key = '0CLvblsJOxmshWkaep4szo9CILOMp1PM3hhjsnDi4k8g8ME14o'"
   ]
  },
  {
   "cell_type": "code",
   "execution_count": 36,
   "metadata": {
    "collapsed": false
   },
   "outputs": [
    {
     "name": "stdout",
     "output_type": "stream",
     "text": [
      "{u'probability': {u'neg': 0.3347009843556792, u'neutral': 0.20573400349893747, u'pos': 0.6652990156443208}, u'label': u'pos'}\n"
     ]
    }
   ],
   "source": [
    "# more complicated request\n",
    "\n",
    "# HEADERS tell the API (or website) the type of system attempting the request\n",
    "# DATA tells the API (or website) any pertinent info needed to make the request\n",
    "# it is up to whoever wrote the API how access keys are passed in\n",
    "\n",
    "url = \"https://japerk-text-processing.p.mashape.com/sentiment/\"\n",
    "headers ={\n",
    "        \"X-Mashape-Key\": mashape_key,\n",
    "        \"Content-Type\": \"application/x-www-form-urlencoded\"\n",
    "        }\n",
    "data={\n",
    "        \"language\": \"english\",\n",
    "        \"text\": \"what an amazing failure\"\n",
    "        }\n",
    "\n",
    "print requests.post(url, headers = headers, data = data).json()"
   ]
  },
  {
   "cell_type": "code",
   "execution_count": 37,
   "metadata": {
    "collapsed": false
   },
   "outputs": [
    {
     "data": {
      "text/plain": [
       "'\\nExample of API WITH WRAPPER\\ntweepy is the python wrapper for twitter data\\n'"
      ]
     },
     "execution_count": 37,
     "metadata": {},
     "output_type": "execute_result"
    }
   ],
   "source": [
    "'''\n",
    "Example of API WITH WRAPPER\n",
    "tweepy is the python wrapper for twitter data\n",
    "'''"
   ]
  },
  {
   "cell_type": "code",
   "execution_count": 38,
   "metadata": {
    "collapsed": true
   },
   "outputs": [],
   "source": [
    "import tweepy       # python wrapper for twitter api\n",
    "import json\n",
    "import time"
   ]
  },
  {
   "cell_type": "code",
   "execution_count": 49,
   "metadata": {
    "collapsed": false
   },
   "outputs": [],
   "source": [
    "tag = '$ge'\n",
    "\n",
    "# Documentation is your friend! http://docs.tweepy.org/en/v3.1.0/\n",
    "auth = tweepy.OAuthHandler(api_key, api_secret)\n",
    "auth.set_access_token(access_token, access_secret)\n",
    "api = tweepy.API(auth) # returns a tweepy authorization handler object\n",
    "tweets = api.search(q=tag)"
   ]
  },
  {
   "cell_type": "code",
   "execution_count": 50,
   "metadata": {
    "collapsed": false
   },
   "outputs": [
    {
     "data": {
      "text/plain": [
       "Status(contributors=None, truncated=False, text=u'RT @ToddSullivan: Judge slams US government over MetLife \\u2018too big to fail\\u2019 decision - https://t.co/ctTvDCtYa0 $AIG $MET $PRU $GE https://t.\\u2026', is_quote_status=False, in_reply_to_status_id=None, id=718283841866174465, favorite_count=0, _api=<tweepy.api.API object at 0x10ce9e090>, author=User(follow_request_sent=False, has_extended_profile=False, profile_use_background_image=True, _json={u'follow_request_sent': False, u'has_extended_profile': False, u'profile_use_background_image': True, u'default_profile_image': False, u'id': 3299285221, u'profile_background_image_url_https': u'https://abs.twimg.com/images/themes/theme1/bg.png', u'verified': False, u'profile_text_color': u'333333', u'profile_image_url_https': u'https://pbs.twimg.com/profile_images/639477327697543171/ehOhIQ2j_normal.jpg', u'profile_sidebar_fill_color': u'DDEEF6', u'entities': {u'description': {u'urls': []}}, u'followers_count': 74, u'profile_sidebar_border_color': u'C0DEED', u'id_str': u'3299285221', u'profile_background_color': u'C0DEED', u'listed_count': 8, u'is_translation_enabled': False, u'utc_offset': None, u'statuses_count': 1374, u'description': u\"The GSE's are a proven model for many decades for the good of the USA, and has not cost the tax payers one penny. Its only flaws is when the gov over reaches.\", u'friends_count': 111, u'location': u'California, USA', u'profile_link_color': u'0084B4', u'profile_image_url': u'http://pbs.twimg.com/profile_images/639477327697543171/ehOhIQ2j_normal.jpg', u'following': False, u'geo_enabled': False, u'profile_banner_url': u'https://pbs.twimg.com/profile_banners/3299285221/1441298251', u'profile_background_image_url': u'http://abs.twimg.com/images/themes/theme1/bg.png', u'screen_name': u'cehunt01', u'lang': u'en', u'profile_background_tile': False, u'favourites_count': 1126, u'name': u'R Hunt', u'notifications': False, u'url': None, u'created_at': u'Tue Jul 28 07:06:59 +0000 2015', u'contributors_enabled': False, u'time_zone': None, u'protected': False, u'default_profile': True, u'is_translator': False}, time_zone=None, id=3299285221, _api=<tweepy.api.API object at 0x10ce9e090>, verified=False, profile_text_color=u'333333', profile_image_url_https=u'https://pbs.twimg.com/profile_images/639477327697543171/ehOhIQ2j_normal.jpg', profile_sidebar_fill_color=u'DDEEF6', is_translator=False, geo_enabled=False, entities={u'description': {u'urls': []}}, followers_count=74, protected=False, id_str=u'3299285221', default_profile_image=False, listed_count=8, lang=u'en', utc_offset=None, statuses_count=1374, description=u\"The GSE's are a proven model for many decades for the good of the USA, and has not cost the tax payers one penny. Its only flaws is when the gov over reaches.\", friends_count=111, profile_link_color=u'0084B4', profile_image_url=u'http://pbs.twimg.com/profile_images/639477327697543171/ehOhIQ2j_normal.jpg', notifications=False, profile_background_image_url_https=u'https://abs.twimg.com/images/themes/theme1/bg.png', profile_background_color=u'C0DEED', profile_banner_url=u'https://pbs.twimg.com/profile_banners/3299285221/1441298251', profile_background_image_url=u'http://abs.twimg.com/images/themes/theme1/bg.png', name=u'R Hunt', is_translation_enabled=False, profile_background_tile=False, favourites_count=1126, screen_name=u'cehunt01', url=None, created_at=datetime.datetime(2015, 7, 28, 7, 6, 59), contributors_enabled=False, location=u'California, USA', profile_sidebar_border_color=u'C0DEED', default_profile=True, following=False), _json={u'contributors': None, u'truncated': False, u'text': u'RT @ToddSullivan: Judge slams US government over MetLife \\u2018too big to fail\\u2019 decision - https://t.co/ctTvDCtYa0 $AIG $MET $PRU $GE https://t.\\u2026', u'is_quote_status': False, u'in_reply_to_status_id': None, u'id': 718283841866174465, u'favorite_count': 0, u'entities': {u'symbols': [{u'indices': [110, 114], u'text': u'AIG'}, {u'indices': [115, 119], u'text': u'MET'}, {u'indices': [120, 124], u'text': u'PRU'}, {u'indices': [125, 128], u'text': u'GE'}], u'user_mentions': [{u'id': 14133912, u'indices': [3, 16], u'id_str': u'14133912', u'screen_name': u'ToddSullivan', u'name': u'Todd Sullivan'}], u'hashtags': [], u'urls': [{u'url': u'https://t.co/ctTvDCtYa0', u'indices': [86, 109], u'expanded_url': u'http://FT.com', u'display_url': u'FT.com'}, {u'url': u'https://t.co/dTMENtglut', u'indices': [139, 140], u'expanded_url': u'http://www.ft.com/intl/cms/s/0/a4fd0cc6-fcdd-11e5-b5f5-070dca6d0a0d.html?ftcamp=crm/email/_2016___04___20160407__/emailalerts/Keyword_alert/product#axzz45ARWzuKN', u'display_url': u'ft.com/intl/cms/s/0/a\\u2026'}]}, u'retweeted': False, u'coordinates': None, u'source': u'<a href=\"http://twitter.com/download/iphone\" rel=\"nofollow\">Twitter for iPhone</a>', u'in_reply_to_screen_name': None, u'in_reply_to_user_id': None, u'retweet_count': 6, u'id_str': u'718283841866174465', u'favorited': False, u'retweeted_status': {u'contributors': None, u'truncated': False, u'text': u'Judge slams US government over MetLife \\u2018too big to fail\\u2019 decision - https://t.co/ctTvDCtYa0 $AIG $MET $PRU $GE https://t.co/dTMENtglut', u'is_quote_status': False, u'in_reply_to_status_id': None, u'id': 718146554519953409, u'favorite_count': 6, u'entities': {u'symbols': [{u'indices': [92, 96], u'text': u'AIG'}, {u'indices': [97, 101], u'text': u'MET'}, {u'indices': [102, 106], u'text': u'PRU'}, {u'indices': [107, 110], u'text': u'GE'}], u'user_mentions': [], u'hashtags': [], u'urls': [{u'url': u'https://t.co/ctTvDCtYa0', u'indices': [68, 91], u'expanded_url': u'http://FT.com', u'display_url': u'FT.com'}, {u'url': u'https://t.co/dTMENtglut', u'indices': [111, 134], u'expanded_url': u'http://www.ft.com/intl/cms/s/0/a4fd0cc6-fcdd-11e5-b5f5-070dca6d0a0d.html?ftcamp=crm/email/_2016___04___20160407__/emailalerts/Keyword_alert/product#axzz45ARWzuKN', u'display_url': u'ft.com/intl/cms/s/0/a\\u2026'}]}, u'retweeted': False, u'coordinates': None, u'source': u'<a href=\"http://stocktwits.com\" rel=\"nofollow\">StockTwits Web</a>', u'in_reply_to_screen_name': None, u'in_reply_to_user_id': None, u'retweet_count': 6, u'id_str': u'718146554519953409', u'favorited': False, u'user': {u'follow_request_sent': False, u'has_extended_profile': False, u'profile_use_background_image': False, u'default_profile_image': False, u'id': 14133912, u'profile_background_image_url_https': u'https://abs.twimg.com/images/themes/theme14/bg.gif', u'verified': False, u'profile_text_color': u'333333', u'profile_image_url_https': u'https://pbs.twimg.com/profile_images/1653831930/medium-1321548718_normal.png', u'profile_sidebar_fill_color': u'EFEFEF', u'entities': {u'url': {u'urls': [{u'url': u'http://t.co/SlAaDUVc4t', u'indices': [0, 22], u'expanded_url': u'http://about.me/toddsullivan', u'display_url': u'about.me/toddsullivan'}]}, u'description': {u'urls': [{u'url': u'http://t.co/RuBfeQ2BEk', u'indices': [48, 70], u'expanded_url': u'http://www.about.me/toddsullivan', u'display_url': u'about.me/toddsullivan'}]}}, u'followers_count': 16978, u'profile_sidebar_border_color': u'FFFFFF', u'id_str': u'14133912', u'profile_background_color': u'131516', u'listed_count': 620, u'is_translation_enabled': False, u'utc_offset': -14400, u'statuses_count': 51688, u'description': u'Hedge Fund manager, blogger and angel investor  http://t.co/RuBfeQ2BEk', u'friends_count': 466, u'location': u'\\xdcT: 43.656975,-70.283535', u'profile_link_color': u'126929', u'profile_image_url': u'http://pbs.twimg.com/profile_images/1653831930/medium-1321548718_normal.png', u'following': False, u'geo_enabled': False, u'profile_banner_url': u'https://pbs.twimg.com/profile_banners/14133912/1400074608', u'profile_background_image_url': u'http://abs.twimg.com/images/themes/theme14/bg.gif', u'screen_name': u'ToddSullivan', u'lang': u'en', u'profile_background_tile': True, u'favourites_count': 58, u'name': u'Todd Sullivan', u'notifications': False, u'url': u'http://t.co/SlAaDUVc4t', u'created_at': u'Wed Mar 12 17:53:27 +0000 2008', u'contributors_enabled': False, u'time_zone': u'Eastern Time (US & Canada)', u'protected': False, u'default_profile': False, u'is_translator': False}, u'geo': None, u'in_reply_to_user_id_str': None, u'possibly_sensitive': False, u'lang': u'en', u'created_at': u'Thu Apr 07 18:40:55 +0000 2016', u'in_reply_to_status_id_str': None, u'place': None, u'metadata': {u'iso_language_code': u'en', u'result_type': u'recent'}}, u'user': {u'follow_request_sent': False, u'has_extended_profile': False, u'profile_use_background_image': True, u'default_profile_image': False, u'id': 3299285221, u'profile_background_image_url_https': u'https://abs.twimg.com/images/themes/theme1/bg.png', u'verified': False, u'profile_text_color': u'333333', u'profile_image_url_https': u'https://pbs.twimg.com/profile_images/639477327697543171/ehOhIQ2j_normal.jpg', u'profile_sidebar_fill_color': u'DDEEF6', u'entities': {u'description': {u'urls': []}}, u'followers_count': 74, u'profile_sidebar_border_color': u'C0DEED', u'id_str': u'3299285221', u'profile_background_color': u'C0DEED', u'listed_count': 8, u'is_translation_enabled': False, u'utc_offset': None, u'statuses_count': 1374, u'description': u\"The GSE's are a proven model for many decades for the good of the USA, and has not cost the tax payers one penny. Its only flaws is when the gov over reaches.\", u'friends_count': 111, u'location': u'California, USA', u'profile_link_color': u'0084B4', u'profile_image_url': u'http://pbs.twimg.com/profile_images/639477327697543171/ehOhIQ2j_normal.jpg', u'following': False, u'geo_enabled': False, u'profile_banner_url': u'https://pbs.twimg.com/profile_banners/3299285221/1441298251', u'profile_background_image_url': u'http://abs.twimg.com/images/themes/theme1/bg.png', u'screen_name': u'cehunt01', u'lang': u'en', u'profile_background_tile': False, u'favourites_count': 1126, u'name': u'R Hunt', u'notifications': False, u'url': None, u'created_at': u'Tue Jul 28 07:06:59 +0000 2015', u'contributors_enabled': False, u'time_zone': None, u'protected': False, u'default_profile': True, u'is_translator': False}, u'geo': None, u'in_reply_to_user_id_str': None, u'possibly_sensitive': False, u'lang': u'en', u'created_at': u'Fri Apr 08 03:46:27 +0000 2016', u'in_reply_to_status_id_str': None, u'place': None, u'metadata': {u'iso_language_code': u'en', u'result_type': u'recent'}}, coordinates=None, entities={u'symbols': [{u'indices': [110, 114], u'text': u'AIG'}, {u'indices': [115, 119], u'text': u'MET'}, {u'indices': [120, 124], u'text': u'PRU'}, {u'indices': [125, 128], u'text': u'GE'}], u'user_mentions': [{u'id': 14133912, u'indices': [3, 16], u'id_str': u'14133912', u'screen_name': u'ToddSullivan', u'name': u'Todd Sullivan'}], u'hashtags': [], u'urls': [{u'url': u'https://t.co/ctTvDCtYa0', u'indices': [86, 109], u'expanded_url': u'http://FT.com', u'display_url': u'FT.com'}, {u'url': u'https://t.co/dTMENtglut', u'indices': [139, 140], u'expanded_url': u'http://www.ft.com/intl/cms/s/0/a4fd0cc6-fcdd-11e5-b5f5-070dca6d0a0d.html?ftcamp=crm/email/_2016___04___20160407__/emailalerts/Keyword_alert/product#axzz45ARWzuKN', u'display_url': u'ft.com/intl/cms/s/0/a\\u2026'}]}, in_reply_to_screen_name=None, id_str=u'718283841866174465', retweet_count=6, in_reply_to_user_id=None, favorited=False, retweeted_status=Status(contributors=None, truncated=False, text=u'Judge slams US government over MetLife \\u2018too big to fail\\u2019 decision - https://t.co/ctTvDCtYa0 $AIG $MET $PRU $GE https://t.co/dTMENtglut', is_quote_status=False, in_reply_to_status_id=None, id=718146554519953409, favorite_count=6, _api=<tweepy.api.API object at 0x10ce9e090>, author=User(follow_request_sent=False, has_extended_profile=False, profile_use_background_image=False, _json={u'follow_request_sent': False, u'has_extended_profile': False, u'profile_use_background_image': False, u'default_profile_image': False, u'id': 14133912, u'profile_background_image_url_https': u'https://abs.twimg.com/images/themes/theme14/bg.gif', u'verified': False, u'profile_text_color': u'333333', u'profile_image_url_https': u'https://pbs.twimg.com/profile_images/1653831930/medium-1321548718_normal.png', u'profile_sidebar_fill_color': u'EFEFEF', u'entities': {u'url': {u'urls': [{u'url': u'http://t.co/SlAaDUVc4t', u'indices': [0, 22], u'expanded_url': u'http://about.me/toddsullivan', u'display_url': u'about.me/toddsullivan'}]}, u'description': {u'urls': [{u'url': u'http://t.co/RuBfeQ2BEk', u'indices': [48, 70], u'expanded_url': u'http://www.about.me/toddsullivan', u'display_url': u'about.me/toddsullivan'}]}}, u'followers_count': 16978, u'profile_sidebar_border_color': u'FFFFFF', u'id_str': u'14133912', u'profile_background_color': u'131516', u'listed_count': 620, u'is_translation_enabled': False, u'utc_offset': -14400, u'statuses_count': 51688, u'description': u'Hedge Fund manager, blogger and angel investor  http://t.co/RuBfeQ2BEk', u'friends_count': 466, u'location': u'\\xdcT: 43.656975,-70.283535', u'profile_link_color': u'126929', u'profile_image_url': u'http://pbs.twimg.com/profile_images/1653831930/medium-1321548718_normal.png', u'following': False, u'geo_enabled': False, u'profile_banner_url': u'https://pbs.twimg.com/profile_banners/14133912/1400074608', u'profile_background_image_url': u'http://abs.twimg.com/images/themes/theme14/bg.gif', u'screen_name': u'ToddSullivan', u'lang': u'en', u'profile_background_tile': True, u'favourites_count': 58, u'name': u'Todd Sullivan', u'notifications': False, u'url': u'http://t.co/SlAaDUVc4t', u'created_at': u'Wed Mar 12 17:53:27 +0000 2008', u'contributors_enabled': False, u'time_zone': u'Eastern Time (US & Canada)', u'protected': False, u'default_profile': False, u'is_translator': False}, time_zone=u'Eastern Time (US & Canada)', id=14133912, _api=<tweepy.api.API object at 0x10ce9e090>, verified=False, profile_text_color=u'333333', profile_image_url_https=u'https://pbs.twimg.com/profile_images/1653831930/medium-1321548718_normal.png', profile_sidebar_fill_color=u'EFEFEF', is_translator=False, geo_enabled=False, entities={u'url': {u'urls': [{u'url': u'http://t.co/SlAaDUVc4t', u'indices': [0, 22], u'expanded_url': u'http://about.me/toddsullivan', u'display_url': u'about.me/toddsullivan'}]}, u'description': {u'urls': [{u'url': u'http://t.co/RuBfeQ2BEk', u'indices': [48, 70], u'expanded_url': u'http://www.about.me/toddsullivan', u'display_url': u'about.me/toddsullivan'}]}}, followers_count=16978, protected=False, id_str=u'14133912', default_profile_image=False, listed_count=620, lang=u'en', utc_offset=-14400, statuses_count=51688, description=u'Hedge Fund manager, blogger and angel investor  http://t.co/RuBfeQ2BEk', friends_count=466, profile_link_color=u'126929', profile_image_url=u'http://pbs.twimg.com/profile_images/1653831930/medium-1321548718_normal.png', notifications=False, profile_background_image_url_https=u'https://abs.twimg.com/images/themes/theme14/bg.gif', profile_background_color=u'131516', profile_banner_url=u'https://pbs.twimg.com/profile_banners/14133912/1400074608', profile_background_image_url=u'http://abs.twimg.com/images/themes/theme14/bg.gif', name=u'Todd Sullivan', is_translation_enabled=False, profile_background_tile=True, favourites_count=58, screen_name=u'ToddSullivan', url=u'http://t.co/SlAaDUVc4t', created_at=datetime.datetime(2008, 3, 12, 17, 53, 27), contributors_enabled=False, location=u'\\xdcT: 43.656975,-70.283535', profile_sidebar_border_color=u'FFFFFF', default_profile=False, following=False), _json={u'contributors': None, u'truncated': False, u'text': u'Judge slams US government over MetLife \\u2018too big to fail\\u2019 decision - https://t.co/ctTvDCtYa0 $AIG $MET $PRU $GE https://t.co/dTMENtglut', u'is_quote_status': False, u'in_reply_to_status_id': None, u'id': 718146554519953409, u'favorite_count': 6, u'entities': {u'symbols': [{u'indices': [92, 96], u'text': u'AIG'}, {u'indices': [97, 101], u'text': u'MET'}, {u'indices': [102, 106], u'text': u'PRU'}, {u'indices': [107, 110], u'text': u'GE'}], u'user_mentions': [], u'hashtags': [], u'urls': [{u'url': u'https://t.co/ctTvDCtYa0', u'indices': [68, 91], u'expanded_url': u'http://FT.com', u'display_url': u'FT.com'}, {u'url': u'https://t.co/dTMENtglut', u'indices': [111, 134], u'expanded_url': u'http://www.ft.com/intl/cms/s/0/a4fd0cc6-fcdd-11e5-b5f5-070dca6d0a0d.html?ftcamp=crm/email/_2016___04___20160407__/emailalerts/Keyword_alert/product#axzz45ARWzuKN', u'display_url': u'ft.com/intl/cms/s/0/a\\u2026'}]}, u'retweeted': False, u'coordinates': None, u'source': u'<a href=\"http://stocktwits.com\" rel=\"nofollow\">StockTwits Web</a>', u'in_reply_to_screen_name': None, u'in_reply_to_user_id': None, u'retweet_count': 6, u'id_str': u'718146554519953409', u'favorited': False, u'user': {u'follow_request_sent': False, u'has_extended_profile': False, u'profile_use_background_image': False, u'default_profile_image': False, u'id': 14133912, u'profile_background_image_url_https': u'https://abs.twimg.com/images/themes/theme14/bg.gif', u'verified': False, u'profile_text_color': u'333333', u'profile_image_url_https': u'https://pbs.twimg.com/profile_images/1653831930/medium-1321548718_normal.png', u'profile_sidebar_fill_color': u'EFEFEF', u'entities': {u'url': {u'urls': [{u'url': u'http://t.co/SlAaDUVc4t', u'indices': [0, 22], u'expanded_url': u'http://about.me/toddsullivan', u'display_url': u'about.me/toddsullivan'}]}, u'description': {u'urls': [{u'url': u'http://t.co/RuBfeQ2BEk', u'indices': [48, 70], u'expanded_url': u'http://www.about.me/toddsullivan', u'display_url': u'about.me/toddsullivan'}]}}, u'followers_count': 16978, u'profile_sidebar_border_color': u'FFFFFF', u'id_str': u'14133912', u'profile_background_color': u'131516', u'listed_count': 620, u'is_translation_enabled': False, u'utc_offset': -14400, u'statuses_count': 51688, u'description': u'Hedge Fund manager, blogger and angel investor  http://t.co/RuBfeQ2BEk', u'friends_count': 466, u'location': u'\\xdcT: 43.656975,-70.283535', u'profile_link_color': u'126929', u'profile_image_url': u'http://pbs.twimg.com/profile_images/1653831930/medium-1321548718_normal.png', u'following': False, u'geo_enabled': False, u'profile_banner_url': u'https://pbs.twimg.com/profile_banners/14133912/1400074608', u'profile_background_image_url': u'http://abs.twimg.com/images/themes/theme14/bg.gif', u'screen_name': u'ToddSullivan', u'lang': u'en', u'profile_background_tile': True, u'favourites_count': 58, u'name': u'Todd Sullivan', u'notifications': False, u'url': u'http://t.co/SlAaDUVc4t', u'created_at': u'Wed Mar 12 17:53:27 +0000 2008', u'contributors_enabled': False, u'time_zone': u'Eastern Time (US & Canada)', u'protected': False, u'default_profile': False, u'is_translator': False}, u'geo': None, u'in_reply_to_user_id_str': None, u'possibly_sensitive': False, u'lang': u'en', u'created_at': u'Thu Apr 07 18:40:55 +0000 2016', u'in_reply_to_status_id_str': None, u'place': None, u'metadata': {u'iso_language_code': u'en', u'result_type': u'recent'}}, coordinates=None, entities={u'symbols': [{u'indices': [92, 96], u'text': u'AIG'}, {u'indices': [97, 101], u'text': u'MET'}, {u'indices': [102, 106], u'text': u'PRU'}, {u'indices': [107, 110], u'text': u'GE'}], u'user_mentions': [], u'hashtags': [], u'urls': [{u'url': u'https://t.co/ctTvDCtYa0', u'indices': [68, 91], u'expanded_url': u'http://FT.com', u'display_url': u'FT.com'}, {u'url': u'https://t.co/dTMENtglut', u'indices': [111, 134], u'expanded_url': u'http://www.ft.com/intl/cms/s/0/a4fd0cc6-fcdd-11e5-b5f5-070dca6d0a0d.html?ftcamp=crm/email/_2016___04___20160407__/emailalerts/Keyword_alert/product#axzz45ARWzuKN', u'display_url': u'ft.com/intl/cms/s/0/a\\u2026'}]}, in_reply_to_screen_name=None, id_str=u'718146554519953409', retweet_count=6, in_reply_to_user_id=None, favorited=False, source_url=u'http://stocktwits.com', user=User(follow_request_sent=False, has_extended_profile=False, profile_use_background_image=False, _json={u'follow_request_sent': False, u'has_extended_profile': False, u'profile_use_background_image': False, u'default_profile_image': False, u'id': 14133912, u'profile_background_image_url_https': u'https://abs.twimg.com/images/themes/theme14/bg.gif', u'verified': False, u'profile_text_color': u'333333', u'profile_image_url_https': u'https://pbs.twimg.com/profile_images/1653831930/medium-1321548718_normal.png', u'profile_sidebar_fill_color': u'EFEFEF', u'entities': {u'url': {u'urls': [{u'url': u'http://t.co/SlAaDUVc4t', u'indices': [0, 22], u'expanded_url': u'http://about.me/toddsullivan', u'display_url': u'about.me/toddsullivan'}]}, u'description': {u'urls': [{u'url': u'http://t.co/RuBfeQ2BEk', u'indices': [48, 70], u'expanded_url': u'http://www.about.me/toddsullivan', u'display_url': u'about.me/toddsullivan'}]}}, u'followers_count': 16978, u'profile_sidebar_border_color': u'FFFFFF', u'id_str': u'14133912', u'profile_background_color': u'131516', u'listed_count': 620, u'is_translation_enabled': False, u'utc_offset': -14400, u'statuses_count': 51688, u'description': u'Hedge Fund manager, blogger and angel investor  http://t.co/RuBfeQ2BEk', u'friends_count': 466, u'location': u'\\xdcT: 43.656975,-70.283535', u'profile_link_color': u'126929', u'profile_image_url': u'http://pbs.twimg.com/profile_images/1653831930/medium-1321548718_normal.png', u'following': False, u'geo_enabled': False, u'profile_banner_url': u'https://pbs.twimg.com/profile_banners/14133912/1400074608', u'profile_background_image_url': u'http://abs.twimg.com/images/themes/theme14/bg.gif', u'screen_name': u'ToddSullivan', u'lang': u'en', u'profile_background_tile': True, u'favourites_count': 58, u'name': u'Todd Sullivan', u'notifications': False, u'url': u'http://t.co/SlAaDUVc4t', u'created_at': u'Wed Mar 12 17:53:27 +0000 2008', u'contributors_enabled': False, u'time_zone': u'Eastern Time (US & Canada)', u'protected': False, u'default_profile': False, u'is_translator': False}, time_zone=u'Eastern Time (US & Canada)', id=14133912, _api=<tweepy.api.API object at 0x10ce9e090>, verified=False, profile_text_color=u'333333', profile_image_url_https=u'https://pbs.twimg.com/profile_images/1653831930/medium-1321548718_normal.png', profile_sidebar_fill_color=u'EFEFEF', is_translator=False, geo_enabled=False, entities={u'url': {u'urls': [{u'url': u'http://t.co/SlAaDUVc4t', u'indices': [0, 22], u'expanded_url': u'http://about.me/toddsullivan', u'display_url': u'about.me/toddsullivan'}]}, u'description': {u'urls': [{u'url': u'http://t.co/RuBfeQ2BEk', u'indices': [48, 70], u'expanded_url': u'http://www.about.me/toddsullivan', u'display_url': u'about.me/toddsullivan'}]}}, followers_count=16978, protected=False, id_str=u'14133912', default_profile_image=False, listed_count=620, lang=u'en', utc_offset=-14400, statuses_count=51688, description=u'Hedge Fund manager, blogger and angel investor  http://t.co/RuBfeQ2BEk', friends_count=466, profile_link_color=u'126929', profile_image_url=u'http://pbs.twimg.com/profile_images/1653831930/medium-1321548718_normal.png', notifications=False, profile_background_image_url_https=u'https://abs.twimg.com/images/themes/theme14/bg.gif', profile_background_color=u'131516', profile_banner_url=u'https://pbs.twimg.com/profile_banners/14133912/1400074608', profile_background_image_url=u'http://abs.twimg.com/images/themes/theme14/bg.gif', name=u'Todd Sullivan', is_translation_enabled=False, profile_background_tile=True, favourites_count=58, screen_name=u'ToddSullivan', url=u'http://t.co/SlAaDUVc4t', created_at=datetime.datetime(2008, 3, 12, 17, 53, 27), contributors_enabled=False, location=u'\\xdcT: 43.656975,-70.283535', profile_sidebar_border_color=u'FFFFFF', default_profile=False, following=False), geo=None, in_reply_to_user_id_str=None, possibly_sensitive=False, lang=u'en', created_at=datetime.datetime(2016, 4, 7, 18, 40, 55), in_reply_to_status_id_str=None, place=None, source=u'StockTwits Web', retweeted=False, metadata={u'iso_language_code': u'en', u'result_type': u'recent'}), source_url=u'http://twitter.com/download/iphone', user=User(follow_request_sent=False, has_extended_profile=False, profile_use_background_image=True, _json={u'follow_request_sent': False, u'has_extended_profile': False, u'profile_use_background_image': True, u'default_profile_image': False, u'id': 3299285221, u'profile_background_image_url_https': u'https://abs.twimg.com/images/themes/theme1/bg.png', u'verified': False, u'profile_text_color': u'333333', u'profile_image_url_https': u'https://pbs.twimg.com/profile_images/639477327697543171/ehOhIQ2j_normal.jpg', u'profile_sidebar_fill_color': u'DDEEF6', u'entities': {u'description': {u'urls': []}}, u'followers_count': 74, u'profile_sidebar_border_color': u'C0DEED', u'id_str': u'3299285221', u'profile_background_color': u'C0DEED', u'listed_count': 8, u'is_translation_enabled': False, u'utc_offset': None, u'statuses_count': 1374, u'description': u\"The GSE's are a proven model for many decades for the good of the USA, and has not cost the tax payers one penny. Its only flaws is when the gov over reaches.\", u'friends_count': 111, u'location': u'California, USA', u'profile_link_color': u'0084B4', u'profile_image_url': u'http://pbs.twimg.com/profile_images/639477327697543171/ehOhIQ2j_normal.jpg', u'following': False, u'geo_enabled': False, u'profile_banner_url': u'https://pbs.twimg.com/profile_banners/3299285221/1441298251', u'profile_background_image_url': u'http://abs.twimg.com/images/themes/theme1/bg.png', u'screen_name': u'cehunt01', u'lang': u'en', u'profile_background_tile': False, u'favourites_count': 1126, u'name': u'R Hunt', u'notifications': False, u'url': None, u'created_at': u'Tue Jul 28 07:06:59 +0000 2015', u'contributors_enabled': False, u'time_zone': None, u'protected': False, u'default_profile': True, u'is_translator': False}, time_zone=None, id=3299285221, _api=<tweepy.api.API object at 0x10ce9e090>, verified=False, profile_text_color=u'333333', profile_image_url_https=u'https://pbs.twimg.com/profile_images/639477327697543171/ehOhIQ2j_normal.jpg', profile_sidebar_fill_color=u'DDEEF6', is_translator=False, geo_enabled=False, entities={u'description': {u'urls': []}}, followers_count=74, protected=False, id_str=u'3299285221', default_profile_image=False, listed_count=8, lang=u'en', utc_offset=None, statuses_count=1374, description=u\"The GSE's are a proven model for many decades for the good of the USA, and has not cost the tax payers one penny. Its only flaws is when the gov over reaches.\", friends_count=111, profile_link_color=u'0084B4', profile_image_url=u'http://pbs.twimg.com/profile_images/639477327697543171/ehOhIQ2j_normal.jpg', notifications=False, profile_background_image_url_https=u'https://abs.twimg.com/images/themes/theme1/bg.png', profile_background_color=u'C0DEED', profile_banner_url=u'https://pbs.twimg.com/profile_banners/3299285221/1441298251', profile_background_image_url=u'http://abs.twimg.com/images/themes/theme1/bg.png', name=u'R Hunt', is_translation_enabled=False, profile_background_tile=False, favourites_count=1126, screen_name=u'cehunt01', url=None, created_at=datetime.datetime(2015, 7, 28, 7, 6, 59), contributors_enabled=False, location=u'California, USA', profile_sidebar_border_color=u'C0DEED', default_profile=True, following=False), geo=None, in_reply_to_user_id_str=None, possibly_sensitive=False, lang=u'en', created_at=datetime.datetime(2016, 4, 8, 3, 46, 27), in_reply_to_status_id_str=None, place=None, source=u'Twitter for iPhone', retweeted=False, metadata={u'iso_language_code': u'en', u'result_type': u'recent'})"
      ]
     },
     "execution_count": 50,
     "metadata": {},
     "output_type": "execute_result"
    }
   ],
   "source": [
    "# let's take a look at the first one\n",
    "tweets[0]"
   ]
  },
  {
   "cell_type": "code",
   "execution_count": 51,
   "metadata": {
    "collapsed": false
   },
   "outputs": [
    {
     "name": "stdout",
     "output_type": "stream",
     "text": [
      "2016-04-08 03:46:27\n",
      "RT @ToddSullivan: Judge slams US government over MetLife ‘too big to fail’ decision - https://t.co/ctTvDCtYa0 $AIG $MET $PRU $GE https://t.…\n"
     ]
    }
   ],
   "source": [
    "# wrappers come with built in python attributes and methods!\n",
    "print tweets[0].created_at\n",
    "print tweets[0].text"
   ]
  },
  {
   "cell_type": "code",
   "execution_count": 52,
   "metadata": {
    "collapsed": false
   },
   "outputs": [
    {
     "data": {
      "text/plain": [
       "User(follow_request_sent=False, has_extended_profile=False, profile_use_background_image=True, _json={u'follow_request_sent': False, u'has_extended_profile': False, u'profile_use_background_image': True, u'default_profile_image': False, u'id': 3299285221, u'profile_background_image_url_https': u'https://abs.twimg.com/images/themes/theme1/bg.png', u'verified': False, u'profile_text_color': u'333333', u'profile_image_url_https': u'https://pbs.twimg.com/profile_images/639477327697543171/ehOhIQ2j_normal.jpg', u'profile_sidebar_fill_color': u'DDEEF6', u'entities': {u'description': {u'urls': []}}, u'followers_count': 74, u'profile_sidebar_border_color': u'C0DEED', u'id_str': u'3299285221', u'profile_background_color': u'C0DEED', u'listed_count': 8, u'is_translation_enabled': False, u'utc_offset': None, u'statuses_count': 1374, u'description': u\"The GSE's are a proven model for many decades for the good of the USA, and has not cost the tax payers one penny. Its only flaws is when the gov over reaches.\", u'friends_count': 111, u'location': u'California, USA', u'profile_link_color': u'0084B4', u'profile_image_url': u'http://pbs.twimg.com/profile_images/639477327697543171/ehOhIQ2j_normal.jpg', u'following': False, u'geo_enabled': False, u'profile_banner_url': u'https://pbs.twimg.com/profile_banners/3299285221/1441298251', u'profile_background_image_url': u'http://abs.twimg.com/images/themes/theme1/bg.png', u'screen_name': u'cehunt01', u'lang': u'en', u'profile_background_tile': False, u'favourites_count': 1126, u'name': u'R Hunt', u'notifications': False, u'url': None, u'created_at': u'Tue Jul 28 07:06:59 +0000 2015', u'contributors_enabled': False, u'time_zone': None, u'protected': False, u'default_profile': True, u'is_translator': False}, time_zone=None, id=3299285221, _api=<tweepy.api.API object at 0x10ce9e090>, verified=False, profile_text_color=u'333333', profile_image_url_https=u'https://pbs.twimg.com/profile_images/639477327697543171/ehOhIQ2j_normal.jpg', profile_sidebar_fill_color=u'DDEEF6', is_translator=False, geo_enabled=False, entities={u'description': {u'urls': []}}, followers_count=74, protected=False, id_str=u'3299285221', default_profile_image=False, listed_count=8, lang=u'en', utc_offset=None, statuses_count=1374, description=u\"The GSE's are a proven model for many decades for the good of the USA, and has not cost the tax payers one penny. Its only flaws is when the gov over reaches.\", friends_count=111, profile_link_color=u'0084B4', profile_image_url=u'http://pbs.twimg.com/profile_images/639477327697543171/ehOhIQ2j_normal.jpg', notifications=False, profile_background_image_url_https=u'https://abs.twimg.com/images/themes/theme1/bg.png', profile_background_color=u'C0DEED', profile_banner_url=u'https://pbs.twimg.com/profile_banners/3299285221/1441298251', profile_background_image_url=u'http://abs.twimg.com/images/themes/theme1/bg.png', name=u'R Hunt', is_translation_enabled=False, profile_background_tile=False, favourites_count=1126, screen_name=u'cehunt01', url=None, created_at=datetime.datetime(2015, 7, 28, 7, 6, 59), contributors_enabled=False, location=u'California, USA', profile_sidebar_border_color=u'C0DEED', default_profile=True, following=False)"
      ]
     },
     "execution_count": 52,
     "metadata": {},
     "output_type": "execute_result"
    }
   ],
   "source": [
    "# the author is an object in and of itself\n",
    "tweets[0].author"
   ]
  },
  {
   "cell_type": "code",
   "execution_count": 53,
   "metadata": {
    "collapsed": false
   },
   "outputs": [
    {
     "name": "stdout",
     "output_type": "stream",
     "text": [
      "cehunt01\n",
      "http://pbs.twimg.com/profile_images/639477327697543171/ehOhIQ2j_normal.jpg\n"
     ]
    }
   ],
   "source": [
    "# the author's handle\n",
    "print tweets[0].author.screen_name\n",
    "print tweets[0].author.profile_image_url"
   ]
  },
  {
   "cell_type": "markdown",
   "metadata": {},
   "source": [
    "<img src=\"http://pbs.twimg.com/profile_images/620690331416178688/lzrH--bM_normal.jpg\">"
   ]
  },
  {
   "cell_type": "code",
   "execution_count": 54,
   "metadata": {
    "collapsed": false
   },
   "outputs": [
    {
     "name": "stdout",
     "output_type": "stream",
     "text": [
      "beginning live feed....\n",
      "@AshhBashxo at 2016-04-07 20:51:04: I was @ starbucks waiting in line so I went on tumblr and i guess im used to seeing porn on my dash that when it was my turn to order the with 610 followers\n",
      "\n",
      "@T_Jigga_ at 2016-04-07 20:51:05: RT @starwars: Its here. The official teaser trailer for ROGUE ONE: A STAR WARS STORY. #RogueOne\n",
      "https://t.co/xRvI5eVapf with 841 followers\n",
      "\n",
      "@eltiporaro at 2016-04-07 20:51:05: Parece que #RogueOne ser la verdadera precuela decente de #StarWars. https://t.co/DDHBDwaXVw with 630 followers\n",
      "\n",
      "@gizitips at 2016-04-07 20:51:07: Starbucks akan Segera Membuka Kafe Terbesar di New York: Bagi para pecinta kopi, pastinya sudah mengenal kafe... https://t.co/R3edbVS3rR with 9110 followers\n",
      "\n",
      "@Jeeks612 at 2016-04-07 20:51:08: RT @starwars: Its here. The official teaser trailer for ROGUE ONE: A STAR WARS STORY. #RogueOne\n",
      "https://t.co/xRvI5eVapf with 527 followers\n",
      "\n",
      "@infokulinercom at 2016-04-07 20:51:08: Starbucks akan Segera Membuka Kafe Terbesar di New York https://t.co/uQziopgeJg with 328 followers\n",
      "\n",
      "@RahasiaHerbal at 2016-04-07 20:51:08: Starbucks akan Segera Membuka Kafe Terbesar di New York: Bagi para pecinta kopi, pastinya sudah mengenal kafe... https://t.co/dvqT7KxQG9 with 20 followers\n",
      "\n",
      "@thedeaverfever at 2016-04-07 20:51:09: RT @starwars: Its here. The official teaser trailer for ROGUE ONE: A STAR WARS STORY. #RogueOne\n",
      "https://t.co/xRvI5eVapf with 441 followers\n",
      "\n",
      "@Princess_Anna24 at 2016-04-07 20:51:09: @xGerkenx taking you to this movie will be my only Christmas gift to you https://t.co/5M1iHXqFhV with 330 followers\n",
      "\n",
      "@KaitIyn_V at 2016-04-07 20:51:10: I LAUGHED SO HARD LMAAOOO https://t.co/FmEdLm5vcx with 323 followers\n",
      "\n",
      "@JualCookies at 2016-04-07 20:51:10: simak nih tuips &gt;&gt; Starbucks akan Segera Membuka Kafe Terbesar di New York: Bagi para pecinta kopi, pastinya s... https://t.co/cfD685MFF1 with 22 followers\n",
      "\n",
      "@cupcakeslucu at 2016-04-07 20:51:10: info kuliner : Starbucks akan Segera Membuka Kafe Terbesar di New York https://t.co/jU8khDDApL with 41 followers\n",
      "\n",
      "@gizzystevenf at 2016-04-07 20:51:10: #asktbd do you like Starbucks?and if so what's your fav drink? with 213 followers\n",
      "\n",
      "@GiftCard_Coupon at 2016-04-07 20:51:10: #Gift #Card Mint Starbucks gift card - Florida 2011 #Coupon #BuyNow https://t.co/5QbRHDQBPr https://t.co/j6NXZHfnhv with 320 followers\n",
      "\n",
      "@belispaghetti at 2016-04-07 20:51:11: Starbucks akan Segera Membuka Kafe Terbesar di New York: Bagi para pecinta kopi, pastinya sudah mengenal kafe... https://t.co/DX393hrOIX with 570 followers\n",
      "\n",
      "@corbindbarron95 at 2016-04-07 20:51:12: RT @starwars: \"A major weapons test is imminent. We need to know what it is and how to destroy it. - Mon Mothma #RogueOne https://t.co/gb3 with 1252 followers\n",
      "\n",
      "@tweetneraka at 2016-04-07 20:51:12: Starbucks akan Segera Membuka Kafe Terbesar di New York: Bagi para pecinta kopi, pastinya sudah mengenal kafe... https://t.co/MeHoRlv50S with 14 followers\n",
      "\n",
      "@oldiesmexico at 2016-04-07 20:51:13: *HIT Mariana Garza - Alcanzar Una Estrella en https://t.co/x2k7dKhKGe #FelizJueves #DiaMundialdelaSalud #WorldHealthDay #RogueOne with 1833 followers\n",
      "\n",
      "@IndomilkId at 2016-04-07 20:51:13: Starbucks akan Segera Membuka Kafe Terbesar di New York: Bagi para pecinta kopi, pastinya sudah mengenal kafe... https://t.co/lA5y83S5Ke with 35 followers\n",
      "\n",
      "@kucekID at 2016-04-07 20:51:13: Starbucks akan Segera Membuka Kafe Terbesar di New York: Bagi para pecinta kopi, pastinya sudah mengenal kafe... https://t.co/rfQHZQGAOe with 38 followers\n",
      "\n",
      "@Moh_Asrori at 2016-04-07 20:51:14: #Food Starbucks akan Segera Membuka Kafe Terbesar di New York https://t.co/mgPjWRvcCF #SVB with 4157 followers\n",
      "\n",
      "@Abdun_muchlis12 at 2016-04-07 20:51:15: #Food Starbucks akan Segera Membuka Kafe Terbesar di New York https://t.co/BzkJgvKUzL #SVB with 224 followers\n",
      "\n",
      "@JOYCEON__ at 2016-04-07 20:51:15: RT @starwars: Its here. The official teaser trailer for ROGUE ONE: A STAR WARS STORY. #RogueOne\n",
      "https://t.co/xRvI5eVapf with 28 followers\n",
      "\n",
      "@wulandari4des at 2016-04-07 20:51:15: Starbucks akan Segera Membuka Kafe Terbesar di New York: Bagi para pecinta kopi, pastinya sudah mengenal kafe... https://t.co/QkYhD1hEcC with 4 followers\n",
      "\n",
      "@DidiMardiana1 at 2016-04-07 20:51:15: Starbucks akan Segera Membuka Kafe Terbesar di New York: Bagi para pecinta kopi, pastinya sudah mengenal kafe... https://t.co/NbFJm9TFh7 with 184 followers\n",
      "\n",
      "@lurk_fest at 2016-04-07 20:51:15: RT @HamillHimself: Pretty sure I don't have any lines in this one either #RogueWonderful     #HurryUpDecember #ReturnOfTheATATS #WOWZA! htt with 257 followers\n",
      "\n",
      "@sharing_ai at 2016-04-07 20:51:16: #DetikFood Starbucks akan Segera Membuka Kafe Terbesar di New York: Bagi para pecinta kopi, pastinya sudah men... https://t.co/yTLeAh1w3B with 235 followers\n",
      "\n",
      "@KevinNordeste at 2016-04-07 20:51:16: RT @HamillHimself: Pretty sure I don't have any lines in this one either #RogueWonderful     #HurryUpDecember #ReturnOfTheATATS #WOWZA! htt with 2070 followers\n",
      "\n",
      "@CALMER_CULINARY at 2016-04-07 20:51:17: Starbucks akan Segera Membuka Kafe Terbesar di New York: Bagi para pecinta kopi, pastinya sudah me... https://t.co/guSf1yjRQ5 #infoCALMER with 333 followers\n",
      "\n",
      "@sharing_ai at 2016-04-07 20:51:17: #DetikFood Starbucks akan Segera Membuka Kafe Terbesar di New York: Bagi para pecinta kopi, pastinya sudah men... https://t.co/RuUPvxeaxz with 235 followers\n",
      "\n",
      "@TulungagungFood at 2016-04-07 20:51:17: Starbucks akan Segera Membuka Kafe Terbesar di New York: Bagi para pecinta kopi, pastinya sudah mengenal kafe... https://t.co/RissRivINW with 1497 followers\n",
      "\n",
      "@jolinahelsing at 2016-04-07 20:51:17: RT @Starbucks: Exit: rain clouds. Enter: coffee clouds.\n",
      "#ColdBrew https://t.co/QaF1tuzDZt with 610 followers\n",
      "\n",
      "@Akicatter at 2016-04-07 20:51:17: Oh no a female lead! The horror!  Seriously grow up ppl. Women can exist in strong roles without it being a feminist movement #RogueOne with 15 followers\n",
      "\n",
      "@Cine_Inminente at 2016-04-07 20:51:18: Cul fue escena favorita del primer trailer de #RogueOne?\n",
      "#StarWars #MonMothma #JynErso https://t.co/hvpuGNSBVP with 93 followers\n",
      "\n",
      "@sekilasinfo17 at 2016-04-07 20:51:18: Starbucks akan Segera Membuka Kafe Terbesar di New York: Bagi para pecinta kopi, pastinya sudah mengenal kafe... https://t.co/lyr4xRq60A with 711 followers\n",
      "\n",
      "@mariodarmanto at 2016-04-07 20:51:18: Starbucks akan Segera Membuka Kafe Terbesar di New York: Bagi para pecinta kopi, pastinya sudah mengenal kafe... https://t.co/KFVI3IfKR9 with 296 followers\n",
      "\n",
      "@Diana_Aisah at 2016-04-07 20:51:19: Starbucks akan Segera Membuka Kafe Terbesar di New York: Bagi para pecinta kopi, pastinya sudah mengenal kafe... https://t.co/PbWtggdvtk with 1332 followers\n",
      "\n"
     ]
    },
    {
     "ename": "KeyboardInterrupt",
     "evalue": "",
     "output_type": "error",
     "traceback": [
      "\u001b[0;31m---------------------------------------------------------------------------\u001b[0m",
      "\u001b[0;31mKeyboardInterrupt\u001b[0m                         Traceback (most recent call last)",
      "\u001b[0;32m<ipython-input-54-f30f3a1e610c>\u001b[0m in \u001b[0;36m<module>\u001b[0;34m()\u001b[0m\n\u001b[1;32m     29\u001b[0m     \u001b[0mstream\u001b[0m\u001b[0;34m.\u001b[0m\u001b[0mfilter\u001b[0m\u001b[0;34m(\u001b[0m\u001b[0mtrack\u001b[0m\u001b[0;34m=\u001b[0m\u001b[0mtags_to_follow\u001b[0m\u001b[0;34m)\u001b[0m\u001b[0;34m\u001b[0m\u001b[0m\n\u001b[1;32m     30\u001b[0m \u001b[0;34m\u001b[0m\u001b[0m\n\u001b[0;32m---> 31\u001b[0;31m \u001b[0mbegin_live_feed\u001b[0m\u001b[0;34m(\u001b[0m\u001b[0;34m[\u001b[0m\u001b[0;34m'#rogueone'\u001b[0m\u001b[0;34m,\u001b[0m \u001b[0;34m'starbucks'\u001b[0m\u001b[0;34m]\u001b[0m\u001b[0;34m)\u001b[0m\u001b[0;34m\u001b[0m\u001b[0m\n\u001b[0m\u001b[1;32m     32\u001b[0m \u001b[0;31m# this is an example use, if you create a list of words and phrases,\u001b[0m\u001b[0;34m\u001b[0m\u001b[0;34m\u001b[0m\u001b[0m\n\u001b[1;32m     33\u001b[0m \u001b[0;31m# a live stream of tweets about them will show up\u001b[0m\u001b[0;34m\u001b[0m\u001b[0;34m\u001b[0m\u001b[0m\n",
      "\u001b[0;32m<ipython-input-54-f30f3a1e610c>\u001b[0m in \u001b[0;36mbegin_live_feed\u001b[0;34m(tags_to_follow)\u001b[0m\n\u001b[1;32m     27\u001b[0m     \u001b[0mauth\u001b[0m\u001b[0;34m.\u001b[0m\u001b[0mset_access_token\u001b[0m\u001b[0;34m(\u001b[0m\u001b[0maccess_token\u001b[0m\u001b[0;34m,\u001b[0m \u001b[0maccess_secret\u001b[0m\u001b[0;34m)\u001b[0m\u001b[0;34m\u001b[0m\u001b[0m\n\u001b[1;32m     28\u001b[0m     \u001b[0mstream\u001b[0m \u001b[0;34m=\u001b[0m \u001b[0mtweepy\u001b[0m\u001b[0;34m.\u001b[0m\u001b[0mStream\u001b[0m\u001b[0;34m(\u001b[0m\u001b[0mauth\u001b[0m\u001b[0;34m,\u001b[0m \u001b[0ml\u001b[0m\u001b[0;34m)\u001b[0m\u001b[0;34m\u001b[0m\u001b[0m\n\u001b[0;32m---> 29\u001b[0;31m     \u001b[0mstream\u001b[0m\u001b[0;34m.\u001b[0m\u001b[0mfilter\u001b[0m\u001b[0;34m(\u001b[0m\u001b[0mtrack\u001b[0m\u001b[0;34m=\u001b[0m\u001b[0mtags_to_follow\u001b[0m\u001b[0;34m)\u001b[0m\u001b[0;34m\u001b[0m\u001b[0m\n\u001b[0m\u001b[1;32m     30\u001b[0m \u001b[0;34m\u001b[0m\u001b[0m\n\u001b[1;32m     31\u001b[0m \u001b[0mbegin_live_feed\u001b[0m\u001b[0;34m(\u001b[0m\u001b[0;34m[\u001b[0m\u001b[0;34m'#rogueone'\u001b[0m\u001b[0;34m,\u001b[0m \u001b[0;34m'starbucks'\u001b[0m\u001b[0;34m]\u001b[0m\u001b[0;34m)\u001b[0m\u001b[0;34m\u001b[0m\u001b[0m\n",
      "\u001b[0;32m/Library/Frameworks/Python.framework/Versions/2.7/lib/python2.7/site-packages/tweepy/streaming.pyc\u001b[0m in \u001b[0;36mfilter\u001b[0;34m(self, follow, track, async, locations, stall_warnings, languages, encoding)\u001b[0m\n\u001b[1;32m    426\u001b[0m         \u001b[0mself\u001b[0m\u001b[0;34m.\u001b[0m\u001b[0msession\u001b[0m\u001b[0;34m.\u001b[0m\u001b[0mparams\u001b[0m \u001b[0;34m=\u001b[0m \u001b[0;34m{\u001b[0m\u001b[0;34m'delimited'\u001b[0m\u001b[0;34m:\u001b[0m \u001b[0;34m'length'\u001b[0m\u001b[0;34m}\u001b[0m\u001b[0;34m\u001b[0m\u001b[0m\n\u001b[1;32m    427\u001b[0m         \u001b[0mself\u001b[0m\u001b[0;34m.\u001b[0m\u001b[0mhost\u001b[0m \u001b[0;34m=\u001b[0m \u001b[0;34m'stream.twitter.com'\u001b[0m\u001b[0;34m\u001b[0m\u001b[0m\n\u001b[0;32m--> 428\u001b[0;31m         \u001b[0mself\u001b[0m\u001b[0;34m.\u001b[0m\u001b[0m_start\u001b[0m\u001b[0;34m(\u001b[0m\u001b[0masync\u001b[0m\u001b[0;34m)\u001b[0m\u001b[0;34m\u001b[0m\u001b[0m\n\u001b[0m\u001b[1;32m    429\u001b[0m \u001b[0;34m\u001b[0m\u001b[0m\n\u001b[1;32m    430\u001b[0m     def sitestream(self, follow, stall_warnings=False,\n",
      "\u001b[0;32m/Library/Frameworks/Python.framework/Versions/2.7/lib/python2.7/site-packages/tweepy/streaming.pyc\u001b[0m in \u001b[0;36m_start\u001b[0;34m(self, async)\u001b[0m\n\u001b[1;32m    344\u001b[0m             \u001b[0mself\u001b[0m\u001b[0;34m.\u001b[0m\u001b[0m_thread\u001b[0m\u001b[0;34m.\u001b[0m\u001b[0mstart\u001b[0m\u001b[0;34m(\u001b[0m\u001b[0;34m)\u001b[0m\u001b[0;34m\u001b[0m\u001b[0m\n\u001b[1;32m    345\u001b[0m         \u001b[0;32melse\u001b[0m\u001b[0;34m:\u001b[0m\u001b[0;34m\u001b[0m\u001b[0m\n\u001b[0;32m--> 346\u001b[0;31m             \u001b[0mself\u001b[0m\u001b[0;34m.\u001b[0m\u001b[0m_run\u001b[0m\u001b[0;34m(\u001b[0m\u001b[0;34m)\u001b[0m\u001b[0;34m\u001b[0m\u001b[0m\n\u001b[0m\u001b[1;32m    347\u001b[0m \u001b[0;34m\u001b[0m\u001b[0m\n\u001b[1;32m    348\u001b[0m     \u001b[0;32mdef\u001b[0m \u001b[0mon_closed\u001b[0m\u001b[0;34m(\u001b[0m\u001b[0mself\u001b[0m\u001b[0;34m,\u001b[0m \u001b[0mresp\u001b[0m\u001b[0;34m)\u001b[0m\u001b[0;34m:\u001b[0m\u001b[0;34m\u001b[0m\u001b[0m\n",
      "\u001b[0;32m/Library/Frameworks/Python.framework/Versions/2.7/lib/python2.7/site-packages/tweepy/streaming.pyc\u001b[0m in \u001b[0;36m_run\u001b[0;34m(self)\u001b[0m\n\u001b[1;32m    253\u001b[0m                     \u001b[0mself\u001b[0m\u001b[0;34m.\u001b[0m\u001b[0msnooze_time\u001b[0m \u001b[0;34m=\u001b[0m \u001b[0mself\u001b[0m\u001b[0;34m.\u001b[0m\u001b[0msnooze_time_step\u001b[0m\u001b[0;34m\u001b[0m\u001b[0m\n\u001b[1;32m    254\u001b[0m                     \u001b[0mself\u001b[0m\u001b[0;34m.\u001b[0m\u001b[0mlistener\u001b[0m\u001b[0;34m.\u001b[0m\u001b[0mon_connect\u001b[0m\u001b[0;34m(\u001b[0m\u001b[0;34m)\u001b[0m\u001b[0;34m\u001b[0m\u001b[0m\n\u001b[0;32m--> 255\u001b[0;31m                     \u001b[0mself\u001b[0m\u001b[0;34m.\u001b[0m\u001b[0m_read_loop\u001b[0m\u001b[0;34m(\u001b[0m\u001b[0mresp\u001b[0m\u001b[0;34m)\u001b[0m\u001b[0;34m\u001b[0m\u001b[0m\n\u001b[0m\u001b[1;32m    256\u001b[0m             \u001b[0;32mexcept\u001b[0m \u001b[0;34m(\u001b[0m\u001b[0mTimeout\u001b[0m\u001b[0;34m,\u001b[0m \u001b[0mssl\u001b[0m\u001b[0;34m.\u001b[0m\u001b[0mSSLError\u001b[0m\u001b[0;34m)\u001b[0m \u001b[0;32mas\u001b[0m \u001b[0mexc\u001b[0m\u001b[0;34m:\u001b[0m\u001b[0;34m\u001b[0m\u001b[0m\n\u001b[1;32m    257\u001b[0m                 \u001b[0;31m# This is still necessary, as a SSLError can actually be\u001b[0m\u001b[0;34m\u001b[0m\u001b[0;34m\u001b[0m\u001b[0m\n",
      "\u001b[0;32m/Library/Frameworks/Python.framework/Versions/2.7/lib/python2.7/site-packages/tweepy/streaming.pyc\u001b[0m in \u001b[0;36m_read_loop\u001b[0;34m(self, resp)\u001b[0m\n\u001b[1;32m    296\u001b[0m             \u001b[0mlength\u001b[0m \u001b[0;34m=\u001b[0m \u001b[0;36m0\u001b[0m\u001b[0;34m\u001b[0m\u001b[0m\n\u001b[1;32m    297\u001b[0m             \u001b[0;32mwhile\u001b[0m \u001b[0;32mnot\u001b[0m \u001b[0mresp\u001b[0m\u001b[0;34m.\u001b[0m\u001b[0mraw\u001b[0m\u001b[0;34m.\u001b[0m\u001b[0mclosed\u001b[0m\u001b[0;34m:\u001b[0m\u001b[0;34m\u001b[0m\u001b[0m\n\u001b[0;32m--> 298\u001b[0;31m                 \u001b[0mline\u001b[0m \u001b[0;34m=\u001b[0m \u001b[0mbuf\u001b[0m\u001b[0;34m.\u001b[0m\u001b[0mread_line\u001b[0m\u001b[0;34m(\u001b[0m\u001b[0;34m)\u001b[0m\u001b[0;34m.\u001b[0m\u001b[0mstrip\u001b[0m\u001b[0;34m(\u001b[0m\u001b[0;34m)\u001b[0m\u001b[0;34m\u001b[0m\u001b[0m\n\u001b[0m\u001b[1;32m    299\u001b[0m                 \u001b[0;32mif\u001b[0m \u001b[0;32mnot\u001b[0m \u001b[0mline\u001b[0m\u001b[0;34m:\u001b[0m\u001b[0;34m\u001b[0m\u001b[0m\n\u001b[1;32m    300\u001b[0m                     \u001b[0mself\u001b[0m\u001b[0;34m.\u001b[0m\u001b[0mlistener\u001b[0m\u001b[0;34m.\u001b[0m\u001b[0mkeep_alive\u001b[0m\u001b[0;34m(\u001b[0m\u001b[0;34m)\u001b[0m  \u001b[0;31m# keep-alive new lines are expected\u001b[0m\u001b[0;34m\u001b[0m\u001b[0m\n",
      "\u001b[0;32m/Library/Frameworks/Python.framework/Versions/2.7/lib/python2.7/site-packages/tweepy/streaming.pyc\u001b[0m in \u001b[0;36mread_line\u001b[0;34m(self, sep)\u001b[0m\n\u001b[1;32m    169\u001b[0m             \u001b[0;32melse\u001b[0m\u001b[0;34m:\u001b[0m\u001b[0;34m\u001b[0m\u001b[0m\n\u001b[1;32m    170\u001b[0m                 \u001b[0mstart\u001b[0m \u001b[0;34m=\u001b[0m \u001b[0mlen\u001b[0m\u001b[0;34m(\u001b[0m\u001b[0mself\u001b[0m\u001b[0;34m.\u001b[0m\u001b[0m_buffer\u001b[0m\u001b[0;34m)\u001b[0m\u001b[0;34m\u001b[0m\u001b[0m\n\u001b[0;32m--> 171\u001b[0;31m             \u001b[0mself\u001b[0m\u001b[0;34m.\u001b[0m\u001b[0m_buffer\u001b[0m \u001b[0;34m+=\u001b[0m \u001b[0mself\u001b[0m\u001b[0;34m.\u001b[0m\u001b[0m_stream\u001b[0m\u001b[0;34m.\u001b[0m\u001b[0mread\u001b[0m\u001b[0;34m(\u001b[0m\u001b[0mself\u001b[0m\u001b[0;34m.\u001b[0m\u001b[0m_chunk_size\u001b[0m\u001b[0;34m)\u001b[0m\u001b[0;34m.\u001b[0m\u001b[0mdecode\u001b[0m\u001b[0;34m(\u001b[0m\u001b[0;34m\"ascii\"\u001b[0m\u001b[0;34m)\u001b[0m\u001b[0;34m\u001b[0m\u001b[0m\n\u001b[0m\u001b[1;32m    172\u001b[0m \u001b[0;34m\u001b[0m\u001b[0m\n\u001b[1;32m    173\u001b[0m     \u001b[0;32mdef\u001b[0m \u001b[0m_pop\u001b[0m\u001b[0;34m(\u001b[0m\u001b[0mself\u001b[0m\u001b[0;34m,\u001b[0m \u001b[0mlength\u001b[0m\u001b[0;34m)\u001b[0m\u001b[0;34m:\u001b[0m\u001b[0;34m\u001b[0m\u001b[0m\n",
      "\u001b[0;32m/Library/Frameworks/Python.framework/Versions/2.7/lib/python2.7/site-packages/requests/packages/urllib3/response.pyc\u001b[0m in \u001b[0;36mread\u001b[0;34m(self, amt, decode_content, cache_content)\u001b[0m\n\u001b[1;32m    181\u001b[0m             \u001b[0;32melse\u001b[0m\u001b[0;34m:\u001b[0m\u001b[0;34m\u001b[0m\u001b[0m\n\u001b[1;32m    182\u001b[0m                 \u001b[0mcache_content\u001b[0m \u001b[0;34m=\u001b[0m \u001b[0mFalse\u001b[0m\u001b[0;34m\u001b[0m\u001b[0m\n\u001b[0;32m--> 183\u001b[0;31m                 \u001b[0mdata\u001b[0m \u001b[0;34m=\u001b[0m \u001b[0mself\u001b[0m\u001b[0;34m.\u001b[0m\u001b[0m_fp\u001b[0m\u001b[0;34m.\u001b[0m\u001b[0mread\u001b[0m\u001b[0;34m(\u001b[0m\u001b[0mamt\u001b[0m\u001b[0;34m)\u001b[0m\u001b[0;34m\u001b[0m\u001b[0m\n\u001b[0m\u001b[1;32m    184\u001b[0m                 \u001b[0;32mif\u001b[0m \u001b[0mamt\u001b[0m \u001b[0;34m!=\u001b[0m \u001b[0;36m0\u001b[0m \u001b[0;32mand\u001b[0m \u001b[0;32mnot\u001b[0m \u001b[0mdata\u001b[0m\u001b[0;34m:\u001b[0m  \u001b[0;31m# Platform-specific: Buggy versions of Python.\u001b[0m\u001b[0;34m\u001b[0m\u001b[0m\n\u001b[1;32m    185\u001b[0m                     \u001b[0;31m# Close the connection when no data is returned\u001b[0m\u001b[0;34m\u001b[0m\u001b[0;34m\u001b[0m\u001b[0m\n",
      "\u001b[0;32m/Library/Frameworks/Python.framework/Versions/2.7/lib/python2.7/httplib.pyc\u001b[0m in \u001b[0;36mread\u001b[0;34m(self, amt)\u001b[0m\n\u001b[1;32m    586\u001b[0m \u001b[0;34m\u001b[0m\u001b[0m\n\u001b[1;32m    587\u001b[0m         \u001b[0;32mif\u001b[0m \u001b[0mself\u001b[0m\u001b[0;34m.\u001b[0m\u001b[0mchunked\u001b[0m\u001b[0;34m:\u001b[0m\u001b[0;34m\u001b[0m\u001b[0m\n\u001b[0;32m--> 588\u001b[0;31m             \u001b[0;32mreturn\u001b[0m \u001b[0mself\u001b[0m\u001b[0;34m.\u001b[0m\u001b[0m_read_chunked\u001b[0m\u001b[0;34m(\u001b[0m\u001b[0mamt\u001b[0m\u001b[0;34m)\u001b[0m\u001b[0;34m\u001b[0m\u001b[0m\n\u001b[0m\u001b[1;32m    589\u001b[0m \u001b[0;34m\u001b[0m\u001b[0m\n\u001b[1;32m    590\u001b[0m         \u001b[0;32mif\u001b[0m \u001b[0mamt\u001b[0m \u001b[0;32mis\u001b[0m \u001b[0mNone\u001b[0m\u001b[0;34m:\u001b[0m\u001b[0;34m\u001b[0m\u001b[0m\n",
      "\u001b[0;32m/Library/Frameworks/Python.framework/Versions/2.7/lib/python2.7/httplib.pyc\u001b[0m in \u001b[0;36m_read_chunked\u001b[0;34m(self, amt)\u001b[0m\n\u001b[1;32m    628\u001b[0m         \u001b[0;32mwhile\u001b[0m \u001b[0mTrue\u001b[0m\u001b[0;34m:\u001b[0m\u001b[0;34m\u001b[0m\u001b[0m\n\u001b[1;32m    629\u001b[0m             \u001b[0;32mif\u001b[0m \u001b[0mchunk_left\u001b[0m \u001b[0;32mis\u001b[0m \u001b[0mNone\u001b[0m\u001b[0;34m:\u001b[0m\u001b[0;34m\u001b[0m\u001b[0m\n\u001b[0;32m--> 630\u001b[0;31m                 \u001b[0mline\u001b[0m \u001b[0;34m=\u001b[0m \u001b[0mself\u001b[0m\u001b[0;34m.\u001b[0m\u001b[0mfp\u001b[0m\u001b[0;34m.\u001b[0m\u001b[0mreadline\u001b[0m\u001b[0;34m(\u001b[0m\u001b[0m_MAXLINE\u001b[0m \u001b[0;34m+\u001b[0m \u001b[0;36m1\u001b[0m\u001b[0;34m)\u001b[0m\u001b[0;34m\u001b[0m\u001b[0m\n\u001b[0m\u001b[1;32m    631\u001b[0m                 \u001b[0;32mif\u001b[0m \u001b[0mlen\u001b[0m\u001b[0;34m(\u001b[0m\u001b[0mline\u001b[0m\u001b[0;34m)\u001b[0m \u001b[0;34m>\u001b[0m \u001b[0m_MAXLINE\u001b[0m\u001b[0;34m:\u001b[0m\u001b[0;34m\u001b[0m\u001b[0m\n\u001b[1;32m    632\u001b[0m                     \u001b[0;32mraise\u001b[0m \u001b[0mLineTooLong\u001b[0m\u001b[0;34m(\u001b[0m\u001b[0;34m\"chunk size\"\u001b[0m\u001b[0;34m)\u001b[0m\u001b[0;34m\u001b[0m\u001b[0m\n",
      "\u001b[0;32m/System/Library/Frameworks/Python.framework/Versions/2.7/lib/python2.7/socket.pyc\u001b[0m in \u001b[0;36mreadline\u001b[0;34m(self, size)\u001b[0m\n\u001b[1;32m    478\u001b[0m             \u001b[0;32mwhile\u001b[0m \u001b[0mTrue\u001b[0m\u001b[0;34m:\u001b[0m\u001b[0;34m\u001b[0m\u001b[0m\n\u001b[1;32m    479\u001b[0m                 \u001b[0;32mtry\u001b[0m\u001b[0;34m:\u001b[0m\u001b[0;34m\u001b[0m\u001b[0m\n\u001b[0;32m--> 480\u001b[0;31m                     \u001b[0mdata\u001b[0m \u001b[0;34m=\u001b[0m \u001b[0mself\u001b[0m\u001b[0;34m.\u001b[0m\u001b[0m_sock\u001b[0m\u001b[0;34m.\u001b[0m\u001b[0mrecv\u001b[0m\u001b[0;34m(\u001b[0m\u001b[0mself\u001b[0m\u001b[0;34m.\u001b[0m\u001b[0m_rbufsize\u001b[0m\u001b[0;34m)\u001b[0m\u001b[0;34m\u001b[0m\u001b[0m\n\u001b[0m\u001b[1;32m    481\u001b[0m                 \u001b[0;32mexcept\u001b[0m \u001b[0merror\u001b[0m\u001b[0;34m,\u001b[0m \u001b[0me\u001b[0m\u001b[0;34m:\u001b[0m\u001b[0;34m\u001b[0m\u001b[0m\n\u001b[1;32m    482\u001b[0m                     \u001b[0;32mif\u001b[0m \u001b[0me\u001b[0m\u001b[0;34m.\u001b[0m\u001b[0margs\u001b[0m\u001b[0;34m[\u001b[0m\u001b[0;36m0\u001b[0m\u001b[0;34m]\u001b[0m \u001b[0;34m==\u001b[0m \u001b[0mEINTR\u001b[0m\u001b[0;34m:\u001b[0m\u001b[0;34m\u001b[0m\u001b[0m\n",
      "\u001b[0;32m/System/Library/Frameworks/Python.framework/Versions/2.7/lib/python2.7/ssl.pyc\u001b[0m in \u001b[0;36mrecv\u001b[0;34m(self, buflen, flags)\u001b[0m\n\u001b[1;32m    732\u001b[0m                     \u001b[0;34m\"non-zero flags not allowed in calls to recv() on %s\"\u001b[0m \u001b[0;34m%\u001b[0m\u001b[0;34m\u001b[0m\u001b[0m\n\u001b[1;32m    733\u001b[0m                     self.__class__)\n\u001b[0;32m--> 734\u001b[0;31m             \u001b[0;32mreturn\u001b[0m \u001b[0mself\u001b[0m\u001b[0;34m.\u001b[0m\u001b[0mread\u001b[0m\u001b[0;34m(\u001b[0m\u001b[0mbuflen\u001b[0m\u001b[0;34m)\u001b[0m\u001b[0;34m\u001b[0m\u001b[0m\n\u001b[0m\u001b[1;32m    735\u001b[0m         \u001b[0;32melse\u001b[0m\u001b[0;34m:\u001b[0m\u001b[0;34m\u001b[0m\u001b[0m\n\u001b[1;32m    736\u001b[0m             \u001b[0;32mreturn\u001b[0m \u001b[0mself\u001b[0m\u001b[0;34m.\u001b[0m\u001b[0m_sock\u001b[0m\u001b[0;34m.\u001b[0m\u001b[0mrecv\u001b[0m\u001b[0;34m(\u001b[0m\u001b[0mbuflen\u001b[0m\u001b[0;34m,\u001b[0m \u001b[0mflags\u001b[0m\u001b[0;34m)\u001b[0m\u001b[0;34m\u001b[0m\u001b[0m\n",
      "\u001b[0;32m/System/Library/Frameworks/Python.framework/Versions/2.7/lib/python2.7/ssl.pyc\u001b[0m in \u001b[0;36mread\u001b[0;34m(self, len, buffer)\u001b[0m\n\u001b[1;32m    619\u001b[0m                 \u001b[0mv\u001b[0m \u001b[0;34m=\u001b[0m \u001b[0mself\u001b[0m\u001b[0;34m.\u001b[0m\u001b[0m_sslobj\u001b[0m\u001b[0;34m.\u001b[0m\u001b[0mread\u001b[0m\u001b[0;34m(\u001b[0m\u001b[0mlen\u001b[0m\u001b[0;34m,\u001b[0m \u001b[0mbuffer\u001b[0m\u001b[0;34m)\u001b[0m\u001b[0;34m\u001b[0m\u001b[0m\n\u001b[1;32m    620\u001b[0m             \u001b[0;32melse\u001b[0m\u001b[0;34m:\u001b[0m\u001b[0;34m\u001b[0m\u001b[0m\n\u001b[0;32m--> 621\u001b[0;31m                 \u001b[0mv\u001b[0m \u001b[0;34m=\u001b[0m \u001b[0mself\u001b[0m\u001b[0;34m.\u001b[0m\u001b[0m_sslobj\u001b[0m\u001b[0;34m.\u001b[0m\u001b[0mread\u001b[0m\u001b[0;34m(\u001b[0m\u001b[0mlen\u001b[0m \u001b[0;32mor\u001b[0m \u001b[0;36m1024\u001b[0m\u001b[0;34m)\u001b[0m\u001b[0;34m\u001b[0m\u001b[0m\n\u001b[0m\u001b[1;32m    622\u001b[0m             \u001b[0;32mreturn\u001b[0m \u001b[0mv\u001b[0m\u001b[0;34m\u001b[0m\u001b[0m\n\u001b[1;32m    623\u001b[0m         \u001b[0;32mexcept\u001b[0m \u001b[0mSSLError\u001b[0m \u001b[0;32mas\u001b[0m \u001b[0mx\u001b[0m\u001b[0;34m:\u001b[0m\u001b[0;34m\u001b[0m\u001b[0m\n",
      "\u001b[0;31mKeyboardInterrupt\u001b[0m: "
     ]
    }
   ],
   "source": [
    "'''\n",
    "THE BELOW CODE IS OPTIONAl\n",
    "It creates a stream of a given tag!\n",
    "'''\n",
    "\n",
    "# This is the listener, resposible for receiving data\n",
    "# I will not be covering this in class\n",
    "class StdOutListener(tweepy.StreamListener):\n",
    "    def on_data(self, data):\n",
    "        # Twitter returns data in JSON format - we need to decode it first\n",
    "        decoded = json.loads(data)\n",
    "        #print decoded\n",
    "        time_ =  time.strftime('%Y-%m-%d %H:%M:%S', time.localtime(int(decoded['timestamp_ms']) / 1000))\n",
    "        handle = decoded['user']['screen_name']\n",
    "        tweet_text = decoded['text'].encode('ascii', 'ignore')\n",
    "        num_followers = int(decoded['user']['followers_count'])\n",
    "        # Also, we convert UTF-8 to ASCII ignoring all bad characters sent by users\n",
    "        print '@%s at %s: %s with %d followers' % (handle, time_, tweet_text, num_followers)\n",
    "        print ''\n",
    "        return True\n",
    "    def on_error(self, status):\n",
    "        print status\n",
    "def begin_live_feed(tags_to_follow):\n",
    "    print \"beginning live feed....\"\n",
    "    l = StdOutListener()\n",
    "    auth = tweepy.OAuthHandler(api_key, api_secret)\n",
    "    auth.set_access_token(access_token, access_secret)\n",
    "    stream = tweepy.Stream(auth, l)\n",
    "    stream.filter(track=tags_to_follow)\n",
    "\n",
    "begin_live_feed(['#rogueone', 'starbucks'])\n",
    "# this is an example use, if you create a list of words and phrases, \n",
    "# a live stream of tweets about them will show up\n",
    "\n",
    "# INTERUPT THE KERNEL TO STOP THE MADNESS"
   ]
  },
  {
   "cell_type": "code",
   "execution_count": 40,
   "metadata": {
    "collapsed": false
   },
   "outputs": [
    {
     "data": {
      "text/plain": [
       "'\\nOther considerations when accessing APIs:\\n- Most APIs require you to have an access key (which you should store outside your code)\\n- Most APIs limit the number of API calls you can make (per day, hour, minute, etc.)\\n- Not all APIs are free\\n- Not all APIs are well-documented\\n- Pay attention to the API version\\n\\nPython wrapper is another option for accessing an API:\\n- Set of functions that \"wrap\" the API code for ease of use\\n- Potentially simplifies your code\\n- But, wrapper could have bugs or be out-of-date or poorly documented\\n'"
      ]
     },
     "execution_count": 40,
     "metadata": {},
     "output_type": "execute_result"
    }
   ],
   "source": [
    "'''\n",
    "Other considerations when accessing APIs:\n",
    "- Most APIs require you to have an access key (which you should store outside your code)\n",
    "- Most APIs limit the number of API calls you can make (per day, hour, minute, etc.)\n",
    "- Not all APIs are free\n",
    "- Not all APIs are well-documented\n",
    "- Pay attention to the API version\n",
    "\n",
    "Python wrapper is another option for accessing an API:\n",
    "- Set of functions that \"wrap\" the API code for ease of use\n",
    "- Potentially simplifies your code\n",
    "- But, wrapper could have bugs or be out-of-date or poorly documented\n",
    "'''"
   ]
  },
  {
   "cell_type": "code",
   "execution_count": 42,
   "metadata": {
    "collapsed": false
   },
   "outputs": [
    {
     "data": {
      "text/plain": [
       "u'https://www.facebook.com/login.php?skip_api_login=1&api_key=464891386855067&signed_next=1&next=https%3A%2F%2Fwww.facebook.com%2Fv2.0%2Fdialog%2Foauth%3Fredirect_uri%3Dhttps%253A%252F%252Fwww.facebook.com%252Fconnect%252Flogin_success.html%26scope%3Dbasic_info%252Cemail%252Cpublic_profile%252Cuser_about_me%252Cuser_activities%252Cuser_birthday%252Cuser_education_history%252Cuser_friends%252Cuser_interests%252Cuser_likes%252Cuser_location%252Cuser_photos%252Cuser_relationship_details%26response_type%3Dtoken%26client_id%3D464891386855067%26ret%3Dlogin&cancel_url=https%3A%2F%2Fwww.facebook.com%2Fconnect%2Flogin_success.html%3Ferror%3Daccess_denied%26error_code%3D200%26error_description%3DPermissions%2Berror%26error_reason%3Duser_denied%23_%3D_&display=page&locale=en_US'"
      ]
     },
     "execution_count": 42,
     "metadata": {},
     "output_type": "execute_result"
    }
   ],
   "source": [
    "#### TINDER #####\n",
    "# https://gist.github.com/rtt/10403467\n",
    "\n",
    "link = 'https://www.facebook.com/dialog/oauth?client_id=464891386855067&redirect_uri=https://www.facebook.com/connect/login_success.html&scope=basic_info,email,public_profile,user_about_me,user_activities,user_birthday,user_education_history,user_friends,user_interests,user_likes,user_location,user_photos,user_relationship_details&response_type=token'\n",
    "token_req = requests.get(link, allow_redirects = True)\n",
    "token_req.headers\n",
    "token_req.url"
   ]
  },
  {
   "cell_type": "code",
   "execution_count": null,
   "metadata": {
    "collapsed": false
   },
   "outputs": [],
   "source": []
  },
  {
   "cell_type": "code",
   "execution_count": 59,
   "metadata": {
    "collapsed": true
   },
   "outputs": [],
   "source": [
    "token = 'EAAGm0PX4ZCpsBAA5SXz9TnMkLkXjTZBCG3kwKPM3xNZCTeCvgXjBxu3tszClZAZBtgAnFet4yHYfxDgsZAiprikZBkmu8dva4CommrFMgKfJZCjaYmQgMQIkhiqF4OF1A1Mlx5TkyW0vRNesIPO9WcHhxMDl6c8mONGzcri0yImEAQZDZD'"
   ]
  },
  {
   "cell_type": "code",
   "execution_count": 60,
   "metadata": {
    "collapsed": true
   },
   "outputs": [],
   "source": [
    "facebbok_id = '1342020603'"
   ]
  },
  {
   "cell_type": "code",
   "execution_count": 61,
   "metadata": {
    "collapsed": true
   },
   "outputs": [],
   "source": [
    "r = requests.post('https://api.gotinder.com/auth',\n",
    "                  data = {\n",
    "                  'facebook_token':token,\n",
    "                  'facebook_id':facebbok_id}\n",
    "                  )"
   ]
  },
  {
   "cell_type": "code",
   "execution_count": 62,
   "metadata": {
    "collapsed": false
   },
   "outputs": [
    {
     "data": {
      "text/plain": [
       "200"
      ]
     },
     "execution_count": 62,
     "metadata": {},
     "output_type": "execute_result"
    }
   ],
   "source": [
    "r.status_code"
   ]
  },
  {
   "cell_type": "code",
   "execution_count": 65,
   "metadata": {
    "collapsed": false
   },
   "outputs": [],
   "source": [
    "j = r.json()"
   ]
  },
  {
   "cell_type": "code",
   "execution_count": 66,
   "metadata": {
    "collapsed": true
   },
   "outputs": [],
   "source": [
    "h = {'X-Auth-Token': j['token']}"
   ]
  },
  {
   "cell_type": "code",
   "execution_count": 67,
   "metadata": {
    "collapsed": false
   },
   "outputs": [],
   "source": [
    "recs = requests.get('https://api.gotinder.com/user/recs', headers = h)\n",
    "matches = recs.json()\n"
   ]
  },
  {
   "cell_type": "code",
   "execution_count": 69,
   "metadata": {
    "collapsed": false
   },
   "outputs": [
    {
     "data": {
      "text/plain": [
       "{u'_id': u'570562fc3cbed8bc263390ae',\n",
       " u'badges': [],\n",
       " u'bio': u'I tried nsafinder to test the spring potential in my mattress.  Its ready for tinder now!',\n",
       " u'birth_date': u'1992-10-25T00:00:00.000Z',\n",
       " u'birth_date_info': u'fuzzy birthdate active, not displaying real birth_date',\n",
       " u'common_friend_count': 0,\n",
       " u'common_friends': [],\n",
       " u'common_interests': [],\n",
       " u'common_like_count': 0,\n",
       " u'common_likes': [],\n",
       " u'connection_count': -1,\n",
       " u'distance_mi': 17,\n",
       " u'gender': 1,\n",
       " u'jobs': [],\n",
       " u'name': u'Ashanti',\n",
       " u'photos': [{u'id': u'd5f036fe-1bfc-467b-8ced-9492d5d87551',\n",
       "   u'processedFiles': [{u'height': 640,\n",
       "     u'url': u'http://images.gotinder.com/570562fc3cbed8bc263390ae/640x640_d5f036fe-1bfc-467b-8ced-9492d5d87551.jpg',\n",
       "     u'width': 640},\n",
       "    {u'height': 320,\n",
       "     u'url': u'http://images.gotinder.com/570562fc3cbed8bc263390ae/320x320_d5f036fe-1bfc-467b-8ced-9492d5d87551.jpg',\n",
       "     u'width': 320},\n",
       "    {u'height': 172,\n",
       "     u'url': u'http://images.gotinder.com/570562fc3cbed8bc263390ae/172x172_d5f036fe-1bfc-467b-8ced-9492d5d87551.jpg',\n",
       "     u'width': 172},\n",
       "    {u'height': 84,\n",
       "     u'url': u'http://images.gotinder.com/570562fc3cbed8bc263390ae/84x84_d5f036fe-1bfc-467b-8ced-9492d5d87551.jpg',\n",
       "     u'width': 84}],\n",
       "   u'url': u'http://images.gotinder.com/570562fc3cbed8bc263390ae/d5f036fe-1bfc-467b-8ced-9492d5d87551.jpg'},\n",
       "  {u'id': u'00928012-b1dc-43e7-a6d5-207eb3a2a475',\n",
       "   u'processedFiles': [{u'height': 640,\n",
       "     u'url': u'http://images.gotinder.com/570562fc3cbed8bc263390ae/640x640_00928012-b1dc-43e7-a6d5-207eb3a2a475.jpg',\n",
       "     u'width': 640},\n",
       "    {u'height': 320,\n",
       "     u'url': u'http://images.gotinder.com/570562fc3cbed8bc263390ae/320x320_00928012-b1dc-43e7-a6d5-207eb3a2a475.jpg',\n",
       "     u'width': 320},\n",
       "    {u'height': 172,\n",
       "     u'url': u'http://images.gotinder.com/570562fc3cbed8bc263390ae/172x172_00928012-b1dc-43e7-a6d5-207eb3a2a475.jpg',\n",
       "     u'width': 172},\n",
       "    {u'height': 84,\n",
       "     u'url': u'http://images.gotinder.com/570562fc3cbed8bc263390ae/84x84_00928012-b1dc-43e7-a6d5-207eb3a2a475.jpg',\n",
       "     u'width': 84}],\n",
       "   u'url': u'http://images.gotinder.com/570562fc3cbed8bc263390ae/00928012-b1dc-43e7-a6d5-207eb3a2a475.jpg'},\n",
       "  {u'id': u'a28a836f-17d8-403e-b0c5-794999e2f057',\n",
       "   u'processedFiles': [{u'height': 640,\n",
       "     u'url': u'http://images.gotinder.com/570562fc3cbed8bc263390ae/640x640_a28a836f-17d8-403e-b0c5-794999e2f057.jpg',\n",
       "     u'width': 640},\n",
       "    {u'height': 320,\n",
       "     u'url': u'http://images.gotinder.com/570562fc3cbed8bc263390ae/320x320_a28a836f-17d8-403e-b0c5-794999e2f057.jpg',\n",
       "     u'width': 320},\n",
       "    {u'height': 172,\n",
       "     u'url': u'http://images.gotinder.com/570562fc3cbed8bc263390ae/172x172_a28a836f-17d8-403e-b0c5-794999e2f057.jpg',\n",
       "     u'width': 172},\n",
       "    {u'height': 84,\n",
       "     u'url': u'http://images.gotinder.com/570562fc3cbed8bc263390ae/84x84_a28a836f-17d8-403e-b0c5-794999e2f057.jpg',\n",
       "     u'width': 84}],\n",
       "   u'url': u'http://images.gotinder.com/570562fc3cbed8bc263390ae/a28a836f-17d8-403e-b0c5-794999e2f057.jpg'},\n",
       "  {u'id': u'8935d98d-0b05-468e-9082-551bcf316bd5',\n",
       "   u'processedFiles': [{u'height': 640,\n",
       "     u'url': u'http://images.gotinder.com/570562fc3cbed8bc263390ae/640x640_8935d98d-0b05-468e-9082-551bcf316bd5.jpg',\n",
       "     u'width': 640},\n",
       "    {u'height': 320,\n",
       "     u'url': u'http://images.gotinder.com/570562fc3cbed8bc263390ae/320x320_8935d98d-0b05-468e-9082-551bcf316bd5.jpg',\n",
       "     u'width': 320},\n",
       "    {u'height': 172,\n",
       "     u'url': u'http://images.gotinder.com/570562fc3cbed8bc263390ae/172x172_8935d98d-0b05-468e-9082-551bcf316bd5.jpg',\n",
       "     u'width': 172},\n",
       "    {u'height': 84,\n",
       "     u'url': u'http://images.gotinder.com/570562fc3cbed8bc263390ae/84x84_8935d98d-0b05-468e-9082-551bcf316bd5.jpg',\n",
       "     u'width': 84}],\n",
       "   u'url': u'http://images.gotinder.com/570562fc3cbed8bc263390ae/8935d98d-0b05-468e-9082-551bcf316bd5.jpg'}],\n",
       " u'ping_time': u'2016-04-08T00:37:26.491Z',\n",
       " u'schools': [{u'id': u'91407013457', u'name': u'San Antonio College'}],\n",
       " u'teaser': {u'string': u'San Antonio College', u'type': u'school'},\n",
       " u'uncommon_interests': []}"
      ]
     },
     "execution_count": 69,
     "metadata": {},
     "output_type": "execute_result"
    }
   ],
   "source": [
    "first_match = matches['results'][0]\n",
    "first_match"
   ]
  },
  {
   "cell_type": "code",
   "execution_count": 70,
   "metadata": {
    "collapsed": false
   },
   "outputs": [
    {
     "name": "stdout",
     "output_type": "stream",
     "text": [
      "I tried nsafinder to test the spring potential in my mattress.  Its ready for tinder now!\n",
      "1992-10-25T00:00:00.000Z\n",
      "[]\n",
      "1\n",
      "Ashanti\n",
      "http://images.gotinder.com/570562fc3cbed8bc263390ae/640x640_d5f036fe-1bfc-467b-8ced-9492d5d87551.jpg\n"
     ]
    }
   ],
   "source": [
    "print first_match['bio']\n",
    "print first_match['birth_date']\n",
    "print first_match['common_likes']\n",
    "print first_match['gender']\n",
    "print first_match['name']\n",
    "print first_match['photos'][0]['processedFiles'][0]['url']"
   ]
  },
  {
   "cell_type": "code",
   "execution_count": null,
   "metadata": {
    "collapsed": true
   },
   "outputs": [],
   "source": []
  }
 ],
 "metadata": {
  "kernelspec": {
   "display_name": "Python 2",
   "language": "python",
   "name": "python2"
  },
  "language_info": {
   "codemirror_mode": {
    "name": "ipython",
    "version": 2
   },
   "file_extension": ".py",
   "mimetype": "text/x-python",
   "name": "python",
   "nbconvert_exporter": "python",
   "pygments_lexer": "ipython2",
   "version": "2.7.10"
  }
 },
 "nbformat": 4,
 "nbformat_minor": 0
}
