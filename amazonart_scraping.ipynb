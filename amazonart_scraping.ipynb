{
 "cells": [
  {
   "cell_type": "code",
   "execution_count": 2,
   "metadata": {
    "collapsed": true
   },
   "outputs": [],
   "source": [
    "import requests\n",
    "from bs4 import BeautifulSoup\n",
    "import re\n",
    "import pandas as pd\n",
    "import time\n",
    "import random"
   ]
  },
  {
   "cell_type": "code",
   "execution_count": 16,
   "metadata": {
    "collapsed": true
   },
   "outputs": [],
   "source": [
    "def encodestring(var):\n",
    "    if var is not None:\n",
    "        return var.encode('utf-8')"
   ]
  },
  {
   "cell_type": "code",
   "execution_count": 17,
   "metadata": {
    "collapsed": false
   },
   "outputs": [],
   "source": [
    "def scrapePainting(url):\n",
    "    r = requests.get(url)\n",
    "    print r, url\n",
    "    b = BeautifulSoup(r.text, 'html.parser')\n",
    "    \n",
    "    url_id = r.url.split('/')[-1]\n",
    "    \n",
    "    artist = b.find('a', {'id':'fine-ART-ProductLabelArtistNameLink'})\n",
    "    if artist is not None:\n",
    "        artist = b.find('a', {'id':'fine-ART-ProductLabelArtistNameLink'}).text\n",
    "        \n",
    "    title = b.find('span', {'id': 'fineArtTitle'})\n",
    "    if title is not None:\n",
    "        title = b.find('span', {'id': 'fineArtTitle'}).text\n",
    "        \n",
    "    image = re.findall('http://ecx.images-amazon.com/images/I/.*\\.jpg', r.text)\n",
    "    if image is not None:\n",
    "        image = re.findall('http://ecx.images-amazon.com/images/I/.*\\.jpg', r.text)\n",
    "        \n",
    "    price = b.find('span', {'id': 'priceblock_ourprice'})\n",
    "    if price is not None:\n",
    "        price = b.find('span', {'id': 'priceblock_ourprice'}).text.replace('$','').replace(',', '')\n",
    "        if '.' in price:\n",
    "            price = float(price.replace('.', ''))/100\n",
    "        else:\n",
    "            price = float(price)\n",
    "            \n",
    "    desc = b.find('div', {'id': 'productDescription_feature_div'})\n",
    "    if desc is not None:\n",
    "        desc = b.find('div', {'id': 'productDescription_feature_div'}).getText().replace('\\n','')\n",
    "        \n",
    "    height = None\n",
    "    width = None\n",
    "    size = b.find('span', {'id': 'mnba_buybox_size'})\n",
    "    if size is not None:\n",
    "        size = [a.strip() for a in b.find('span', {'id': 'mnba_buybox_size'}).text.split('x')]\n",
    "        if len(size) == 2:\n",
    "            height = float(size[0].replace('in.','').strip())\n",
    "            width = float(size[1].replace('in.','').strip())\n",
    "            depth = 1.\n",
    "        elif len(size) == 3:\n",
    "            height = float(size[0].replace('in.','').strip())\n",
    "            width = float(size[1].replace('in.','').strip())\n",
    "            depth = float(size[2].replace('in.','').strip())\n",
    "    \n",
    "    size_variations = b.find('div', {'id': 'variation_size_name'})\n",
    "    if size_variations is not None:\n",
    "        size = [a.strip() for a in size_variations.find('span', {'class': \"a-size-base\"}).text.split('x')]\n",
    "        \n",
    "        if len(size) == 2:\n",
    "            height = float(size[0].replace('in.','').strip())\n",
    "            width = float(size[1].replace('in.','').strip())\n",
    "            depth = 1.\n",
    "        elif len(size) == 3:\n",
    "            height = float(size[0].replace('in.','').strip())\n",
    "            width = float(size[1].replace('in.','').strip())\n",
    "            depth = float(size[2].replace('in.','').strip())\n",
    "            \n",
    "        price = size_variations.find('span', {'class': \"a-size-mini\"}).text.replace('$','').replace(',', '')\n",
    "        if '.' in price:\n",
    "            price = float(price.replace('.', ''))/100\n",
    "        else:\n",
    "            price = float(price)\n",
    "    \n",
    "\n",
    "    return {'url_id': encodestring(url_id), 'artist': encodestring(artist), 'title':encodestring(title), 'image': image, 'price': price, \n",
    "            'description':encodestring(desc), 'height': height, 'width': width, 'size':size}"
   ]
  },
  {
   "cell_type": "code",
   "execution_count": 18,
   "metadata": {
    "collapsed": false
   },
   "outputs": [
    {
     "name": "stdout",
     "output_type": "stream",
     "text": [
      "<Response [200]> http://www.amazon.com/17x22-in-Harold-Feinstein-Magnolia/dp/B00E5MTRB2\n"
     ]
    },
    {
     "data": {
      "text/plain": [
       "{'artist': 'Harold Feinstein',\n",
       " 'description': '\"I first began shooting flowers in the mid 80?s. I would go up to the roof of my small Greenwich village studio and hold blossoms up against the sky to see the translucence of the petals. That series of 35mm photographs was entitled Sky Flowers and I had many of them printed as dye transfers and cibachromes. In the late 90?s I began to experiment with digital photography and became one of the first to use a scanner as a camera, which resulted in seven books of large format color photographs. Five of them were of flowers, foliage and plant life. When asked about my technique, I simply reply, \"A prayer of gratitude - for the beauty of the flowers, and the eyes to see them with.\" Prints have a minimum of 0.5\" border on all sides. Generally the color prints are centered on the paper. (ie for paper size 13\"x19\" the image size would be 11\"x11\").',\n",
       " 'height': 13.0,\n",
       " 'image': [u'http://ecx.images-amazon.com/images/I/51CuD4iaMtL._QL70_.jpg',\n",
       "  u'http://ecx.images-amazon.com/images/I/51CuD4iaMtL._QL70_.jpg',\n",
       "  u'http://ecx.images-amazon.com/images/I/51CuD4iaMtL._QL70_.jpg\" data-old-hires=\"http://ecx.images-amazon.com/images/I/71pqBUs8M8L._SL1200_.jpg\" onload=\"this.onload=\\'\\';setCSMReq(\\'af\\');setCSMReq(\\'cf\\');\" class=\"a-dynamic-image a-stretch-horizontal\" id=\"fine-art-landingImage\" data-a-dynamic-image=\"{&quot;http://ecx.images-amazon.com/images/I/71pqBUs8M8L._SX500_.jpg&quot;:[497,500],&quot;http://ecx.images-amazon.com/images/I/71pqBUs8M8L._SY500_.jpg',\n",
       "  u'http://ecx.images-amazon.com/images/I/51CuD4iaMtL._SS58_.jpg',\n",
       "  u'http://ecx.images-amazon.com/images/I/71pqBUs8M8L._SL1200_.jpg\",\"thumb\":\"http://ecx.images-amazon.com/images/I/51CuD4iaMtL._SS58_.jpg\",\"large\":\"http://ecx.images-amazon.com/images/I/51CuD4iaMtL.jpg\",\"main\":{\"http://ecx.images-amazon.com/images/I/71pqBUs8M8L._SX500_.jpg\":[497,500],\"http://ecx.images-amazon.com/images/I/71pqBUs8M8L._SY500_.jpg',\n",
       "  u'http://ecx.images-amazon.com/images/I/318AnTqYCaL.jpg',\n",
       "  u'http://ecx.images-amazon.com/images/I/51CuD4iaMtL.jpg\",\"variant\":\"MAIN\",\"hiRes\":\"http://ecx.images-amazon.com/images/I/71pqBUs8M8L._SL1200_.jpg\",\"thumb\":\"http://ecx.images-amazon.com/images/I/51CuD4iaMtL._SS58_.jpg\",\"main\":{\"http://ecx.images-amazon.com/images/I/71pqBUs8M8L._SY500_.jpg\":[\"500\",\"503\"],\"http://ecx.images-amazon.com/images/I/71pqBUs8M8L._SX500_.jpg\":[\"497\",\"500\"],\"http://ecx.images-amazon.com/images/I/71pqBUs8M8L._SY590_.jpg\":[\"590\",\"593\"]}}],\"17x22 in.\":[{\"large\":\"http://ecx.images-amazon.com/images/I/51CuD4iaMtL.jpg\",\"variant\":\"MAIN\",\"hiRes\":\"http://ecx.images-amazon.com/images/I/71pqBUs8M8L._SL1200_.jpg\",\"thumb\":\"http://ecx.images-amazon.com/images/I/51CuD4iaMtL._SS58_.jpg\",\"main\":{\"http://ecx.images-amazon.com/images/I/71pqBUs8M8L._SY500_.jpg\":[\"500\",\"503\"],\"http://ecx.images-amazon.com/images/I/71pqBUs8M8L._SX500_.jpg\":[\"497\",\"500\"],\"http://ecx.images-amazon.com/images/I/71pqBUs8M8L._SY590_.jpg\":[\"590\",\"593\"]}}],\"30x40 in.\":[{\"large\":\"http://ecx.images-amazon.com/images/I/51CuD4iaMtL.jpg\",\"variant\":\"MAIN\",\"hiRes\":\"http://ecx.images-amazon.com/images/I/71pqBUs8M8L._SL1200_.jpg\",\"thumb\":\"http://ecx.images-amazon.com/images/I/51CuD4iaMtL._SS58_.jpg\",\"main\":{\"http://ecx.images-amazon.com/images/I/71pqBUs8M8L._SY500_.jpg\":[\"500\",\"503\"],\"http://ecx.images-amazon.com/images/I/71pqBUs8M8L._SX500_.jpg\":[\"497\",\"500\"],\"http://ecx.images-amazon.com/images/I/71pqBUs8M8L._SY590_.jpg\":[\"590\",\"593\"]}}],\"13x19 in.\":[{\"large\":\"http://ecx.images-amazon.com/images/I/51CuD4iaMtL.jpg\",\"variant\":\"MAIN\",\"hiRes\":\"http://ecx.images-amazon.com/images/I/71pqBUs8M8L._SL1200_.jpg\",\"thumb\":\"http://ecx.images-amazon.com/images/I/51CuD4iaMtL._SS58_.jpg\",\"main\":{\"http://ecx.images-amazon.com/images/I/71pqBUs8M8L._SY500_.jpg\":[\"500\",\"503\"],\"http://ecx.images-amazon.com/images/I/71pqBUs8M8L._SX500_.jpg\":[\"497\",\"500\"],\"http://ecx.images-amazon.com/images/I/71pqBUs8M8L._SY590_.jpg\":[\"590\",\"593\"]}}],\"24x30 in.\":[{\"large\":\"http://ecx.images-amazon.com/images/I/51CuD4iaMtL.jpg\",\"variant\":\"MAIN\",\"hiRes\":\"http://ecx.images-amazon.com/images/I/71pqBUs8M8L._SL1200_.jpg\",\"thumb\":\"http://ecx.images-amazon.com/images/I/51CuD4iaMtL._SS58_.jpg\",\"main\":{\"http://ecx.images-amazon.com/images/I/71pqBUs8M8L._SY500_.jpg\":[\"500\",\"503\"],\"http://ecx.images-amazon.com/images/I/71pqBUs8M8L._SX500_.jpg\":[\"497\",\"500\"],\"http://ecx.images-amazon.com/images/I/71pqBUs8M8L._SY590_.jpg'],\n",
       " 'price': 1800.0,\n",
       " 'size': [u'13', u'19 in.'],\n",
       " 'title': 'Magnolia,',\n",
       " 'url_id': 'B00E5MTRB2',\n",
       " 'width': 19.0}"
      ]
     },
     "execution_count": 18,
     "metadata": {},
     "output_type": "execute_result"
    }
   ],
   "source": [
    "scrapePainting('http://www.amazon.com/17x22-in-Harold-Feinstein-Magnolia/dp/B00E5MTRB2')"
   ]
  },
  {
   "cell_type": "code",
   "execution_count": null,
   "metadata": {
    "collapsed": false
   },
   "outputs": [],
   "source": [
    "for page in range(1,4):\n",
    "    \n",
    "    page_url = \"http://www.amazon.com/s/ref=sr_pg_3?rh=n%3A4991425011%2Cn%3A%214991426011%2Cn%3A6685269011%2Cn%3A6685289011&page=\"+str(page)+\"&ie=UTF8&qid=1462467907\"\n",
    "    r = requests.get(page_url)\n",
    "    r.text\n",
    "\n",
    "    b = BeautifulSoup(r.text, 'html.parser')\n",
    "\n",
    "    url_1 = []\n",
    "    for link in b.findAll('a', {'class':\"a-link-normal a-text-normal\"}):\n",
    "        url_1.append(link.get('href'))\n",
    "    \n",
    "    url_list = url_1[::2]\n",
    "\n",
    "    paintings = []\n",
    "    for url in url_list:\n",
    "        try:\n",
    "            paintings.append(scrapePainting(url))\n",
    "        except Exception as error:\n",
    "            print error\n",
    "        time.sleep(random.randint(5,20))\n",
    "\n",
    "df = pd.DataFrame(paintings)"
   ]
  },
  {
   "cell_type": "code",
   "execution_count": null,
   "metadata": {
    "collapsed": false
   },
   "outputs": [],
   "source": [
    "df"
   ]
  },
  {
   "cell_type": "code",
   "execution_count": null,
   "metadata": {
    "collapsed": true
   },
   "outputs": [],
   "source": [
    "df.to_csv(\"paintings_first_df.csv\", index=False)"
   ]
  }
 ],
 "metadata": {
  "kernelspec": {
   "display_name": "Python 2",
   "language": "python",
   "name": "python2"
  },
  "language_info": {
   "codemirror_mode": {
    "name": "ipython",
    "version": 2
   },
   "file_extension": ".py",
   "mimetype": "text/x-python",
   "name": "python",
   "nbconvert_exporter": "python",
   "pygments_lexer": "ipython2",
   "version": "2.7.11"
  }
 },
 "nbformat": 4,
 "nbformat_minor": 0
}
