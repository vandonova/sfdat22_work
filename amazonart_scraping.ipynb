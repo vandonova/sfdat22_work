{
 "cells": [
  {
   "cell_type": "code",
   "execution_count": 2,
   "metadata": {
    "collapsed": true
   },
   "outputs": [],
   "source": [
    "import requests\n",
    "from bs4 import BeautifulSoup\n",
    "import re\n",
    "import pandas as pd\n",
    "import time\n",
    "import random"
   ]
  },
  {
   "cell_type": "code",
   "execution_count": 16,
   "metadata": {
    "collapsed": true
   },
   "outputs": [],
   "source": [
    "def encodestring(var):\n",
    "    if var is not None:\n",
    "        return var.encode('utf-8')"
   ]
  },
  {
   "cell_type": "code",
   "execution_count": 21,
   "metadata": {
    "collapsed": false
   },
   "outputs": [],
   "source": [
    "def scrapePainting(url):\n",
    "    r = requests.get(url)\n",
    "    print r, url\n",
    "    b = BeautifulSoup(r.text, 'html.parser')\n",
    "    \n",
    "    url_id = r.url.split('/')[-1]\n",
    "    \n",
    "    artist = b.find('a', {'id':'fine-ART-ProductLabelArtistNameLink'})\n",
    "    if artist is not None:\n",
    "        artist = b.find('a', {'id':'fine-ART-ProductLabelArtistNameLink'}).text\n",
    "        \n",
    "    title = b.find('span', {'id': 'fineArtTitle'})\n",
    "    if title is not None:\n",
    "        title = b.find('span', {'id': 'fineArtTitle'}).text\n",
    "        \n",
    "    image = re.findall('http://ecx.images-amazon.com/images/I/.*\\.jpg', r.text)\n",
    "    if image is not None:\n",
    "        image = re.findall('http://ecx.images-amazon.com/images/I/.*\\.jpg', r.text)\n",
    "        \n",
    "    price = b.find('span', {'id': 'priceblock_ourprice'})\n",
    "    if price is not None:\n",
    "        price = b.find('span', {'id': 'priceblock_ourprice'}).text.replace('$','').replace(',', '')\n",
    "        if '.' in price:\n",
    "            price = float(price.replace('.', ''))/100\n",
    "        else:\n",
    "            price = float(price)\n",
    "            \n",
    "    desc = b.find('div', {'id': 'productDescription_feature_div'})\n",
    "    if desc is not None:\n",
    "        desc = b.find('div', {'id': 'productDescription_feature_div'}).getText().replace('\\n','')\n",
    "        \n",
    "    height = None\n",
    "    width = None\n",
    "    size = b.find('span', {'id': 'mnba_buybox_size'})\n",
    "    if size is not None:\n",
    "        size = [a.strip() for a in b.find('span', {'id': 'mnba_buybox_size'}).text.split('x')]\n",
    "        if len(size) == 2:\n",
    "            height = float(size[0].replace('in.','').replace('in','').strip())\n",
    "            width = float(size[1].replace('in.','').replace('in','').strip())\n",
    "            depth = 1.\n",
    "        elif len(size) == 3:\n",
    "            height = float(size[0].replace('in.','').replace('in','').strip())\n",
    "            width = float(size[1].replace('in.','').replace('in','').strip())\n",
    "            depth = float(size[2].replace('in.','').replace('in','').strip())\n",
    "    \n",
    "    size_variations = b.find('div', {'id': 'variation_size_name'})\n",
    "    if size_variations is not None:\n",
    "        size = [a.strip() for a in size_variations.find('span', {'class': \"a-size-base\"}).text.split('x')]\n",
    "        \n",
    "        if len(size) == 2:\n",
    "            height = float(size[0].replace('in.','').replace('in','').strip())\n",
    "            width = float(size[1].replace('in.','').replace('in','').strip())\n",
    "            depth = 1.\n",
    "        elif len(size) == 3:\n",
    "            height = float(size[0].replace('in.','').replace('in','').strip())\n",
    "            width = float(size[1].replace('in.','').replace('in','').strip())\n",
    "            depth = float(size[2].replace('in.','').replace('in','').strip())\n",
    "            \n",
    "        price = size_variations.find('span', {'class': \"a-size-mini\"}).text.replace('$','').replace(',', '')\n",
    "        if '.' in price:\n",
    "            price = float(price.replace('.', ''))/100\n",
    "        else:\n",
    "            price = float(price)\n",
    "    \n",
    "\n",
    "    return {'url_id': encodestring(url_id), 'artist': encodestring(artist), 'title':encodestring(title), 'image': image, 'price': price, \n",
    "            'description':encodestring(desc), 'height': height, 'width': width, 'size':size}"
   ]
  },
  {
   "cell_type": "code",
   "execution_count": 22,
   "metadata": {
    "collapsed": false
   },
   "outputs": [
    {
     "name": "stdout",
     "output_type": "stream",
     "text": [
      "<Response [200]> http://www.amazon.com/28x28-Tom-Chambers-Ashly-Deer/dp/B00E3CCWLG\n"
     ]
    },
    {
     "data": {
      "text/plain": [
       "{'artist': 'Tom Chambers',\n",
       " 'description': \"The animal kingdom and mankind engage in an ongoing dance of co-existence which results in a predictable tension. This tension has escalated with man's increasing disregard for the fragility of the environment and abdication of his responsibility to care for the earth. One particular issue is global warming which has had a significant impact on all living things. Climate changes will minimally upset and perhaps ultimately destroy ecosystems. I feel strongly that the cumulative impact of negative environmental changes cannot be ignored.\",\n",
       " 'height': 14.0,\n",
       " 'image': [u'http://ecx.images-amazon.com/images/I/61LNSn7yuUL._QL70_.jpg',\n",
       "  u'http://ecx.images-amazon.com/images/I/61LNSn7yuUL._QL70_.jpg',\n",
       "  u'http://ecx.images-amazon.com/images/I/61LNSn7yuUL._QL70_.jpg\" data-old-hires=\"\" onload=\"this.onload=\\'\\';setCSMReq(\\'af\\');setCSMReq(\\'cf\\');\" class=\"a-dynamic-image a-stretch-horizontal\" id=\"fine-art-landingImage\" data-a-dynamic-image=\"{&quot;http://ecx.images-amazon.com/images/I/61LNSn7yuUL.jpg',\n",
       "  u'http://ecx.images-amazon.com/images/I/61LNSn7yuUL._SS58_.jpg',\n",
       "  u'http://ecx.images-amazon.com/images/I/61LNSn7yuUL._SS58_.jpg\",\"large\":\"http://ecx.images-amazon.com/images/I/61LNSn7yuUL.jpg\",\"main\":{\"http://ecx.images-amazon.com/images/I/61LNSn7yuUL.jpg',\n",
       "  u'http://ecx.images-amazon.com/images/I/416QY5isv8L.jpg',\n",
       "  u'http://ecx.images-amazon.com/images/I/61LNSn7yuUL.jpg\",\"variant\":\"MAIN\",\"thumb\":\"http://ecx.images-amazon.com/images/I/61LNSn7yuUL._SS58_.jpg\",\"main\":{\"http://ecx.images-amazon.com/images/I/61LNSn7yuUL.jpg\":[\"500\",\"500\"]}}],\"28x28 in\":[{\"large\":\"http://ecx.images-amazon.com/images/I/61LNSn7yuUL.jpg\",\"variant\":\"MAIN\",\"thumb\":\"http://ecx.images-amazon.com/images/I/61LNSn7yuUL._SS58_.jpg\",\"main\":{\"http://ecx.images-amazon.com/images/I/61LNSn7yuUL.jpg\":[\"500\",\"500\"]}}],\"14x14 in\":[{\"large\":\"http://ecx.images-amazon.com/images/I/61LNSn7yuUL.jpg\",\"variant\":\"MAIN\",\"thumb\":\"http://ecx.images-amazon.com/images/I/61LNSn7yuUL._SS58_.jpg\",\"main\":{\"http://ecx.images-amazon.com/images/I/61LNSn7yuUL.jpg'],\n",
       " 'price': 750.0,\n",
       " 'size': [u'14', u'14 in'],\n",
       " 'title': 'Ashly with Deer,',\n",
       " 'url_id': 'B00E3CCWLG',\n",
       " 'width': 14.0}"
      ]
     },
     "execution_count": 22,
     "metadata": {},
     "output_type": "execute_result"
    }
   ],
   "source": [
    "scrapePainting('http://www.amazon.com/28x28-Tom-Chambers-Ashly-Deer/dp/B00E3CCWLG')"
   ]
  },
  {
   "cell_type": "code",
   "execution_count": null,
   "metadata": {
    "collapsed": false
   },
   "outputs": [],
   "source": [
    "paintings = []\n",
    "\n",
    "for page in range(1,4):\n",
    "    \n",
    "    page_url = \"http://www.amazon.com/s/ref=sr_pg_3?rh=n%3A4991425011%2Cn%3A%214991426011%2Cn%3A6685269011%2Cn%3A6685289011&page=\"+str(page)+\"&ie=UTF8&qid=1462467907\"\n",
    "    r = requests.get(page_url)\n",
    "    r.text\n",
    "\n",
    "    b = BeautifulSoup(r.text, 'html.parser')\n",
    "\n",
    "    url_1 = []\n",
    "    for link in b.findAll('a', {'class':\"a-link-normal a-text-normal\"}):\n",
    "        url_1.append(link.get('href'))\n",
    "    \n",
    "    url_list = url_1[::2]\n",
    "\n",
    "    for url in url_list:\n",
    "        try:\n",
    "            paintings.append(scrapePainting(url))\n",
    "        except Exception as error:\n",
    "            print error\n",
    "        time.sleep(random.randint(5,20))\n",
    "\n",
    "df = pd.DataFrame(paintings)"
   ]
  },
  {
   "cell_type": "code",
   "execution_count": null,
   "metadata": {
    "collapsed": false
   },
   "outputs": [],
   "source": [
    "df"
   ]
  },
  {
   "cell_type": "code",
   "execution_count": null,
   "metadata": {
    "collapsed": true
   },
   "outputs": [],
   "source": [
    "df.to_csv(\"paintings_first_df.csv\", index=False)"
   ]
  }
 ],
 "metadata": {
  "kernelspec": {
   "display_name": "Python 2",
   "language": "python",
   "name": "python2"
  },
  "language_info": {
   "codemirror_mode": {
    "name": "ipython",
    "version": 2
   },
   "file_extension": ".py",
   "mimetype": "text/x-python",
   "name": "python",
   "nbconvert_exporter": "python",
   "pygments_lexer": "ipython2",
   "version": "2.7.11"
  }
 },
 "nbformat": 4,
 "nbformat_minor": 0
}
