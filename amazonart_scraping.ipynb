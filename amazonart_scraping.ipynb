{
 "cells": [
  {
   "cell_type": "code",
   "execution_count": 1,
   "metadata": {
    "collapsed": true
   },
   "outputs": [],
   "source": [
    "import requests\n",
    "from bs4 import BeautifulSoup\n",
    "import re\n",
    "import pandas as pd\n",
    "import time\n",
    "import random"
   ]
  },
  {
   "cell_type": "code",
   "execution_count": 2,
   "metadata": {
    "collapsed": false
   },
   "outputs": [],
   "source": [
    "def scrapePainting(url):\n",
    "    r = requests.get(url)\n",
    "    print r, url\n",
    "    b = BeautifulSoup(r.text, 'html.parser')\n",
    "    \n",
    "    url_id = r.url.split('/')[-1]\n",
    "    \n",
    "    artist = b.find('a', {'id':'fine-ART-ProductLabelArtistNameLink'})\n",
    "    if artist is not None:\n",
    "        artist = b.find('a', {'id':'fine-ART-ProductLabelArtistNameLink'}).text\n",
    "        \n",
    "    title = b.find('span', {'id': 'fineArtTitle'})\n",
    "    if title is not None:\n",
    "        title = b.find('span', {'id': 'fineArtTitle'}).text\n",
    "        \n",
    "    image = re.findall('http://ecx.images-amazon.com/images/I/.*\\.jpg', r.text)\n",
    "    if image is not None:\n",
    "        image = re.findall('http://ecx.images-amazon.com/images/I/.*\\.jpg', r.text)\n",
    "        \n",
    "    price = b.find('span', {'id': 'priceblock_ourprice'})\n",
    "    if price is not None:\n",
    "        price = b.find('span', {'id': 'priceblock_ourprice'}).text.replace('$','').replace(',', '')\n",
    "        if '.' in price:\n",
    "            price = float(price.replace('.', ''))/100\n",
    "        else:\n",
    "            price = float(price)\n",
    "            \n",
    "    desc = b.find('div', {'id': 'productDescription_feature_div'})\n",
    "    if desc is not None:\n",
    "        desc = b.find('div', {'id': 'productDescription_feature_div'}).getText().replace('\\n','')\n",
    "        \n",
    "    height = None\n",
    "    width = None\n",
    "    size = b.find('span', {'id': 'mnba_buybox_size'})\n",
    "    if size is not None:\n",
    "        size = [a.strip() for a in b.find('span', {'id': 'mnba_buybox_size'}).text.split('x')]\n",
    "        if len(size) == 2:\n",
    "            height = float(size[0].replace('in.','').strip())\n",
    "            width = float(size[1].replace('in.','').strip())\n",
    "            depth = 1.\n",
    "        elif len(size) == 3:\n",
    "            height = float(size[0].replace('in.','').strip())\n",
    "            width = float(size[1].replace('in.','').strip())\n",
    "            depth = float(size[2].replace('in.','').strip())\n",
    "\n",
    "    return {'url_id': url_id, 'artist': artist, 'title':title, 'image': image, 'price': price, \n",
    "            'description':desc, 'height': height, 'width': width, 'size':size}"
   ]
  },
  {
   "cell_type": "code",
   "execution_count": 3,
   "metadata": {
    "collapsed": false
   },
   "outputs": [
    {
     "name": "stdout",
     "output_type": "stream",
     "text": [
      "<Response [503]>\n"
     ]
    },
    {
     "data": {
      "text/plain": [
       "{'artist': None,\n",
       " 'description': None,\n",
       " 'height': None,\n",
       " 'image': [],\n",
       " 'price': None,\n",
       " 'size': None,\n",
       " 'title': None,\n",
       " 'url_id': u'',\n",
       " 'width': None}"
      ]
     },
     "execution_count": 3,
     "metadata": {},
     "output_type": "execute_result"
    }
   ],
   "source": [
    "scrapePainting('http://www.amazon.com/Fire-Hydrant/dp/B01EKBYJYW/')"
   ]
  },
  {
   "cell_type": "code",
   "execution_count": 3,
   "metadata": {
    "collapsed": false
   },
   "outputs": [
    {
     "name": "stdout",
     "output_type": "stream",
     "text": [
      "<Response [200]> http://www.amazon.com/12x18-in-Jack-Androvich-Surfboards/dp/B00EZH6DM8\n",
      "<Response [503]> http://www.amazon.com/For-sale/dp/B015EOYYEE\n",
      "<Response [200]> http://www.amazon.com/30x40-Simon-Carruthers-Untitled-Pallets/dp/B00LLQ152E\n",
      "<Response [503]> http://www.amazon.com/Fire-Hydrant/dp/B01EKBYJYW\n",
      "<Response [503]> http://www.amazon.com/Steve-Fireman-Beverly-Shores-IN/dp/B00IRTE78C\n",
      "<Response [503]> http://www.amazon.com/Prince/dp/B016VGH73O\n",
      "<Response [503]> http://www.amazon.com/Let-Go/dp/B00SVIN0W8\n",
      "<Response [200]> http://www.amazon.com/Ayrton-Senna-F1/dp/B016VGE62E\n",
      "<Response [503]> http://www.amazon.com/Toy/dp/B00SVITN6A\n",
      "<Response [503]> http://www.amazon.com/Kathy-on-a-Windy-Boat/dp/B00H9MAHUK\n",
      "<Response [200]> http://www.amazon.com/fish-splash/dp/B016VGCLNA\n",
      "<Response [200]> http://www.amazon.com/Half-Dome-Breaking-Storm/dp/B00NNA11KC\n",
      "<Response [503]> http://www.amazon.com/16x24-Bryan-Solarski-Wrigley-Chicago/dp/B00KYYNH8E\n",
      "<Response [503]> http://www.amazon.com/Nude-in-Water/dp/B016VGKAW4\n",
      "<Response [503]> http://www.amazon.com/28x28-Tom-Chambers-Ashly-Deer/dp/B00E3CCWLG\n",
      "<Response [503]> http://www.amazon.com/16x24-Katherine-Gendreau-Study-Grey/dp/B00EZHE1XG\n",
      "<Response [200]> http://www.amazon.com/Sugar-Rush/dp/B00SVISM5I\n",
      "<Response [503]> http://www.amazon.com/Ethereal-Lane-No-2/dp/B00DPY164C\n",
      "<Response [503]> http://www.amazon.com/Old-Surf-Boards-Hand-Numbered/dp/B00S60NF08\n",
      "<Response [200]> http://www.amazon.com/Beta-2/dp/B00YDMJVFG\n",
      "<Response [503]> http://www.amazon.com/Mommy-Time/dp/B01BN92RJ8\n",
      "<Response [503]> http://www.amazon.com/Windsor-Print-28x42-in/dp/B0172I4XTQ\n",
      "<Response [503]> http://www.amazon.com/Loxahatchee-River-1/dp/B00H275A90\n",
      "<Response [200]> http://www.amazon.com/Jeremy-Coal-Miner-Blacklick-PA/dp/B00IRTDXI2\n",
      "<Response [503]> http://www.amazon.com/Fresh-Snow-Yosemite-CA/dp/B00QU6P5KI\n",
      "<Response [200]> http://www.amazon.com/Moonrise/dp/B00H275CPW\n",
      "<Response [200]> http://www.amazon.com/Mount-Williamson-from-Manzanar-California/dp/B00QU6P32I\n",
      "<Response [503]> http://www.amazon.com/Michael-Jackson-on-Throne/dp/B00E3IFJ56\n",
      "<Response [503]> http://www.amazon.com/Painting-with-Light-Haunted-Mansion/dp/B00P7NW1AM\n",
      "<Response [503]> http://www.amazon.com/Robot/dp/B00E8VDHS4\n",
      "<Response [503]> http://www.amazon.com/Posted-Beach-1-20x18in-paper/dp/B0147NW2Q0\n",
      "<Response [200]> http://www.amazon.com/Old-Surf-Boards-Hand-Numbered/dp/B00GRJ26O6\n",
      "<Response [503]> http://www.amazon.com/Anger-Management/dp/B00SVIL4XU\n",
      "<Response [503]> http://www.amazon.com/Walk-Away-21x21-in/dp/B0170E9ARC\n",
      "<Response [200]> http://www.amazon.com/Botero/dp/B015HRBLYO\n",
      "<Response [200]> http://www.amazon.com/Perigord-Black-Truffle/dp/B018DTNOJI\n",
      "<Response [503]> http://www.amazon.com/Mothers-Day/dp/B00SVINN84\n",
      "<Response [503]> http://www.amazon.com/Interrupted-Lunch-New-Orleans-1983/dp/B00TA4MQB8\n",
      "<Response [503]> http://www.amazon.com/Ascha-Beekeeper-Oakland-CA/dp/B00IRTB94M\n",
      "<Response [503]> http://www.amazon.com/14X11-Fan-Afternono-Chat-1959/dp/B00E7I6YKQ\n",
      "<Response [503]> http://www.amazon.com/Happy-Monk/dp/B01B9Q02JM\n",
      "<Response [503]> http://www.amazon.com/Velvet-Sunrise/dp/B00DPY155W\n",
      "<Response [503]> http://www.amazon.com/West-End-Garage-Pittsburgh-PA/dp/B00IRTD8X2\n",
      "<Response [503]> http://www.amazon.com/Boys-Wrestling-Janes-Place-Berlin/dp/B00E3HYDD6\n",
      "<Response [503]> http://www.amazon.com/Dalis-Lips/dp/B016VGMRGQ\n",
      "<Response [503]> http://www.amazon.com/Down-Boy/dp/B016VGLKX2\n",
      "<Response [503]> http://www.amazon.com/Marriage/dp/B00TUKSLF2\n",
      "<Response [503]> http://www.amazon.com/12x18-in-Jack-Androvich-Surfboards/dp/B00EZH6DM8\n",
      "<Response [503]> http://www.amazon.com/For-sale/dp/B015EOYYEE\n"
     ]
    },
    {
     "ename": "KeyboardInterrupt",
     "evalue": "",
     "output_type": "error",
     "traceback": [
      "\u001b[0;31m---------------------------------------------------------------------------\u001b[0m",
      "\u001b[0;31mKeyboardInterrupt\u001b[0m                         Traceback (most recent call last)",
      "\u001b[0;32m<ipython-input-3-cb9a5b01e7e7>\u001b[0m in \u001b[0;36m<module>\u001b[0;34m()\u001b[0m\n\u001b[1;32m     15\u001b[0m     \u001b[0;32mfor\u001b[0m \u001b[0murl\u001b[0m \u001b[0;32min\u001b[0m \u001b[0murl_list\u001b[0m\u001b[0;34m:\u001b[0m\u001b[0;34m\u001b[0m\u001b[0m\n\u001b[1;32m     16\u001b[0m         \u001b[0mpaintings\u001b[0m\u001b[0;34m.\u001b[0m\u001b[0mappend\u001b[0m\u001b[0;34m(\u001b[0m\u001b[0mscrapePainting\u001b[0m\u001b[0;34m(\u001b[0m\u001b[0murl\u001b[0m\u001b[0;34m)\u001b[0m\u001b[0;34m)\u001b[0m\u001b[0;34m\u001b[0m\u001b[0m\n\u001b[0;32m---> 17\u001b[0;31m         \u001b[0mtime\u001b[0m\u001b[0;34m.\u001b[0m\u001b[0msleep\u001b[0m\u001b[0;34m(\u001b[0m\u001b[0mrandom\u001b[0m\u001b[0;34m.\u001b[0m\u001b[0mrandint\u001b[0m\u001b[0;34m(\u001b[0m\u001b[0;36m5\u001b[0m\u001b[0;34m,\u001b[0m\u001b[0;36m20\u001b[0m\u001b[0;34m)\u001b[0m\u001b[0;34m)\u001b[0m\u001b[0;34m\u001b[0m\u001b[0m\n\u001b[0m\u001b[1;32m     18\u001b[0m \u001b[0;34m\u001b[0m\u001b[0m\n\u001b[1;32m     19\u001b[0m \u001b[0mdf\u001b[0m \u001b[0;34m=\u001b[0m \u001b[0mpd\u001b[0m\u001b[0;34m.\u001b[0m\u001b[0mDataFrame\u001b[0m\u001b[0;34m(\u001b[0m\u001b[0mpaintings\u001b[0m\u001b[0;34m)\u001b[0m\u001b[0;34m\u001b[0m\u001b[0m\n",
      "\u001b[0;31mKeyboardInterrupt\u001b[0m: "
     ]
    }
   ],
   "source": [
    "for page in range(218):\n",
    "    page_url = \"http://www.amazon.com/s/ref=lp_6685289011_pg_2?rh=n%3A4991425011%2Cn%3A%214991426011%2Cn%3A6685269011%2Cn%3A6685289011&page=\"+str(page)+\"&ie=UTF8&qid=1462073135\"\n",
    "    r = requests.get(page_url)\n",
    "    r.text\n",
    "\n",
    "    b = BeautifulSoup(r.text, 'html.parser')\n",
    "\n",
    "    url_1 = []\n",
    "    for link in b.findAll('a', {'class':\"a-link-normal a-text-normal\"}):\n",
    "        url_1.append(link.get('href'))\n",
    "    \n",
    "    url_list = url_1[::2]\n",
    "\n",
    "    paintings = []\n",
    "    for url in url_list:\n",
    "        paintings.append(scrapePainting(url))\n",
    "        time.sleep(random.randint(5,20))\n",
    "\n",
    "df = pd.DataFrame(paintings)"
   ]
  },
  {
   "cell_type": "code",
   "execution_count": 17,
   "metadata": {
    "collapsed": false
   },
   "outputs": [
    {
     "name": "stdout",
     "output_type": "stream",
     "text": [
      "<Response [200]>\n",
      "<Response [503]>\n",
      "<Response [503]>\n",
      "<Response [503]>\n",
      "<Response [200]>\n",
      "<Response [200]>\n",
      "<Response [200]>\n",
      "<Response [200]>\n",
      "<Response [200]>\n",
      "<Response [200]>\n",
      "<Response [503]>\n",
      "<Response [503]>\n",
      "<Response [503]>\n",
      "<Response [200]>\n",
      "<Response [503]>\n",
      "<Response [200]>\n",
      "<Response [200]>\n",
      "<Response [503]>\n",
      "<Response [503]>\n",
      "<Response [200]>\n",
      "<Response [200]>\n",
      "<Response [200]>\n",
      "<Response [200]>\n",
      "<Response [200]>\n",
      "<Response [200]>\n",
      "<Response [503]>\n",
      "<Response [503]>\n",
      "<Response [200]>\n",
      "<Response [200]>\n",
      "<Response [200]>\n",
      "<Response [503]>\n"
     ]
    },
    {
     "ename": "ConnectionError",
     "evalue": "HTTPConnectionPool(host='www.amazon.com', port=80): Max retries exceeded with url: /Death-Icarus-Print-10x15/dp/B0172HWRRM (Caused by NewConnectionError('<requests.packages.urllib3.connection.HTTPConnection object at 0x109fc7c10>: Failed to establish a new connection: [Errno 8] nodename nor servname provided, or not known',))",
     "output_type": "error",
     "traceback": [
      "\u001b[0;31m---------------------------------------------------------------------------\u001b[0m",
      "\u001b[0;31mConnectionError\u001b[0m                           Traceback (most recent call last)",
      "\u001b[0;32m<ipython-input-17-bccdc4b18a74>\u001b[0m in \u001b[0;36m<module>\u001b[0;34m()\u001b[0m\n\u001b[1;32m     14\u001b[0m     \u001b[0mpaintings\u001b[0m \u001b[0;34m=\u001b[0m \u001b[0;34m[\u001b[0m\u001b[0;34m]\u001b[0m\u001b[0;34m\u001b[0m\u001b[0m\n\u001b[1;32m     15\u001b[0m     \u001b[0;32mfor\u001b[0m \u001b[0murl\u001b[0m \u001b[0;32min\u001b[0m \u001b[0murl_list\u001b[0m\u001b[0;34m:\u001b[0m\u001b[0;34m\u001b[0m\u001b[0m\n\u001b[0;32m---> 16\u001b[0;31m         \u001b[0mpaintings\u001b[0m\u001b[0;34m.\u001b[0m\u001b[0mappend\u001b[0m\u001b[0;34m(\u001b[0m\u001b[0mscrapePainting\u001b[0m\u001b[0;34m(\u001b[0m\u001b[0murl\u001b[0m\u001b[0;34m)\u001b[0m\u001b[0;34m)\u001b[0m\u001b[0;34m\u001b[0m\u001b[0m\n\u001b[0m\u001b[1;32m     17\u001b[0m         \u001b[0mtime\u001b[0m\u001b[0;34m.\u001b[0m\u001b[0msleep\u001b[0m\u001b[0;34m(\u001b[0m\u001b[0mrandom\u001b[0m\u001b[0;34m.\u001b[0m\u001b[0mrandint\u001b[0m\u001b[0;34m(\u001b[0m\u001b[0;36m5\u001b[0m\u001b[0;34m,\u001b[0m\u001b[0;36m20\u001b[0m\u001b[0;34m)\u001b[0m\u001b[0;34m)\u001b[0m\u001b[0;34m\u001b[0m\u001b[0m\n\u001b[1;32m     18\u001b[0m \u001b[0;34m\u001b[0m\u001b[0m\n",
      "\u001b[0;32m<ipython-input-7-575b7a17138f>\u001b[0m in \u001b[0;36mscrapePainting\u001b[0;34m(url)\u001b[0m\n\u001b[1;32m      1\u001b[0m \u001b[0;32mdef\u001b[0m \u001b[0mscrapePainting\u001b[0m\u001b[0;34m(\u001b[0m\u001b[0murl\u001b[0m\u001b[0;34m)\u001b[0m\u001b[0;34m:\u001b[0m\u001b[0;34m\u001b[0m\u001b[0m\n\u001b[0;32m----> 2\u001b[0;31m     \u001b[0mr\u001b[0m \u001b[0;34m=\u001b[0m \u001b[0mrequests\u001b[0m\u001b[0;34m.\u001b[0m\u001b[0mget\u001b[0m\u001b[0;34m(\u001b[0m\u001b[0murl\u001b[0m\u001b[0;34m)\u001b[0m\u001b[0;34m\u001b[0m\u001b[0m\n\u001b[0m\u001b[1;32m      3\u001b[0m     \u001b[0;32mprint\u001b[0m \u001b[0mr\u001b[0m\u001b[0;34m\u001b[0m\u001b[0m\n\u001b[1;32m      4\u001b[0m     \u001b[0mb\u001b[0m \u001b[0;34m=\u001b[0m \u001b[0mBeautifulSoup\u001b[0m\u001b[0;34m(\u001b[0m\u001b[0mr\u001b[0m\u001b[0;34m.\u001b[0m\u001b[0mtext\u001b[0m\u001b[0;34m,\u001b[0m \u001b[0;34m'html.parser'\u001b[0m\u001b[0;34m)\u001b[0m\u001b[0;34m\u001b[0m\u001b[0m\n\u001b[1;32m      5\u001b[0m \u001b[0;34m\u001b[0m\u001b[0m\n",
      "\u001b[0;32m/Users/Vicky/anaconda/lib/python2.7/site-packages/requests/api.pyc\u001b[0m in \u001b[0;36mget\u001b[0;34m(url, params, **kwargs)\u001b[0m\n\u001b[1;32m     65\u001b[0m \u001b[0;34m\u001b[0m\u001b[0m\n\u001b[1;32m     66\u001b[0m     \u001b[0mkwargs\u001b[0m\u001b[0;34m.\u001b[0m\u001b[0msetdefault\u001b[0m\u001b[0;34m(\u001b[0m\u001b[0;34m'allow_redirects'\u001b[0m\u001b[0;34m,\u001b[0m \u001b[0mTrue\u001b[0m\u001b[0;34m)\u001b[0m\u001b[0;34m\u001b[0m\u001b[0m\n\u001b[0;32m---> 67\u001b[0;31m     \u001b[0;32mreturn\u001b[0m \u001b[0mrequest\u001b[0m\u001b[0;34m(\u001b[0m\u001b[0;34m'get'\u001b[0m\u001b[0;34m,\u001b[0m \u001b[0murl\u001b[0m\u001b[0;34m,\u001b[0m \u001b[0mparams\u001b[0m\u001b[0;34m=\u001b[0m\u001b[0mparams\u001b[0m\u001b[0;34m,\u001b[0m \u001b[0;34m**\u001b[0m\u001b[0mkwargs\u001b[0m\u001b[0;34m)\u001b[0m\u001b[0;34m\u001b[0m\u001b[0m\n\u001b[0m\u001b[1;32m     68\u001b[0m \u001b[0;34m\u001b[0m\u001b[0m\n\u001b[1;32m     69\u001b[0m \u001b[0;34m\u001b[0m\u001b[0m\n",
      "\u001b[0;32m/Users/Vicky/anaconda/lib/python2.7/site-packages/requests/api.pyc\u001b[0m in \u001b[0;36mrequest\u001b[0;34m(method, url, **kwargs)\u001b[0m\n\u001b[1;32m     51\u001b[0m     \u001b[0;31m# cases, and look like a memory leak in others.\u001b[0m\u001b[0;34m\u001b[0m\u001b[0;34m\u001b[0m\u001b[0m\n\u001b[1;32m     52\u001b[0m     \u001b[0;32mwith\u001b[0m \u001b[0msessions\u001b[0m\u001b[0;34m.\u001b[0m\u001b[0mSession\u001b[0m\u001b[0;34m(\u001b[0m\u001b[0;34m)\u001b[0m \u001b[0;32mas\u001b[0m \u001b[0msession\u001b[0m\u001b[0;34m:\u001b[0m\u001b[0;34m\u001b[0m\u001b[0m\n\u001b[0;32m---> 53\u001b[0;31m         \u001b[0;32mreturn\u001b[0m \u001b[0msession\u001b[0m\u001b[0;34m.\u001b[0m\u001b[0mrequest\u001b[0m\u001b[0;34m(\u001b[0m\u001b[0mmethod\u001b[0m\u001b[0;34m=\u001b[0m\u001b[0mmethod\u001b[0m\u001b[0;34m,\u001b[0m \u001b[0murl\u001b[0m\u001b[0;34m=\u001b[0m\u001b[0murl\u001b[0m\u001b[0;34m,\u001b[0m \u001b[0;34m**\u001b[0m\u001b[0mkwargs\u001b[0m\u001b[0;34m)\u001b[0m\u001b[0;34m\u001b[0m\u001b[0m\n\u001b[0m\u001b[1;32m     54\u001b[0m \u001b[0;34m\u001b[0m\u001b[0m\n\u001b[1;32m     55\u001b[0m \u001b[0;34m\u001b[0m\u001b[0m\n",
      "\u001b[0;32m/Users/Vicky/anaconda/lib/python2.7/site-packages/requests/sessions.pyc\u001b[0m in \u001b[0;36mrequest\u001b[0;34m(self, method, url, params, data, headers, cookies, files, auth, timeout, allow_redirects, proxies, hooks, stream, verify, cert, json)\u001b[0m\n\u001b[1;32m    466\u001b[0m         }\n\u001b[1;32m    467\u001b[0m         \u001b[0msend_kwargs\u001b[0m\u001b[0;34m.\u001b[0m\u001b[0mupdate\u001b[0m\u001b[0;34m(\u001b[0m\u001b[0msettings\u001b[0m\u001b[0;34m)\u001b[0m\u001b[0;34m\u001b[0m\u001b[0m\n\u001b[0;32m--> 468\u001b[0;31m         \u001b[0mresp\u001b[0m \u001b[0;34m=\u001b[0m \u001b[0mself\u001b[0m\u001b[0;34m.\u001b[0m\u001b[0msend\u001b[0m\u001b[0;34m(\u001b[0m\u001b[0mprep\u001b[0m\u001b[0;34m,\u001b[0m \u001b[0;34m**\u001b[0m\u001b[0msend_kwargs\u001b[0m\u001b[0;34m)\u001b[0m\u001b[0;34m\u001b[0m\u001b[0m\n\u001b[0m\u001b[1;32m    469\u001b[0m \u001b[0;34m\u001b[0m\u001b[0m\n\u001b[1;32m    470\u001b[0m         \u001b[0;32mreturn\u001b[0m \u001b[0mresp\u001b[0m\u001b[0;34m\u001b[0m\u001b[0m\n",
      "\u001b[0;32m/Users/Vicky/anaconda/lib/python2.7/site-packages/requests/sessions.pyc\u001b[0m in \u001b[0;36msend\u001b[0;34m(self, request, **kwargs)\u001b[0m\n\u001b[1;32m    574\u001b[0m \u001b[0;34m\u001b[0m\u001b[0m\n\u001b[1;32m    575\u001b[0m         \u001b[0;31m# Send the request\u001b[0m\u001b[0;34m\u001b[0m\u001b[0;34m\u001b[0m\u001b[0m\n\u001b[0;32m--> 576\u001b[0;31m         \u001b[0mr\u001b[0m \u001b[0;34m=\u001b[0m \u001b[0madapter\u001b[0m\u001b[0;34m.\u001b[0m\u001b[0msend\u001b[0m\u001b[0;34m(\u001b[0m\u001b[0mrequest\u001b[0m\u001b[0;34m,\u001b[0m \u001b[0;34m**\u001b[0m\u001b[0mkwargs\u001b[0m\u001b[0;34m)\u001b[0m\u001b[0;34m\u001b[0m\u001b[0m\n\u001b[0m\u001b[1;32m    577\u001b[0m \u001b[0;34m\u001b[0m\u001b[0m\n\u001b[1;32m    578\u001b[0m         \u001b[0;31m# Total elapsed time of the request (approximately)\u001b[0m\u001b[0;34m\u001b[0m\u001b[0;34m\u001b[0m\u001b[0m\n",
      "\u001b[0;32m/Users/Vicky/anaconda/lib/python2.7/site-packages/requests/adapters.pyc\u001b[0m in \u001b[0;36msend\u001b[0;34m(self, request, stream, timeout, verify, cert, proxies)\u001b[0m\n\u001b[1;32m    435\u001b[0m                 \u001b[0;32mraise\u001b[0m \u001b[0mRetryError\u001b[0m\u001b[0;34m(\u001b[0m\u001b[0me\u001b[0m\u001b[0;34m,\u001b[0m \u001b[0mrequest\u001b[0m\u001b[0;34m=\u001b[0m\u001b[0mrequest\u001b[0m\u001b[0;34m)\u001b[0m\u001b[0;34m\u001b[0m\u001b[0m\n\u001b[1;32m    436\u001b[0m \u001b[0;34m\u001b[0m\u001b[0m\n\u001b[0;32m--> 437\u001b[0;31m             \u001b[0;32mraise\u001b[0m \u001b[0mConnectionError\u001b[0m\u001b[0;34m(\u001b[0m\u001b[0me\u001b[0m\u001b[0;34m,\u001b[0m \u001b[0mrequest\u001b[0m\u001b[0;34m=\u001b[0m\u001b[0mrequest\u001b[0m\u001b[0;34m)\u001b[0m\u001b[0;34m\u001b[0m\u001b[0m\n\u001b[0m\u001b[1;32m    438\u001b[0m \u001b[0;34m\u001b[0m\u001b[0m\n\u001b[1;32m    439\u001b[0m         \u001b[0;32mexcept\u001b[0m \u001b[0mClosedPoolError\u001b[0m \u001b[0;32mas\u001b[0m \u001b[0me\u001b[0m\u001b[0;34m:\u001b[0m\u001b[0;34m\u001b[0m\u001b[0m\n",
      "\u001b[0;31mConnectionError\u001b[0m: HTTPConnectionPool(host='www.amazon.com', port=80): Max retries exceeded with url: /Death-Icarus-Print-10x15/dp/B0172HWRRM (Caused by NewConnectionError('<requests.packages.urllib3.connection.HTTPConnection object at 0x109fc7c10>: Failed to establish a new connection: [Errno 8] nodename nor servname provided, or not known',))"
     ]
    }
   ],
   "source": [
    "for page in range(3,218):\n",
    "    page_url = \"http://www.amazon.com/s/ref=sr_pg_3?rh=n%3A4991425011%2Cn%3A%214991426011%2Cn%3A6685269011%2Cn%3A6685289011&page=\"+str(page)+\"&ie=UTF8&qid=1462467907\"\n",
    "    r = requests.get(page_url)\n",
    "    r.text\n",
    "\n",
    "    b = BeautifulSoup(r.text, 'html.parser')\n",
    "\n",
    "    url_1 = []\n",
    "    for link in b.findAll('a', {'class':\"a-link-normal a-text-normal\"}):\n",
    "        url_1.append(link.get('href'))\n",
    "    \n",
    "    url_list = url_1[::2]\n",
    "\n",
    "    paintings = []\n",
    "    for url in url_list:\n",
    "        paintings.append(scrapePainting(url))\n",
    "        time.sleep(random.randint(5,20))\n",
    "\n",
    "df = pd.DataFrame(paintings)"
   ]
  },
  {
   "cell_type": "code",
   "execution_count": null,
   "metadata": {
    "collapsed": true
   },
   "outputs": [],
   "source": []
  }
 ],
 "metadata": {
  "kernelspec": {
   "display_name": "Python 2",
   "language": "python",
   "name": "python2"
  },
  "language_info": {
   "codemirror_mode": {
    "name": "ipython",
    "version": 2
   },
   "file_extension": ".py",
   "mimetype": "text/x-python",
   "name": "python",
   "nbconvert_exporter": "python",
   "pygments_lexer": "ipython2",
   "version": "2.7.11"
  }
 },
 "nbformat": 4,
 "nbformat_minor": 0
}
