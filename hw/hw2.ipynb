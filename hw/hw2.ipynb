{
 "cells": [
  {
   "cell_type": "code",
   "execution_count": 1,
   "metadata": {
    "collapsed": false
   },
   "outputs": [],
   "source": [
    "import tweepy       # python wrapper for twitter api\n",
    "import json\n",
    "import time\n",
    "import requests\n",
    "import pandas as pd\n",
    "import numpy as np\n",
    "import scipy as sp\n",
    "from sklearn.cross_validation import train_test_split\n",
    "from sklearn.feature_extraction.text import CountVectorizer, TfidfVectorizer\n",
    "from sklearn.linear_model import LogisticRegression\n",
    "from sklearn import metrics\n",
    "from textblob import TextBlob, Word\n",
    "from nltk.stem.snowball import SnowballStemmer\n",
    "\n",
    "# step 0, get your own twitter credentials!"
   ]
  },
  {
   "cell_type": "code",
   "execution_count": 2,
   "metadata": {
    "collapsed": false
   },
   "outputs": [],
   "source": [
    "# this is my own personal twitter api information\n",
    "# if you could be so kind as to sign up yourself on both twitter and mashape that'd be great :)\n",
    "# It's FREEEEEEE\n",
    "api_key = 'g3xAZVinye67J9guxFhGT5Y8f'\n",
    "api_secret = 'TYkqHGyBxNSoziaap8LtygafZpD6cHjLuiIdgfbvNRr3RV2fwU'\n",
    "access_token = '536799553-4jpBdlg8XMtnXCVEA2daxrDYuwT4HTQNx7eEOtoJ'\n",
    "access_secret = 'Mya4FnubounjlXM1Vh4fwDTLwOjIT6UbTNiBzQQUEAJqI'"
   ]
  },
  {
   "cell_type": "code",
   "execution_count": 3,
   "metadata": {
    "collapsed": false
   },
   "outputs": [],
   "source": [
    "# Documentation is your friend! http://docs.tweepy.org/en/v3.1.0/\n",
    "auth = tweepy.OAuthHandler(api_key, api_secret)\n",
    "auth.set_access_token(access_token, access_secret)\n",
    "api = tweepy.API(auth) # returns a tweepy authorization handler object"
   ]
  },
  {
   "cell_type": "code",
   "execution_count": 4,
   "metadata": {
    "collapsed": false
   },
   "outputs": [],
   "source": [
    "# 1. Use Twitter API to stream and store tweets (300 per candidate)\n",
    "# explain geocode is doing\n",
    "bernie_tweets =  api.search(q=\"#berniesanders\", count=100, geocode=\"37.781157,-122.398720,50mi\") + api.search(q='#bernie', count=100, geocode=\"37.781157,-122.398720,50mi\") + api.search(q='#FeelTheBern', count=100, geocode=\"37.781157,-122.398720,50mi\")\n",
    "hilary_tweets = api.search(q='#ImWithHer', count=100, geocode=\"37.781157,-122.398720,50mi\") + api.search(q='#hillaryclinton', count=100, geocode=\"37.781157,-122.398720,50mi\") + api.search(q='#hillary2016', count=100, geocode=\"37.781157,-122.398720,50mi\")\n",
    "the_donald_tweets = api.search(q='#donaldtrump', count=100, geocode=\"37.781157,-122.398720,50mi\") + api.search(q='#trump2016', count=100, geocode=\"37.781157,-122.398720,50mi\") + api.search(q='#trump', count=100, geocode=\"37.781157,-122.398720,50mi\") + api.search(q='#makeamericagreatagain', count=100, geocode=\"37.781157,-122.398720,50mi\")"
   ]
  },
  {
   "cell_type": "markdown",
   "metadata": {},
   "source": [
    "Geocode is returning only tweets from within 50 miles of the given coordinates"
   ]
  },
  {
   "cell_type": "code",
   "execution_count": 5,
   "metadata": {
    "collapsed": false
   },
   "outputs": [
    {
     "data": {
      "text/plain": [
       "Status(contributors=None, truncated=False, text=u'RT @JacloPac: Steps must be taken to prevent #DonaldTrump &amp; the #GOP from the White House....... https://t.co/Hfd50hyjJ6', is_quote_status=False, in_reply_to_status_id=None, id=730247362489233409, favorite_count=0, _api=<tweepy.api.API object at 0x10ec96bd0>, author=User(follow_request_sent=False, has_extended_profile=True, profile_use_background_image=True, _json={u'follow_request_sent': False, u'has_extended_profile': True, u'profile_use_background_image': True, u'default_profile_image': False, u'id': 2287118126, u'profile_background_image_url_https': u'https://abs.twimg.com/images/themes/theme1/bg.png', u'verified': False, u'profile_text_color': u'333333', u'profile_image_url_https': u'https://pbs.twimg.com/profile_images/422105640056537088/5Nh_Fnjx_normal.jpeg', u'profile_sidebar_fill_color': u'DDEEF6', u'entities': {u'description': {u'urls': []}}, u'followers_count': 149, u'profile_sidebar_border_color': u'C0DEED', u'id_str': u'2287118126', u'profile_background_color': u'C0DEED', u'listed_count': 11, u'is_translation_enabled': False, u'utc_offset': None, u'statuses_count': 3357, u'description': u'Motorcycles, NASCAR and STL Cardinals/Royals Baseball-Retired locomotive engineer & a VERY proud democrat! Time 4 us to take back our country! Grad of MSSU', u'friends_count': 282, u'location': u'SW Missouri', u'profile_link_color': u'0084B4', u'profile_image_url': u'http://pbs.twimg.com/profile_images/422105640056537088/5Nh_Fnjx_normal.jpeg', u'following': False, u'geo_enabled': True, u'profile_banner_url': u'https://pbs.twimg.com/profile_banners/2287118126/1401122210', u'profile_background_image_url': u'http://abs.twimg.com/images/themes/theme1/bg.png', u'screen_name': u'Racefan_45', u'lang': u'en', u'profile_background_tile': False, u'favourites_count': 102, u'name': u'Rick Pendleton', u'notifications': False, u'url': None, u'created_at': u'Sat Jan 11 20:02:28 +0000 2014', u'contributors_enabled': False, u'time_zone': None, u'protected': False, u'default_profile': True, u'is_translator': False}, time_zone=None, id=2287118126, _api=<tweepy.api.API object at 0x10ec96bd0>, verified=False, profile_text_color=u'333333', profile_image_url_https=u'https://pbs.twimg.com/profile_images/422105640056537088/5Nh_Fnjx_normal.jpeg', profile_sidebar_fill_color=u'DDEEF6', is_translator=False, geo_enabled=True, entities={u'description': {u'urls': []}}, followers_count=149, protected=False, id_str=u'2287118126', default_profile_image=False, listed_count=11, lang=u'en', utc_offset=None, statuses_count=3357, description=u'Motorcycles, NASCAR and STL Cardinals/Royals Baseball-Retired locomotive engineer & a VERY proud democrat! Time 4 us to take back our country! Grad of MSSU', friends_count=282, profile_link_color=u'0084B4', profile_image_url=u'http://pbs.twimg.com/profile_images/422105640056537088/5Nh_Fnjx_normal.jpeg', notifications=False, profile_background_image_url_https=u'https://abs.twimg.com/images/themes/theme1/bg.png', profile_background_color=u'C0DEED', profile_banner_url=u'https://pbs.twimg.com/profile_banners/2287118126/1401122210', profile_background_image_url=u'http://abs.twimg.com/images/themes/theme1/bg.png', name=u'Rick Pendleton', is_translation_enabled=False, profile_background_tile=False, favourites_count=102, screen_name=u'Racefan_45', url=None, created_at=datetime.datetime(2014, 1, 11, 20, 2, 28), contributors_enabled=False, location=u'SW Missouri', profile_sidebar_border_color=u'C0DEED', default_profile=True, following=False), _json={u'contributors': None, u'truncated': False, u'text': u'RT @JacloPac: Steps must be taken to prevent #DonaldTrump &amp; the #GOP from the White House....... https://t.co/Hfd50hyjJ6', u'is_quote_status': False, u'in_reply_to_status_id': None, u'id': 730247362489233409, u'favorite_count': 0, u'entities': {u'symbols': [], u'user_mentions': [{u'id': 3229506722, u'indices': [3, 12], u'id_str': u'3229506722', u'screen_name': u'JacloPac', u'name': u'JacloPac'}], u'hashtags': [{u'indices': [45, 57], u'text': u'DonaldTrump'}, {u'indices': [68, 72], u'text': u'GOP'}], u'urls': [], u'media': [{u'source_user_id': 3229506722, u'source_status_id_str': u'730196212280758272', u'expanded_url': u'http://twitter.com/JacloPac/status/730196212280758272/photo/1', u'display_url': u'pic.twitter.com/Hfd50hyjJ6', u'url': u'https://t.co/Hfd50hyjJ6', u'media_url_https': u'https://pbs.twimg.com/media/CiItlfrUgAA51CG.jpg', u'source_user_id_str': u'3229506722', u'source_status_id': 730196212280758272, u'id_str': u'730196211769049088', u'sizes': {u'small': {u'h': 210, u'resize': u'fit', u'w': 231}, u'large': {u'h': 210, u'resize': u'fit', u'w': 231}, u'medium': {u'h': 210, u'resize': u'fit', u'w': 231}, u'thumb': {u'h': 150, u'resize': u'crop', u'w': 150}}, u'indices': [101, 124], u'type': u'photo', u'id': 730196211769049088, u'media_url': u'http://pbs.twimg.com/media/CiItlfrUgAA51CG.jpg'}]}, u'retweeted': False, u'coordinates': None, u'source': u'<a href=\"http://twitter.com/download/iphone\" rel=\"nofollow\">Twitter for iPhone</a>', u'in_reply_to_screen_name': None, u'in_reply_to_user_id': None, u'retweet_count': 25, u'id_str': u'730247362489233409', u'favorited': False, u'retweeted_status': {u'contributors': None, u'truncated': False, u'text': u'Steps must be taken to prevent #DonaldTrump &amp; the #GOP from the White House....... https://t.co/Hfd50hyjJ6', u'is_quote_status': False, u'in_reply_to_status_id': None, u'id': 730196212280758272, u'favorite_count': 44, u'entities': {u'symbols': [], u'user_mentions': [], u'hashtags': [{u'indices': [31, 43], u'text': u'DonaldTrump'}, {u'indices': [54, 58], u'text': u'GOP'}], u'urls': [], u'media': [{u'expanded_url': u'http://twitter.com/JacloPac/status/730196212280758272/photo/1', u'display_url': u'pic.twitter.com/Hfd50hyjJ6', u'url': u'https://t.co/Hfd50hyjJ6', u'media_url_https': u'https://pbs.twimg.com/media/CiItlfrUgAA51CG.jpg', u'id_str': u'730196211769049088', u'sizes': {u'small': {u'h': 210, u'resize': u'fit', u'w': 231}, u'large': {u'h': 210, u'resize': u'fit', u'w': 231}, u'medium': {u'h': 210, u'resize': u'fit', u'w': 231}, u'thumb': {u'h': 150, u'resize': u'crop', u'w': 150}}, u'indices': [87, 110], u'type': u'photo', u'id': 730196211769049088, u'media_url': u'http://pbs.twimg.com/media/CiItlfrUgAA51CG.jpg'}]}, u'retweeted': False, u'coordinates': None, u'source': u'<a href=\"http://twitter.com\" rel=\"nofollow\">Twitter Web Client</a>', u'in_reply_to_screen_name': None, u'in_reply_to_user_id': None, u'retweet_count': 25, u'id_str': u'730196212280758272', u'favorited': False, u'user': {u'follow_request_sent': False, u'has_extended_profile': False, u'profile_use_background_image': True, u'default_profile_image': False, u'id': 3229506722, u'profile_background_image_url_https': u'https://abs.twimg.com/images/themes/theme1/bg.png', u'verified': False, u'profile_text_color': u'333333', u'profile_image_url_https': u'https://pbs.twimg.com/profile_images/604180947202760705/3OQ1RLlC_normal.jpg', u'profile_sidebar_fill_color': u'DDEEF6', u'entities': {u'url': {u'urls': [{u'url': u'http://t.co/jOhlHZgW3X', u'indices': [0, 22], u'expanded_url': u'http://www.jobsamericancanliveon.myevent.com/3/donate.htm', u'display_url': u'jobsamericancanliveon.myevent.com/3/donate.htm'}]}, u'description': {u'urls': []}}, u'followers_count': 13458, u'profile_sidebar_border_color': u'C0DEED', u'id_str': u'3229506722', u'profile_background_color': u'C0DEED', u'listed_count': 83, u'is_translation_enabled': False, u'utc_offset': -25200, u'statuses_count': 2242, u'description': u'Jobs Americans Can Live On! A Nonprofit, Leveraging Washington via votes 2 end #wageinequality #corpwelfare & provide #livablewage legislation.  Concordia', u'friends_count': 11238, u'location': u'Berkeley, California', u'profile_link_color': u'0084B4', u'profile_image_url': u'http://pbs.twimg.com/profile_images/604180947202760705/3OQ1RLlC_normal.jpg', u'following': False, u'geo_enabled': False, u'profile_banner_url': u'https://pbs.twimg.com/profile_banners/3229506722/1434159703', u'profile_background_image_url': u'http://abs.twimg.com/images/themes/theme1/bg.png', u'screen_name': u'JacloPac', u'lang': u'en', u'profile_background_tile': False, u'favourites_count': 1296, u'name': u'JacloPac', u'notifications': False, u'url': u'http://t.co/jOhlHZgW3X', u'created_at': u'Fri May 29 06:56:37 +0000 2015', u'contributors_enabled': False, u'time_zone': u'Pacific Time (US & Canada)', u'protected': False, u'default_profile': True, u'is_translator': False}, u'geo': None, u'in_reply_to_user_id_str': None, u'possibly_sensitive': False, u'lang': u'en', u'created_at': u'Wed May 11 00:41:58 +0000 2016', u'in_reply_to_status_id_str': None, u'place': None, u'metadata': {u'iso_language_code': u'en', u'result_type': u'recent'}}, u'user': {u'follow_request_sent': False, u'has_extended_profile': True, u'profile_use_background_image': True, u'default_profile_image': False, u'id': 2287118126, u'profile_background_image_url_https': u'https://abs.twimg.com/images/themes/theme1/bg.png', u'verified': False, u'profile_text_color': u'333333', u'profile_image_url_https': u'https://pbs.twimg.com/profile_images/422105640056537088/5Nh_Fnjx_normal.jpeg', u'profile_sidebar_fill_color': u'DDEEF6', u'entities': {u'description': {u'urls': []}}, u'followers_count': 149, u'profile_sidebar_border_color': u'C0DEED', u'id_str': u'2287118126', u'profile_background_color': u'C0DEED', u'listed_count': 11, u'is_translation_enabled': False, u'utc_offset': None, u'statuses_count': 3357, u'description': u'Motorcycles, NASCAR and STL Cardinals/Royals Baseball-Retired locomotive engineer & a VERY proud democrat! Time 4 us to take back our country! Grad of MSSU', u'friends_count': 282, u'location': u'SW Missouri', u'profile_link_color': u'0084B4', u'profile_image_url': u'http://pbs.twimg.com/profile_images/422105640056537088/5Nh_Fnjx_normal.jpeg', u'following': False, u'geo_enabled': True, u'profile_banner_url': u'https://pbs.twimg.com/profile_banners/2287118126/1401122210', u'profile_background_image_url': u'http://abs.twimg.com/images/themes/theme1/bg.png', u'screen_name': u'Racefan_45', u'lang': u'en', u'profile_background_tile': False, u'favourites_count': 102, u'name': u'Rick Pendleton', u'notifications': False, u'url': None, u'created_at': u'Sat Jan 11 20:02:28 +0000 2014', u'contributors_enabled': False, u'time_zone': None, u'protected': False, u'default_profile': True, u'is_translator': False}, u'geo': None, u'in_reply_to_user_id_str': None, u'possibly_sensitive': False, u'lang': u'en', u'created_at': u'Wed May 11 04:05:13 +0000 2016', u'in_reply_to_status_id_str': None, u'place': None, u'metadata': {u'iso_language_code': u'en', u'result_type': u'recent'}}, coordinates=None, entities={u'symbols': [], u'user_mentions': [{u'id': 3229506722, u'indices': [3, 12], u'id_str': u'3229506722', u'screen_name': u'JacloPac', u'name': u'JacloPac'}], u'hashtags': [{u'indices': [45, 57], u'text': u'DonaldTrump'}, {u'indices': [68, 72], u'text': u'GOP'}], u'urls': [], u'media': [{u'source_user_id': 3229506722, u'source_status_id_str': u'730196212280758272', u'expanded_url': u'http://twitter.com/JacloPac/status/730196212280758272/photo/1', u'display_url': u'pic.twitter.com/Hfd50hyjJ6', u'url': u'https://t.co/Hfd50hyjJ6', u'media_url_https': u'https://pbs.twimg.com/media/CiItlfrUgAA51CG.jpg', u'source_user_id_str': u'3229506722', u'source_status_id': 730196212280758272, u'id_str': u'730196211769049088', u'sizes': {u'small': {u'h': 210, u'resize': u'fit', u'w': 231}, u'large': {u'h': 210, u'resize': u'fit', u'w': 231}, u'medium': {u'h': 210, u'resize': u'fit', u'w': 231}, u'thumb': {u'h': 150, u'resize': u'crop', u'w': 150}}, u'indices': [101, 124], u'type': u'photo', u'id': 730196211769049088, u'media_url': u'http://pbs.twimg.com/media/CiItlfrUgAA51CG.jpg'}]}, in_reply_to_screen_name=None, id_str=u'730247362489233409', retweet_count=25, in_reply_to_user_id=None, favorited=False, retweeted_status=Status(contributors=None, truncated=False, text=u'Steps must be taken to prevent #DonaldTrump &amp; the #GOP from the White House....... https://t.co/Hfd50hyjJ6', is_quote_status=False, in_reply_to_status_id=None, id=730196212280758272, favorite_count=44, _api=<tweepy.api.API object at 0x10ec96bd0>, author=User(follow_request_sent=False, has_extended_profile=False, profile_use_background_image=True, _json={u'follow_request_sent': False, u'has_extended_profile': False, u'profile_use_background_image': True, u'default_profile_image': False, u'id': 3229506722, u'profile_background_image_url_https': u'https://abs.twimg.com/images/themes/theme1/bg.png', u'verified': False, u'profile_text_color': u'333333', u'profile_image_url_https': u'https://pbs.twimg.com/profile_images/604180947202760705/3OQ1RLlC_normal.jpg', u'profile_sidebar_fill_color': u'DDEEF6', u'entities': {u'url': {u'urls': [{u'url': u'http://t.co/jOhlHZgW3X', u'indices': [0, 22], u'expanded_url': u'http://www.jobsamericancanliveon.myevent.com/3/donate.htm', u'display_url': u'jobsamericancanliveon.myevent.com/3/donate.htm'}]}, u'description': {u'urls': []}}, u'followers_count': 13458, u'profile_sidebar_border_color': u'C0DEED', u'id_str': u'3229506722', u'profile_background_color': u'C0DEED', u'listed_count': 83, u'is_translation_enabled': False, u'utc_offset': -25200, u'statuses_count': 2242, u'description': u'Jobs Americans Can Live On! A Nonprofit, Leveraging Washington via votes 2 end #wageinequality #corpwelfare & provide #livablewage legislation.  Concordia', u'friends_count': 11238, u'location': u'Berkeley, California', u'profile_link_color': u'0084B4', u'profile_image_url': u'http://pbs.twimg.com/profile_images/604180947202760705/3OQ1RLlC_normal.jpg', u'following': False, u'geo_enabled': False, u'profile_banner_url': u'https://pbs.twimg.com/profile_banners/3229506722/1434159703', u'profile_background_image_url': u'http://abs.twimg.com/images/themes/theme1/bg.png', u'screen_name': u'JacloPac', u'lang': u'en', u'profile_background_tile': False, u'favourites_count': 1296, u'name': u'JacloPac', u'notifications': False, u'url': u'http://t.co/jOhlHZgW3X', u'created_at': u'Fri May 29 06:56:37 +0000 2015', u'contributors_enabled': False, u'time_zone': u'Pacific Time (US & Canada)', u'protected': False, u'default_profile': True, u'is_translator': False}, time_zone=u'Pacific Time (US & Canada)', id=3229506722, _api=<tweepy.api.API object at 0x10ec96bd0>, verified=False, profile_text_color=u'333333', profile_image_url_https=u'https://pbs.twimg.com/profile_images/604180947202760705/3OQ1RLlC_normal.jpg', profile_sidebar_fill_color=u'DDEEF6', is_translator=False, geo_enabled=False, entities={u'url': {u'urls': [{u'url': u'http://t.co/jOhlHZgW3X', u'indices': [0, 22], u'expanded_url': u'http://www.jobsamericancanliveon.myevent.com/3/donate.htm', u'display_url': u'jobsamericancanliveon.myevent.com/3/donate.htm'}]}, u'description': {u'urls': []}}, followers_count=13458, protected=False, id_str=u'3229506722', default_profile_image=False, listed_count=83, lang=u'en', utc_offset=-25200, statuses_count=2242, description=u'Jobs Americans Can Live On! A Nonprofit, Leveraging Washington via votes 2 end #wageinequality #corpwelfare & provide #livablewage legislation.  Concordia', friends_count=11238, profile_link_color=u'0084B4', profile_image_url=u'http://pbs.twimg.com/profile_images/604180947202760705/3OQ1RLlC_normal.jpg', notifications=False, profile_background_image_url_https=u'https://abs.twimg.com/images/themes/theme1/bg.png', profile_background_color=u'C0DEED', profile_banner_url=u'https://pbs.twimg.com/profile_banners/3229506722/1434159703', profile_background_image_url=u'http://abs.twimg.com/images/themes/theme1/bg.png', name=u'JacloPac', is_translation_enabled=False, profile_background_tile=False, favourites_count=1296, screen_name=u'JacloPac', url=u'http://t.co/jOhlHZgW3X', created_at=datetime.datetime(2015, 5, 29, 6, 56, 37), contributors_enabled=False, location=u'Berkeley, California', profile_sidebar_border_color=u'C0DEED', default_profile=True, following=False), _json={u'contributors': None, u'truncated': False, u'text': u'Steps must be taken to prevent #DonaldTrump &amp; the #GOP from the White House....... https://t.co/Hfd50hyjJ6', u'is_quote_status': False, u'in_reply_to_status_id': None, u'id': 730196212280758272, u'favorite_count': 44, u'entities': {u'symbols': [], u'user_mentions': [], u'hashtags': [{u'indices': [31, 43], u'text': u'DonaldTrump'}, {u'indices': [54, 58], u'text': u'GOP'}], u'urls': [], u'media': [{u'expanded_url': u'http://twitter.com/JacloPac/status/730196212280758272/photo/1', u'display_url': u'pic.twitter.com/Hfd50hyjJ6', u'url': u'https://t.co/Hfd50hyjJ6', u'media_url_https': u'https://pbs.twimg.com/media/CiItlfrUgAA51CG.jpg', u'id_str': u'730196211769049088', u'sizes': {u'small': {u'h': 210, u'resize': u'fit', u'w': 231}, u'large': {u'h': 210, u'resize': u'fit', u'w': 231}, u'medium': {u'h': 210, u'resize': u'fit', u'w': 231}, u'thumb': {u'h': 150, u'resize': u'crop', u'w': 150}}, u'indices': [87, 110], u'type': u'photo', u'id': 730196211769049088, u'media_url': u'http://pbs.twimg.com/media/CiItlfrUgAA51CG.jpg'}]}, u'retweeted': False, u'coordinates': None, u'source': u'<a href=\"http://twitter.com\" rel=\"nofollow\">Twitter Web Client</a>', u'in_reply_to_screen_name': None, u'in_reply_to_user_id': None, u'retweet_count': 25, u'id_str': u'730196212280758272', u'favorited': False, u'user': {u'follow_request_sent': False, u'has_extended_profile': False, u'profile_use_background_image': True, u'default_profile_image': False, u'id': 3229506722, u'profile_background_image_url_https': u'https://abs.twimg.com/images/themes/theme1/bg.png', u'verified': False, u'profile_text_color': u'333333', u'profile_image_url_https': u'https://pbs.twimg.com/profile_images/604180947202760705/3OQ1RLlC_normal.jpg', u'profile_sidebar_fill_color': u'DDEEF6', u'entities': {u'url': {u'urls': [{u'url': u'http://t.co/jOhlHZgW3X', u'indices': [0, 22], u'expanded_url': u'http://www.jobsamericancanliveon.myevent.com/3/donate.htm', u'display_url': u'jobsamericancanliveon.myevent.com/3/donate.htm'}]}, u'description': {u'urls': []}}, u'followers_count': 13458, u'profile_sidebar_border_color': u'C0DEED', u'id_str': u'3229506722', u'profile_background_color': u'C0DEED', u'listed_count': 83, u'is_translation_enabled': False, u'utc_offset': -25200, u'statuses_count': 2242, u'description': u'Jobs Americans Can Live On! A Nonprofit, Leveraging Washington via votes 2 end #wageinequality #corpwelfare & provide #livablewage legislation.  Concordia', u'friends_count': 11238, u'location': u'Berkeley, California', u'profile_link_color': u'0084B4', u'profile_image_url': u'http://pbs.twimg.com/profile_images/604180947202760705/3OQ1RLlC_normal.jpg', u'following': False, u'geo_enabled': False, u'profile_banner_url': u'https://pbs.twimg.com/profile_banners/3229506722/1434159703', u'profile_background_image_url': u'http://abs.twimg.com/images/themes/theme1/bg.png', u'screen_name': u'JacloPac', u'lang': u'en', u'profile_background_tile': False, u'favourites_count': 1296, u'name': u'JacloPac', u'notifications': False, u'url': u'http://t.co/jOhlHZgW3X', u'created_at': u'Fri May 29 06:56:37 +0000 2015', u'contributors_enabled': False, u'time_zone': u'Pacific Time (US & Canada)', u'protected': False, u'default_profile': True, u'is_translator': False}, u'geo': None, u'in_reply_to_user_id_str': None, u'possibly_sensitive': False, u'lang': u'en', u'created_at': u'Wed May 11 00:41:58 +0000 2016', u'in_reply_to_status_id_str': None, u'place': None, u'metadata': {u'iso_language_code': u'en', u'result_type': u'recent'}}, coordinates=None, entities={u'symbols': [], u'user_mentions': [], u'hashtags': [{u'indices': [31, 43], u'text': u'DonaldTrump'}, {u'indices': [54, 58], u'text': u'GOP'}], u'urls': [], u'media': [{u'expanded_url': u'http://twitter.com/JacloPac/status/730196212280758272/photo/1', u'display_url': u'pic.twitter.com/Hfd50hyjJ6', u'url': u'https://t.co/Hfd50hyjJ6', u'media_url_https': u'https://pbs.twimg.com/media/CiItlfrUgAA51CG.jpg', u'id_str': u'730196211769049088', u'sizes': {u'small': {u'h': 210, u'resize': u'fit', u'w': 231}, u'large': {u'h': 210, u'resize': u'fit', u'w': 231}, u'medium': {u'h': 210, u'resize': u'fit', u'w': 231}, u'thumb': {u'h': 150, u'resize': u'crop', u'w': 150}}, u'indices': [87, 110], u'type': u'photo', u'id': 730196211769049088, u'media_url': u'http://pbs.twimg.com/media/CiItlfrUgAA51CG.jpg'}]}, in_reply_to_screen_name=None, id_str=u'730196212280758272', retweet_count=25, in_reply_to_user_id=None, favorited=False, source_url=u'http://twitter.com', user=User(follow_request_sent=False, has_extended_profile=False, profile_use_background_image=True, _json={u'follow_request_sent': False, u'has_extended_profile': False, u'profile_use_background_image': True, u'default_profile_image': False, u'id': 3229506722, u'profile_background_image_url_https': u'https://abs.twimg.com/images/themes/theme1/bg.png', u'verified': False, u'profile_text_color': u'333333', u'profile_image_url_https': u'https://pbs.twimg.com/profile_images/604180947202760705/3OQ1RLlC_normal.jpg', u'profile_sidebar_fill_color': u'DDEEF6', u'entities': {u'url': {u'urls': [{u'url': u'http://t.co/jOhlHZgW3X', u'indices': [0, 22], u'expanded_url': u'http://www.jobsamericancanliveon.myevent.com/3/donate.htm', u'display_url': u'jobsamericancanliveon.myevent.com/3/donate.htm'}]}, u'description': {u'urls': []}}, u'followers_count': 13458, u'profile_sidebar_border_color': u'C0DEED', u'id_str': u'3229506722', u'profile_background_color': u'C0DEED', u'listed_count': 83, u'is_translation_enabled': False, u'utc_offset': -25200, u'statuses_count': 2242, u'description': u'Jobs Americans Can Live On! A Nonprofit, Leveraging Washington via votes 2 end #wageinequality #corpwelfare & provide #livablewage legislation.  Concordia', u'friends_count': 11238, u'location': u'Berkeley, California', u'profile_link_color': u'0084B4', u'profile_image_url': u'http://pbs.twimg.com/profile_images/604180947202760705/3OQ1RLlC_normal.jpg', u'following': False, u'geo_enabled': False, u'profile_banner_url': u'https://pbs.twimg.com/profile_banners/3229506722/1434159703', u'profile_background_image_url': u'http://abs.twimg.com/images/themes/theme1/bg.png', u'screen_name': u'JacloPac', u'lang': u'en', u'profile_background_tile': False, u'favourites_count': 1296, u'name': u'JacloPac', u'notifications': False, u'url': u'http://t.co/jOhlHZgW3X', u'created_at': u'Fri May 29 06:56:37 +0000 2015', u'contributors_enabled': False, u'time_zone': u'Pacific Time (US & Canada)', u'protected': False, u'default_profile': True, u'is_translator': False}, time_zone=u'Pacific Time (US & Canada)', id=3229506722, _api=<tweepy.api.API object at 0x10ec96bd0>, verified=False, profile_text_color=u'333333', profile_image_url_https=u'https://pbs.twimg.com/profile_images/604180947202760705/3OQ1RLlC_normal.jpg', profile_sidebar_fill_color=u'DDEEF6', is_translator=False, geo_enabled=False, entities={u'url': {u'urls': [{u'url': u'http://t.co/jOhlHZgW3X', u'indices': [0, 22], u'expanded_url': u'http://www.jobsamericancanliveon.myevent.com/3/donate.htm', u'display_url': u'jobsamericancanliveon.myevent.com/3/donate.htm'}]}, u'description': {u'urls': []}}, followers_count=13458, protected=False, id_str=u'3229506722', default_profile_image=False, listed_count=83, lang=u'en', utc_offset=-25200, statuses_count=2242, description=u'Jobs Americans Can Live On! A Nonprofit, Leveraging Washington via votes 2 end #wageinequality #corpwelfare & provide #livablewage legislation.  Concordia', friends_count=11238, profile_link_color=u'0084B4', profile_image_url=u'http://pbs.twimg.com/profile_images/604180947202760705/3OQ1RLlC_normal.jpg', notifications=False, profile_background_image_url_https=u'https://abs.twimg.com/images/themes/theme1/bg.png', profile_background_color=u'C0DEED', profile_banner_url=u'https://pbs.twimg.com/profile_banners/3229506722/1434159703', profile_background_image_url=u'http://abs.twimg.com/images/themes/theme1/bg.png', name=u'JacloPac', is_translation_enabled=False, profile_background_tile=False, favourites_count=1296, screen_name=u'JacloPac', url=u'http://t.co/jOhlHZgW3X', created_at=datetime.datetime(2015, 5, 29, 6, 56, 37), contributors_enabled=False, location=u'Berkeley, California', profile_sidebar_border_color=u'C0DEED', default_profile=True, following=False), geo=None, in_reply_to_user_id_str=None, possibly_sensitive=False, lang=u'en', created_at=datetime.datetime(2016, 5, 11, 0, 41, 58), in_reply_to_status_id_str=None, place=None, source=u'Twitter Web Client', retweeted=False, metadata={u'iso_language_code': u'en', u'result_type': u'recent'}), source_url=u'http://twitter.com/download/iphone', user=User(follow_request_sent=False, has_extended_profile=True, profile_use_background_image=True, _json={u'follow_request_sent': False, u'has_extended_profile': True, u'profile_use_background_image': True, u'default_profile_image': False, u'id': 2287118126, u'profile_background_image_url_https': u'https://abs.twimg.com/images/themes/theme1/bg.png', u'verified': False, u'profile_text_color': u'333333', u'profile_image_url_https': u'https://pbs.twimg.com/profile_images/422105640056537088/5Nh_Fnjx_normal.jpeg', u'profile_sidebar_fill_color': u'DDEEF6', u'entities': {u'description': {u'urls': []}}, u'followers_count': 149, u'profile_sidebar_border_color': u'C0DEED', u'id_str': u'2287118126', u'profile_background_color': u'C0DEED', u'listed_count': 11, u'is_translation_enabled': False, u'utc_offset': None, u'statuses_count': 3357, u'description': u'Motorcycles, NASCAR and STL Cardinals/Royals Baseball-Retired locomotive engineer & a VERY proud democrat! Time 4 us to take back our country! Grad of MSSU', u'friends_count': 282, u'location': u'SW Missouri', u'profile_link_color': u'0084B4', u'profile_image_url': u'http://pbs.twimg.com/profile_images/422105640056537088/5Nh_Fnjx_normal.jpeg', u'following': False, u'geo_enabled': True, u'profile_banner_url': u'https://pbs.twimg.com/profile_banners/2287118126/1401122210', u'profile_background_image_url': u'http://abs.twimg.com/images/themes/theme1/bg.png', u'screen_name': u'Racefan_45', u'lang': u'en', u'profile_background_tile': False, u'favourites_count': 102, u'name': u'Rick Pendleton', u'notifications': False, u'url': None, u'created_at': u'Sat Jan 11 20:02:28 +0000 2014', u'contributors_enabled': False, u'time_zone': None, u'protected': False, u'default_profile': True, u'is_translator': False}, time_zone=None, id=2287118126, _api=<tweepy.api.API object at 0x10ec96bd0>, verified=False, profile_text_color=u'333333', profile_image_url_https=u'https://pbs.twimg.com/profile_images/422105640056537088/5Nh_Fnjx_normal.jpeg', profile_sidebar_fill_color=u'DDEEF6', is_translator=False, geo_enabled=True, entities={u'description': {u'urls': []}}, followers_count=149, protected=False, id_str=u'2287118126', default_profile_image=False, listed_count=11, lang=u'en', utc_offset=None, statuses_count=3357, description=u'Motorcycles, NASCAR and STL Cardinals/Royals Baseball-Retired locomotive engineer & a VERY proud democrat! Time 4 us to take back our country! Grad of MSSU', friends_count=282, profile_link_color=u'0084B4', profile_image_url=u'http://pbs.twimg.com/profile_images/422105640056537088/5Nh_Fnjx_normal.jpeg', notifications=False, profile_background_image_url_https=u'https://abs.twimg.com/images/themes/theme1/bg.png', profile_background_color=u'C0DEED', profile_banner_url=u'https://pbs.twimg.com/profile_banners/2287118126/1401122210', profile_background_image_url=u'http://abs.twimg.com/images/themes/theme1/bg.png', name=u'Rick Pendleton', is_translation_enabled=False, profile_background_tile=False, favourites_count=102, screen_name=u'Racefan_45', url=None, created_at=datetime.datetime(2014, 1, 11, 20, 2, 28), contributors_enabled=False, location=u'SW Missouri', profile_sidebar_border_color=u'C0DEED', default_profile=True, following=False), geo=None, in_reply_to_user_id_str=None, possibly_sensitive=False, lang=u'en', created_at=datetime.datetime(2016, 5, 11, 4, 5, 13), in_reply_to_status_id_str=None, place=None, source=u'Twitter for iPhone', retweeted=False, metadata={u'iso_language_code': u'en', u'result_type': u'recent'})"
      ]
     },
     "execution_count": 5,
     "metadata": {},
     "output_type": "execute_result"
    }
   ],
   "source": [
    "the_donald_tweets[0]"
   ]
  },
  {
   "cell_type": "code",
   "execution_count": 6,
   "metadata": {
    "collapsed": false
   },
   "outputs": [
    {
     "name": "stdout",
     "output_type": "stream",
     "text": [
      "['__class__', '__delattr__', '__dict__', '__doc__', '__eq__', '__format__', '__getattribute__', '__getstate__', '__hash__', '__init__', '__module__', '__ne__', '__new__', '__reduce__', '__reduce_ex__', '__repr__', '__setattr__', '__sizeof__', '__str__', '__subclasshook__', '__weakref__', '_api', '_json', 'author', 'contributors', 'coordinates', 'created_at', 'destroy', 'entities', 'favorite', 'favorite_count', 'favorited', 'geo', 'id', 'id_str', 'in_reply_to_screen_name', 'in_reply_to_status_id', 'in_reply_to_status_id_str', 'in_reply_to_user_id', 'in_reply_to_user_id_str', 'is_quote_status', 'lang', 'metadata', 'parse', 'parse_list', 'place', 'possibly_sensitive', 'retweet', 'retweet_count', 'retweeted', 'retweeted_status', 'retweets', 'source', 'source_url', 'text', 'truncated', 'user']\n"
     ]
    }
   ],
   "source": [
    "# wrappers come with built in python attributes and methods!\n",
    "print dir(the_donald_tweets[0])"
   ]
  },
  {
   "cell_type": "code",
   "execution_count": 7,
   "metadata": {
    "collapsed": false
   },
   "outputs": [
    {
     "name": "stdout",
     "output_type": "stream",
     "text": [
      "2016-05-11 04:05:13\n",
      "RT @JacloPac: Steps must be taken to prevent #DonaldTrump &amp; the #GOP from the White House....... https://t.co/Hfd50hyjJ6\n",
      "0\n",
      "False\n",
      "en\n",
      "None\n",
      "25\n",
      "False\n",
      "None\n"
     ]
    }
   ],
   "source": [
    "print the_donald_tweets[0].created_at\n",
    "print the_donald_tweets[0].text\n",
    "print the_donald_tweets[0].favorite_count\n",
    "print the_donald_tweets[0].favorited\n",
    "print the_donald_tweets[0].lang\n",
    "print the_donald_tweets[0].geo\n",
    "print the_donald_tweets[0].retweet_count\n",
    "print the_donald_tweets[0].retweeted\n",
    "print the_donald_tweets[0].coordinates"
   ]
  },
  {
   "cell_type": "code",
   "execution_count": 10,
   "metadata": {
    "collapsed": false
   },
   "outputs": [],
   "source": [
    "def parse_status_objects(tweet_list,candidate, party):\n",
    "    modified_tweets = list()\n",
    "    for x in tweet_list:\n",
    "        modified_tweets.append( [\n",
    "                    x.created_at,\n",
    "                    x.text,\n",
    "                    x.favorite_count,\n",
    "                    x.favorited,\n",
    "                    x.lang,\n",
    "                    x.geo,\n",
    "                    x.retweet_count,\n",
    "                    x.retweeted,\n",
    "                    x.coordinates,\n",
    "                    candidate,\n",
    "                    party\n",
    "                ])\n",
    "    return modified_tweets\n",
    "        \n",
    "hilary_tweets = parse_status_objects(hilary_tweets,0,1)\n",
    "the_donald_tweets = parse_status_objects(the_donald_tweets,2,0)\n",
    "bernie_tweets = parse_status_objects(bernie_tweets,1,1)"
   ]
  },
  {
   "cell_type": "code",
   "execution_count": 11,
   "metadata": {
    "collapsed": false
   },
   "outputs": [
    {
     "name": "stdout",
     "output_type": "stream",
     "text": [
      "[datetime.datetime(2016, 5, 11, 4, 18, 51), u'Endorsements @sfbg #BernieSanders @JaneKim for #SD11 #YesOnC #ReformDemocrats #CAPrimary #sfpolitics #RunjaneRun  https://t.co/8nvhzrnW7K', 0, False, u'und', None, 0, False, None, 1, 1]\n",
      "[datetime.datetime(2016, 5, 11, 4, 5, 13), u'RT @JacloPac: Steps must be taken to prevent #DonaldTrump &amp; the #GOP from the White House....... https://t.co/Hfd50hyjJ6', 0, False, u'en', None, 25, False, None, 2, 0]\n",
      "[datetime.datetime(2016, 5, 11, 4, 13, 9), u'Another reason @HllaryClinton is the stronger #Democratic candidate: Pro-HRC super-PACs are necessary to define &amp; stop Trump. #ImWithHer', 0, False, u'en', None, 0, False, None, 0, 1]\n"
     ]
    }
   ],
   "source": [
    "print bernie_tweets[0]\n",
    "print the_donald_tweets[0]\n",
    "print hilary_tweets[0]"
   ]
  },
  {
   "cell_type": "code",
   "execution_count": 18,
   "metadata": {
    "collapsed": false,
    "scrolled": false
   },
   "outputs": [],
   "source": [
    "# 2 Create a dataframe that combines all of the tweets from each candidate\n",
    "# To do so, you will need to concat the data frames\n",
    "# so each row is a tweet and your columns should be \n",
    "# date, text, favorite_count,favorited, language, geocode, rwtweet count, retweeted, coordinates\n",
    "\n",
    "Bernie = pd.DataFrame(data = bernie_tweets, columns = ['date', 'text', 'favorite_count', 'favorited', 'language', \n",
    "                                                       'geocode', 'rwtweet count', 'retweeted', 'coordinates','candidate','party'])\n",
    "\n",
    "Donald = pd.DataFrame(data = the_donald_tweets, columns = ['date', 'text', 'favorite_count', 'favorited', 'language', \n",
    "                                                       'geocode', 'rwtweet count', 'retweeted', 'coordinates','candidate','party'])\n",
    "\n",
    "Hilary = pd.DataFrame(data = hilary_tweets, columns = ['date', 'text', 'favorite_count', 'favorited', 'language', \n",
    "                                                       'geocode', 'rwtweet count', 'retweeted', 'coordinates','candidate','party'])\n",
    "\n",
    "\n",
    "\n",
    "df = pd.concat([Bernie, Hilary, Donald], axis = 0)\n",
    "pd.set_option('max_colwidth', 500)\n",
    "\n",
    "\n",
    "df = df.reset_index()"
   ]
  },
  {
   "cell_type": "code",
   "execution_count": 13,
   "metadata": {
    "collapsed": true
   },
   "outputs": [],
   "source": [
    "# 3 Create a function to take in a string and output the textblob sentiment of that string\n",
    "def sentiment(string):\n",
    "    tweet = TextBlob(string)\n",
    "    return tweet.sentiment.polarity"
   ]
  },
  {
   "cell_type": "code",
   "execution_count": 14,
   "metadata": {
    "collapsed": true
   },
   "outputs": [],
   "source": [
    "# 4 Add a column to your data frame called 'sentiment' which holds the sentiment of that tweet (hint: use the function from #3)\n",
    "df['sentiment'] = df.text.apply(sentiment)"
   ]
  },
  {
   "cell_type": "code",
   "execution_count": null,
   "metadata": {
    "collapsed": false
   },
   "outputs": [],
   "source": [
    "#df[0]?"
   ]
  },
  {
   "cell_type": "code",
   "execution_count": 15,
   "metadata": {
    "collapsed": false,
    "scrolled": true
   },
   "outputs": [
    {
     "data": {
      "text/html": [
       "<div>\n",
       "<table border=\"1\" class=\"dataframe\">\n",
       "  <thead>\n",
       "    <tr style=\"text-align: right;\">\n",
       "      <th></th>\n",
       "      <th>index</th>\n",
       "      <th>date</th>\n",
       "      <th>text</th>\n",
       "      <th>favorite_count</th>\n",
       "      <th>favorited</th>\n",
       "      <th>language</th>\n",
       "      <th>geocode</th>\n",
       "      <th>rwtweet count</th>\n",
       "      <th>retweeted</th>\n",
       "      <th>coordinates</th>\n",
       "      <th>candidate</th>\n",
       "      <th>party</th>\n",
       "      <th>sentiment</th>\n",
       "      <th>word_count</th>\n",
       "    </tr>\n",
       "  </thead>\n",
       "  <tbody>\n",
       "    <tr>\n",
       "      <th>0</th>\n",
       "      <td>0</td>\n",
       "      <td>2016-05-11 04:18:51</td>\n",
       "      <td>Endorsements @sfbg #BernieSanders @JaneKim for #SD11 #YesOnC #ReformDemocrats #CAPrimary #sfpolitics #RunjaneRun  https://t.co/8nvhzrnW7K</td>\n",
       "      <td>0</td>\n",
       "      <td>False</td>\n",
       "      <td>und</td>\n",
       "      <td>None</td>\n",
       "      <td>0</td>\n",
       "      <td>False</td>\n",
       "      <td>None</td>\n",
       "      <td>1</td>\n",
       "      <td>1</td>\n",
       "      <td>0.000000</td>\n",
       "      <td>13</td>\n",
       "    </tr>\n",
       "    <tr>\n",
       "      <th>1</th>\n",
       "      <td>1</td>\n",
       "      <td>2016-05-11 04:18:44</td>\n",
       "      <td>RT @LiLightfoot: It takes honesty, integrity, compassion, and common sense to inspire the people! #BernieSanders Congrats on your win https…</td>\n",
       "      <td>0</td>\n",
       "      <td>False</td>\n",
       "      <td>en</td>\n",
       "      <td>None</td>\n",
       "      <td>10</td>\n",
       "      <td>False</td>\n",
       "      <td>None</td>\n",
       "      <td>1</td>\n",
       "      <td>1</td>\n",
       "      <td>0.212500</td>\n",
       "      <td>20</td>\n",
       "    </tr>\n",
       "    <tr>\n",
       "      <th>2</th>\n",
       "      <td>2</td>\n",
       "      <td>2016-05-11 04:10:24</td>\n",
       "      <td>Register or re-register to change party affiliation. #CAPrimary #LosAngeles #BernieSanders https://t.co/hGiLDonjaU</td>\n",
       "      <td>0</td>\n",
       "      <td>False</td>\n",
       "      <td>en</td>\n",
       "      <td>None</td>\n",
       "      <td>0</td>\n",
       "      <td>False</td>\n",
       "      <td>None</td>\n",
       "      <td>1</td>\n",
       "      <td>1</td>\n",
       "      <td>0.000000</td>\n",
       "      <td>12</td>\n",
       "    </tr>\n",
       "    <tr>\n",
       "      <th>3</th>\n",
       "      <td>3</td>\n",
       "      <td>2016-05-11 04:00:31</td>\n",
       "      <td>RT @LiLightfoot: It takes honesty, integrity, compassion, and common sense to inspire the people! #BernieSanders Congrats on your win https…</td>\n",
       "      <td>0</td>\n",
       "      <td>False</td>\n",
       "      <td>en</td>\n",
       "      <td>None</td>\n",
       "      <td>10</td>\n",
       "      <td>False</td>\n",
       "      <td>None</td>\n",
       "      <td>1</td>\n",
       "      <td>1</td>\n",
       "      <td>0.212500</td>\n",
       "      <td>20</td>\n",
       "    </tr>\n",
       "    <tr>\n",
       "      <th>4</th>\n",
       "      <td>4</td>\n",
       "      <td>2016-05-11 03:56:50</td>\n",
       "      <td>RT @LiLightfoot: It takes honesty, integrity, compassion, and common sense to inspire the people! #BernieSanders Congrats on your win https…</td>\n",
       "      <td>0</td>\n",
       "      <td>False</td>\n",
       "      <td>en</td>\n",
       "      <td>None</td>\n",
       "      <td>10</td>\n",
       "      <td>False</td>\n",
       "      <td>None</td>\n",
       "      <td>1</td>\n",
       "      <td>1</td>\n",
       "      <td>0.212500</td>\n",
       "      <td>20</td>\n",
       "    </tr>\n",
       "    <tr>\n",
       "      <th>5</th>\n",
       "      <td>5</td>\n",
       "      <td>2016-05-11 03:55:57</td>\n",
       "      <td>RT @LiLightfoot: It takes honesty, integrity, compassion, and common sense to inspire the people! #BernieSanders Congrats on your win https…</td>\n",
       "      <td>0</td>\n",
       "      <td>False</td>\n",
       "      <td>en</td>\n",
       "      <td>None</td>\n",
       "      <td>10</td>\n",
       "      <td>False</td>\n",
       "      <td>None</td>\n",
       "      <td>1</td>\n",
       "      <td>1</td>\n",
       "      <td>0.212500</td>\n",
       "      <td>20</td>\n",
       "    </tr>\n",
       "    <tr>\n",
       "      <th>6</th>\n",
       "      <td>6</td>\n",
       "      <td>2016-05-11 03:55:35</td>\n",
       "      <td>RT @LiLightfoot: It takes honesty, integrity, compassion, and common sense to inspire the people! #BernieSanders Congrats on your win https…</td>\n",
       "      <td>0</td>\n",
       "      <td>False</td>\n",
       "      <td>en</td>\n",
       "      <td>None</td>\n",
       "      <td>10</td>\n",
       "      <td>False</td>\n",
       "      <td>None</td>\n",
       "      <td>1</td>\n",
       "      <td>1</td>\n",
       "      <td>0.212500</td>\n",
       "      <td>20</td>\n",
       "    </tr>\n",
       "    <tr>\n",
       "      <th>7</th>\n",
       "      <td>7</td>\n",
       "      <td>2016-05-11 03:45:23</td>\n",
       "      <td>RT @LiLightfoot: #BernieSanders is just ringing his hands wondering how he's going to survive the devastating Victory in WestVirginia https…</td>\n",
       "      <td>0</td>\n",
       "      <td>False</td>\n",
       "      <td>en</td>\n",
       "      <td>None</td>\n",
       "      <td>5</td>\n",
       "      <td>False</td>\n",
       "      <td>None</td>\n",
       "      <td>1</td>\n",
       "      <td>1</td>\n",
       "      <td>-1.000000</td>\n",
       "      <td>21</td>\n",
       "    </tr>\n",
       "    <tr>\n",
       "      <th>8</th>\n",
       "      <td>8</td>\n",
       "      <td>2016-05-11 03:41:20</td>\n",
       "      <td>The Bernie Rally in Sacramento. #GoBernie! #BernieSanders #Election2016 https://t.co/aR8K7ExA9n</td>\n",
       "      <td>0</td>\n",
       "      <td>False</td>\n",
       "      <td>en</td>\n",
       "      <td>None</td>\n",
       "      <td>0</td>\n",
       "      <td>False</td>\n",
       "      <td>None</td>\n",
       "      <td>1</td>\n",
       "      <td>1</td>\n",
       "      <td>0.000000</td>\n",
       "      <td>10</td>\n",
       "    </tr>\n",
       "    <tr>\n",
       "      <th>9</th>\n",
       "      <td>9</td>\n",
       "      <td>2016-05-11 03:39:59</td>\n",
       "      <td>RT @LiLightfoot: It takes honesty, integrity, compassion, and common sense to inspire the people! #BernieSanders Congrats on your win https…</td>\n",
       "      <td>0</td>\n",
       "      <td>False</td>\n",
       "      <td>en</td>\n",
       "      <td>None</td>\n",
       "      <td>10</td>\n",
       "      <td>False</td>\n",
       "      <td>None</td>\n",
       "      <td>1</td>\n",
       "      <td>1</td>\n",
       "      <td>0.212500</td>\n",
       "      <td>20</td>\n",
       "    </tr>\n",
       "    <tr>\n",
       "      <th>10</th>\n",
       "      <td>10</td>\n",
       "      <td>2016-05-11 03:34:34</td>\n",
       "      <td>#VoteBernieOrBeSorry Please spread this #NewHashtag. #HillaryClinton will almost certainly lose to #DonaldTrump\\n#BernieOrBust #BernieSanders</td>\n",
       "      <td>2</td>\n",
       "      <td>False</td>\n",
       "      <td>en</td>\n",
       "      <td>None</td>\n",
       "      <td>0</td>\n",
       "      <td>False</td>\n",
       "      <td>None</td>\n",
       "      <td>1</td>\n",
       "      <td>1</td>\n",
       "      <td>0.214286</td>\n",
       "      <td>14</td>\n",
       "    </tr>\n",
       "    <tr>\n",
       "      <th>11</th>\n",
       "      <td>11</td>\n",
       "      <td>2016-05-11 03:29:21</td>\n",
       "      <td>RT @LiLightfoot: It takes honesty, integrity, compassion, and common sense to inspire the people! #BernieSanders Congrats on your win https…</td>\n",
       "      <td>0</td>\n",
       "      <td>False</td>\n",
       "      <td>en</td>\n",
       "      <td>None</td>\n",
       "      <td>10</td>\n",
       "      <td>False</td>\n",
       "      <td>None</td>\n",
       "      <td>1</td>\n",
       "      <td>1</td>\n",
       "      <td>0.212500</td>\n",
       "      <td>20</td>\n",
       "    </tr>\n",
       "    <tr>\n",
       "      <th>12</th>\n",
       "      <td>12</td>\n",
       "      <td>2016-05-11 03:28:40</td>\n",
       "      <td>RT @LiLightfoot: #BernieSanders is just ringing his hands wondering how he's going to survive the devastating Victory in WestVirginia https…</td>\n",
       "      <td>0</td>\n",
       "      <td>False</td>\n",
       "      <td>en</td>\n",
       "      <td>None</td>\n",
       "      <td>5</td>\n",
       "      <td>False</td>\n",
       "      <td>None</td>\n",
       "      <td>1</td>\n",
       "      <td>1</td>\n",
       "      <td>-1.000000</td>\n",
       "      <td>21</td>\n",
       "    </tr>\n",
       "    <tr>\n",
       "      <th>13</th>\n",
       "      <td>13</td>\n",
       "      <td>2016-05-11 03:17:52</td>\n",
       "      <td>RT @LiLightfoot: #BernieSanders is just ringing his hands wondering how he's going to survive the devastating Victory in WestVirginia https…</td>\n",
       "      <td>0</td>\n",
       "      <td>False</td>\n",
       "      <td>en</td>\n",
       "      <td>None</td>\n",
       "      <td>5</td>\n",
       "      <td>False</td>\n",
       "      <td>None</td>\n",
       "      <td>1</td>\n",
       "      <td>1</td>\n",
       "      <td>-1.000000</td>\n",
       "      <td>21</td>\n",
       "    </tr>\n",
       "    <tr>\n",
       "      <th>14</th>\n",
       "      <td>14</td>\n",
       "      <td>2016-05-11 03:15:58</td>\n",
       "      <td>Wow, excited to see KRON4 actually covered #BernieSanders' huge rally in Sacramento. Most stations haven't mentioned it.</td>\n",
       "      <td>1</td>\n",
       "      <td>False</td>\n",
       "      <td>en</td>\n",
       "      <td>None</td>\n",
       "      <td>0</td>\n",
       "      <td>False</td>\n",
       "      <td>None</td>\n",
       "      <td>1</td>\n",
       "      <td>1</td>\n",
       "      <td>0.275000</td>\n",
       "      <td>18</td>\n",
       "    </tr>\n",
       "    <tr>\n",
       "      <th>15</th>\n",
       "      <td>15</td>\n",
       "      <td>2016-05-11 03:13:53</td>\n",
       "      <td>RT @kentsent: #BernieSanders\\nlandslide\\nwinning every county\\nin #WestVirginiaPrimary #WVPrimary\\nreporting so far.\\n#DropOutHillary\\n#HillaryCl…</td>\n",
       "      <td>0</td>\n",
       "      <td>False</td>\n",
       "      <td>en</td>\n",
       "      <td>None</td>\n",
       "      <td>1</td>\n",
       "      <td>False</td>\n",
       "      <td>None</td>\n",
       "      <td>1</td>\n",
       "      <td>1</td>\n",
       "      <td>0.300000</td>\n",
       "      <td>15</td>\n",
       "    </tr>\n",
       "    <tr>\n",
       "      <th>16</th>\n",
       "      <td>16</td>\n",
       "      <td>2016-05-11 03:10:28</td>\n",
       "      <td>#BernieSanders\\nlandslide\\nwinning every county\\nin #WestVirginiaPrimary #WVPrimary\\nreporting so far.\\n#DropOutHillary\\n#HillaryClinton</td>\n",
       "      <td>4</td>\n",
       "      <td>False</td>\n",
       "      <td>en</td>\n",
       "      <td>None</td>\n",
       "      <td>1</td>\n",
       "      <td>False</td>\n",
       "      <td>None</td>\n",
       "      <td>1</td>\n",
       "      <td>1</td>\n",
       "      <td>0.300000</td>\n",
       "      <td>13</td>\n",
       "    </tr>\n",
       "    <tr>\n",
       "      <th>17</th>\n",
       "      <td>17</td>\n",
       "      <td>2016-05-11 03:08:24</td>\n",
       "      <td>MUST WATCH #BernieSanders:  7/30/1997 https://t.co/C4zDfcWzoS #FeelTheBern #HillaryClinton #PrimaryDay</td>\n",
       "      <td>1</td>\n",
       "      <td>False</td>\n",
       "      <td>en</td>\n",
       "      <td>None</td>\n",
       "      <td>0</td>\n",
       "      <td>False</td>\n",
       "      <td>None</td>\n",
       "      <td>1</td>\n",
       "      <td>1</td>\n",
       "      <td>0.000000</td>\n",
       "      <td>9</td>\n",
       "    </tr>\n",
       "    <tr>\n",
       "      <th>18</th>\n",
       "      <td>18</td>\n",
       "      <td>2016-05-11 03:03:25</td>\n",
       "      <td>RT @LiLightfoot: #BernieSanders is just ringing his hands wondering how he's going to survive the devastating Victory in WestVirginia https…</td>\n",
       "      <td>0</td>\n",
       "      <td>False</td>\n",
       "      <td>en</td>\n",
       "      <td>None</td>\n",
       "      <td>5</td>\n",
       "      <td>False</td>\n",
       "      <td>None</td>\n",
       "      <td>1</td>\n",
       "      <td>1</td>\n",
       "      <td>-1.000000</td>\n",
       "      <td>21</td>\n",
       "    </tr>\n",
       "    <tr>\n",
       "      <th>19</th>\n",
       "      <td>19</td>\n",
       "      <td>2016-05-11 02:44:27</td>\n",
       "      <td>@fairnjustperil 2383 is the #Delegates count. \\nHow many #Delegates #BernieSanders has until now?? 1457\\nAnd #HillaryClinton? 2234. Hello?</td>\n",
       "      <td>1</td>\n",
       "      <td>False</td>\n",
       "      <td>en</td>\n",
       "      <td>None</td>\n",
       "      <td>0</td>\n",
       "      <td>False</td>\n",
       "      <td>None</td>\n",
       "      <td>1</td>\n",
       "      <td>1</td>\n",
       "      <td>0.500000</td>\n",
       "      <td>18</td>\n",
       "    </tr>\n",
       "  </tbody>\n",
       "</table>\n",
       "</div>"
      ],
      "text/plain": [
       "    index                date  \\\n",
       "0       0 2016-05-11 04:18:51   \n",
       "1       1 2016-05-11 04:18:44   \n",
       "2       2 2016-05-11 04:10:24   \n",
       "3       3 2016-05-11 04:00:31   \n",
       "4       4 2016-05-11 03:56:50   \n",
       "5       5 2016-05-11 03:55:57   \n",
       "6       6 2016-05-11 03:55:35   \n",
       "7       7 2016-05-11 03:45:23   \n",
       "8       8 2016-05-11 03:41:20   \n",
       "9       9 2016-05-11 03:39:59   \n",
       "10     10 2016-05-11 03:34:34   \n",
       "11     11 2016-05-11 03:29:21   \n",
       "12     12 2016-05-11 03:28:40   \n",
       "13     13 2016-05-11 03:17:52   \n",
       "14     14 2016-05-11 03:15:58   \n",
       "15     15 2016-05-11 03:13:53   \n",
       "16     16 2016-05-11 03:10:28   \n",
       "17     17 2016-05-11 03:08:24   \n",
       "18     18 2016-05-11 03:03:25   \n",
       "19     19 2016-05-11 02:44:27   \n",
       "\n",
       "                                                                                                                                                  text  \\\n",
       "0            Endorsements @sfbg #BernieSanders @JaneKim for #SD11 #YesOnC #ReformDemocrats #CAPrimary #sfpolitics #RunjaneRun  https://t.co/8nvhzrnW7K   \n",
       "1         RT @LiLightfoot: It takes honesty, integrity, compassion, and common sense to inspire the people! #BernieSanders Congrats on your win https…   \n",
       "2                                   Register or re-register to change party affiliation. #CAPrimary #LosAngeles #BernieSanders https://t.co/hGiLDonjaU   \n",
       "3         RT @LiLightfoot: It takes honesty, integrity, compassion, and common sense to inspire the people! #BernieSanders Congrats on your win https…   \n",
       "4         RT @LiLightfoot: It takes honesty, integrity, compassion, and common sense to inspire the people! #BernieSanders Congrats on your win https…   \n",
       "5         RT @LiLightfoot: It takes honesty, integrity, compassion, and common sense to inspire the people! #BernieSanders Congrats on your win https…   \n",
       "6         RT @LiLightfoot: It takes honesty, integrity, compassion, and common sense to inspire the people! #BernieSanders Congrats on your win https…   \n",
       "7         RT @LiLightfoot: #BernieSanders is just ringing his hands wondering how he's going to survive the devastating Victory in WestVirginia https…   \n",
       "8                                                      The Bernie Rally in Sacramento. #GoBernie! #BernieSanders #Election2016 https://t.co/aR8K7ExA9n   \n",
       "9         RT @LiLightfoot: It takes honesty, integrity, compassion, and common sense to inspire the people! #BernieSanders Congrats on your win https…   \n",
       "10       #VoteBernieOrBeSorry Please spread this #NewHashtag. #HillaryClinton will almost certainly lose to #DonaldTrump\\n#BernieOrBust #BernieSanders   \n",
       "11        RT @LiLightfoot: It takes honesty, integrity, compassion, and common sense to inspire the people! #BernieSanders Congrats on your win https…   \n",
       "12        RT @LiLightfoot: #BernieSanders is just ringing his hands wondering how he's going to survive the devastating Victory in WestVirginia https…   \n",
       "13        RT @LiLightfoot: #BernieSanders is just ringing his hands wondering how he's going to survive the devastating Victory in WestVirginia https…   \n",
       "14                            Wow, excited to see KRON4 actually covered #BernieSanders' huge rally in Sacramento. Most stations haven't mentioned it.   \n",
       "15  RT @kentsent: #BernieSanders\\nlandslide\\nwinning every county\\nin #WestVirginiaPrimary #WVPrimary\\nreporting so far.\\n#DropOutHillary\\n#HillaryCl…   \n",
       "16            #BernieSanders\\nlandslide\\nwinning every county\\nin #WestVirginiaPrimary #WVPrimary\\nreporting so far.\\n#DropOutHillary\\n#HillaryClinton   \n",
       "17                                              MUST WATCH #BernieSanders:  7/30/1997 https://t.co/C4zDfcWzoS #FeelTheBern #HillaryClinton #PrimaryDay   \n",
       "18        RT @LiLightfoot: #BernieSanders is just ringing his hands wondering how he's going to survive the devastating Victory in WestVirginia https…   \n",
       "19          @fairnjustperil 2383 is the #Delegates count. \\nHow many #Delegates #BernieSanders has until now?? 1457\\nAnd #HillaryClinton? 2234. Hello?   \n",
       "\n",
       "    favorite_count favorited language geocode  rwtweet count retweeted  \\\n",
       "0                0     False      und    None              0     False   \n",
       "1                0     False       en    None             10     False   \n",
       "2                0     False       en    None              0     False   \n",
       "3                0     False       en    None             10     False   \n",
       "4                0     False       en    None             10     False   \n",
       "5                0     False       en    None             10     False   \n",
       "6                0     False       en    None             10     False   \n",
       "7                0     False       en    None              5     False   \n",
       "8                0     False       en    None              0     False   \n",
       "9                0     False       en    None             10     False   \n",
       "10               2     False       en    None              0     False   \n",
       "11               0     False       en    None             10     False   \n",
       "12               0     False       en    None              5     False   \n",
       "13               0     False       en    None              5     False   \n",
       "14               1     False       en    None              0     False   \n",
       "15               0     False       en    None              1     False   \n",
       "16               4     False       en    None              1     False   \n",
       "17               1     False       en    None              0     False   \n",
       "18               0     False       en    None              5     False   \n",
       "19               1     False       en    None              0     False   \n",
       "\n",
       "   coordinates  candidate  party  sentiment  word_count  \n",
       "0         None          1      1   0.000000          13  \n",
       "1         None          1      1   0.212500          20  \n",
       "2         None          1      1   0.000000          12  \n",
       "3         None          1      1   0.212500          20  \n",
       "4         None          1      1   0.212500          20  \n",
       "5         None          1      1   0.212500          20  \n",
       "6         None          1      1   0.212500          20  \n",
       "7         None          1      1  -1.000000          21  \n",
       "8         None          1      1   0.000000          10  \n",
       "9         None          1      1   0.212500          20  \n",
       "10        None          1      1   0.214286          14  \n",
       "11        None          1      1   0.212500          20  \n",
       "12        None          1      1  -1.000000          21  \n",
       "13        None          1      1  -1.000000          21  \n",
       "14        None          1      1   0.275000          18  \n",
       "15        None          1      1   0.300000          15  \n",
       "16        None          1      1   0.300000          13  \n",
       "17        None          1      1   0.000000           9  \n",
       "18        None          1      1  -1.000000          21  \n",
       "19        None          1      1   0.500000          18  "
      ]
     },
     "execution_count": 15,
     "metadata": {},
     "output_type": "execute_result"
    }
   ],
   "source": [
    "# 5 create a word count column, which holds the number of words in the text column\n",
    "def wordcount(string):\n",
    "    tweet = TextBlob(string)\n",
    "    return len(tweet.words)\n",
    "\n",
    "df['word_count'] = df.text.apply(wordcount)\n",
    "df.head(20)"
   ]
  },
  {
   "cell_type": "code",
   "execution_count": 16,
   "metadata": {
    "collapsed": false
   },
   "outputs": [
    {
     "data": {
      "text/plain": [
       "pandas.core.frame.DataFrame"
      ]
     },
     "execution_count": 16,
     "metadata": {},
     "output_type": "execute_result"
    }
   ],
   "source": [
    "# use countvectorizer to create a document-term matrix and concatinate it to your main dataframe\n",
    "#(hint you should now have thousands of columns)\n",
    "\n",
    "vect = CountVectorizer(ngram_range = (1,2), stop_words='english', min_df =2)\n",
    "doc_matrix = pd.DataFrame(vect.fit_transform(df.text).toarray(), columns=vect.get_feature_names())\n",
    "type(df)\n"
   ]
  },
  {
   "cell_type": "code",
   "execution_count": 17,
   "metadata": {
    "collapsed": false
   },
   "outputs": [
    {
     "name": "stdout",
     "output_type": "stream",
     "text": [
      "RangeIndex(start=0, stop=914, step=1)\n",
      "RangeIndex(start=0, stop=914, step=1)\n"
     ]
    },
    {
     "data": {
      "text/plain": [
       "914"
      ]
     },
     "execution_count": 17,
     "metadata": {},
     "output_type": "execute_result"
    }
   ],
   "source": [
    "print doc_matrix.index\n",
    "print df.index\n",
    "len(df.index)"
   ]
  },
  {
   "cell_type": "code",
   "execution_count": 20,
   "metadata": {
    "collapsed": false
   },
   "outputs": [
    {
     "data": {
      "text/html": [
       "<div>\n",
       "<table border=\"1\" class=\"dataframe\">\n",
       "  <thead>\n",
       "    <tr style=\"text-align: right;\">\n",
       "      <th></th>\n",
       "      <th>index</th>\n",
       "      <th>date</th>\n",
       "      <th>text</th>\n",
       "      <th>favorite_count</th>\n",
       "      <th>favorited</th>\n",
       "      <th>language</th>\n",
       "      <th>geocode</th>\n",
       "      <th>rwtweet count</th>\n",
       "      <th>retweeted</th>\n",
       "      <th>coordinates</th>\n",
       "      <th>...</th>\n",
       "      <th>yolibeans</th>\n",
       "      <th>yolibeans know</th>\n",
       "      <th>young</th>\n",
       "      <th>youtube</th>\n",
       "      <th>yrs</th>\n",
       "      <th>yuge</th>\n",
       "      <th>yuge margin</th>\n",
       "      <th>yz3yn</th>\n",
       "      <th>zuckerberg</th>\n",
       "      <th>zuckerberg censoring</th>\n",
       "    </tr>\n",
       "  </thead>\n",
       "  <tbody>\n",
       "    <tr>\n",
       "      <th>0</th>\n",
       "      <td>0</td>\n",
       "      <td>2016-05-11 04:18:51</td>\n",
       "      <td>Endorsements @sfbg #BernieSanders @JaneKim for #SD11 #YesOnC #ReformDemocrats #CAPrimary #sfpolitics #RunjaneRun  https://t.co/8nvhzrnW7K</td>\n",
       "      <td>0</td>\n",
       "      <td>False</td>\n",
       "      <td>und</td>\n",
       "      <td>None</td>\n",
       "      <td>0</td>\n",
       "      <td>False</td>\n",
       "      <td>None</td>\n",
       "      <td>...</td>\n",
       "      <td>0</td>\n",
       "      <td>0</td>\n",
       "      <td>0</td>\n",
       "      <td>0</td>\n",
       "      <td>0</td>\n",
       "      <td>0</td>\n",
       "      <td>0</td>\n",
       "      <td>0</td>\n",
       "      <td>0</td>\n",
       "      <td>0</td>\n",
       "    </tr>\n",
       "    <tr>\n",
       "      <th>1</th>\n",
       "      <td>1</td>\n",
       "      <td>2016-05-11 04:18:44</td>\n",
       "      <td>RT @LiLightfoot: It takes honesty, integrity, compassion, and common sense to inspire the people! #BernieSanders Congrats on your win https…</td>\n",
       "      <td>0</td>\n",
       "      <td>False</td>\n",
       "      <td>en</td>\n",
       "      <td>None</td>\n",
       "      <td>10</td>\n",
       "      <td>False</td>\n",
       "      <td>None</td>\n",
       "      <td>...</td>\n",
       "      <td>0</td>\n",
       "      <td>0</td>\n",
       "      <td>0</td>\n",
       "      <td>0</td>\n",
       "      <td>0</td>\n",
       "      <td>0</td>\n",
       "      <td>0</td>\n",
       "      <td>0</td>\n",
       "      <td>0</td>\n",
       "      <td>0</td>\n",
       "    </tr>\n",
       "    <tr>\n",
       "      <th>2</th>\n",
       "      <td>2</td>\n",
       "      <td>2016-05-11 04:10:24</td>\n",
       "      <td>Register or re-register to change party affiliation. #CAPrimary #LosAngeles #BernieSanders https://t.co/hGiLDonjaU</td>\n",
       "      <td>0</td>\n",
       "      <td>False</td>\n",
       "      <td>en</td>\n",
       "      <td>None</td>\n",
       "      <td>0</td>\n",
       "      <td>False</td>\n",
       "      <td>None</td>\n",
       "      <td>...</td>\n",
       "      <td>0</td>\n",
       "      <td>0</td>\n",
       "      <td>0</td>\n",
       "      <td>0</td>\n",
       "      <td>0</td>\n",
       "      <td>0</td>\n",
       "      <td>0</td>\n",
       "      <td>0</td>\n",
       "      <td>0</td>\n",
       "      <td>0</td>\n",
       "    </tr>\n",
       "    <tr>\n",
       "      <th>3</th>\n",
       "      <td>3</td>\n",
       "      <td>2016-05-11 04:00:31</td>\n",
       "      <td>RT @LiLightfoot: It takes honesty, integrity, compassion, and common sense to inspire the people! #BernieSanders Congrats on your win https…</td>\n",
       "      <td>0</td>\n",
       "      <td>False</td>\n",
       "      <td>en</td>\n",
       "      <td>None</td>\n",
       "      <td>10</td>\n",
       "      <td>False</td>\n",
       "      <td>None</td>\n",
       "      <td>...</td>\n",
       "      <td>0</td>\n",
       "      <td>0</td>\n",
       "      <td>0</td>\n",
       "      <td>0</td>\n",
       "      <td>0</td>\n",
       "      <td>0</td>\n",
       "      <td>0</td>\n",
       "      <td>0</td>\n",
       "      <td>0</td>\n",
       "      <td>0</td>\n",
       "    </tr>\n",
       "    <tr>\n",
       "      <th>4</th>\n",
       "      <td>4</td>\n",
       "      <td>2016-05-11 03:56:50</td>\n",
       "      <td>RT @LiLightfoot: It takes honesty, integrity, compassion, and common sense to inspire the people! #BernieSanders Congrats on your win https…</td>\n",
       "      <td>0</td>\n",
       "      <td>False</td>\n",
       "      <td>en</td>\n",
       "      <td>None</td>\n",
       "      <td>10</td>\n",
       "      <td>False</td>\n",
       "      <td>None</td>\n",
       "      <td>...</td>\n",
       "      <td>0</td>\n",
       "      <td>0</td>\n",
       "      <td>0</td>\n",
       "      <td>0</td>\n",
       "      <td>0</td>\n",
       "      <td>0</td>\n",
       "      <td>0</td>\n",
       "      <td>0</td>\n",
       "      <td>0</td>\n",
       "      <td>0</td>\n",
       "    </tr>\n",
       "  </tbody>\n",
       "</table>\n",
       "<p>5 rows × 2409 columns</p>\n",
       "</div>"
      ],
      "text/plain": [
       "   index                date  \\\n",
       "0      0 2016-05-11 04:18:51   \n",
       "1      1 2016-05-11 04:18:44   \n",
       "2      2 2016-05-11 04:10:24   \n",
       "3      3 2016-05-11 04:00:31   \n",
       "4      4 2016-05-11 03:56:50   \n",
       "\n",
       "                                                                                                                                           text  \\\n",
       "0     Endorsements @sfbg #BernieSanders @JaneKim for #SD11 #YesOnC #ReformDemocrats #CAPrimary #sfpolitics #RunjaneRun  https://t.co/8nvhzrnW7K   \n",
       "1  RT @LiLightfoot: It takes honesty, integrity, compassion, and common sense to inspire the people! #BernieSanders Congrats on your win https…   \n",
       "2                            Register or re-register to change party affiliation. #CAPrimary #LosAngeles #BernieSanders https://t.co/hGiLDonjaU   \n",
       "3  RT @LiLightfoot: It takes honesty, integrity, compassion, and common sense to inspire the people! #BernieSanders Congrats on your win https…   \n",
       "4  RT @LiLightfoot: It takes honesty, integrity, compassion, and common sense to inspire the people! #BernieSanders Congrats on your win https…   \n",
       "\n",
       "   favorite_count favorited language geocode  rwtweet count retweeted  \\\n",
       "0               0     False      und    None              0     False   \n",
       "1               0     False       en    None             10     False   \n",
       "2               0     False       en    None              0     False   \n",
       "3               0     False       en    None             10     False   \n",
       "4               0     False       en    None             10     False   \n",
       "\n",
       "  coordinates          ...           yolibeans  yolibeans know  young  \\\n",
       "0        None          ...                   0               0      0   \n",
       "1        None          ...                   0               0      0   \n",
       "2        None          ...                   0               0      0   \n",
       "3        None          ...                   0               0      0   \n",
       "4        None          ...                   0               0      0   \n",
       "\n",
       "   youtube  yrs  yuge  yuge margin  yz3yn  zuckerberg  zuckerberg censoring  \n",
       "0        0    0     0            0      0           0                     0  \n",
       "1        0    0     0            0      0           0                     0  \n",
       "2        0    0     0            0      0           0                     0  \n",
       "3        0    0     0            0      0           0                     0  \n",
       "4        0    0     0            0      0           0                     0  \n",
       "\n",
       "[5 rows x 2409 columns]"
      ]
     },
     "execution_count": 20,
     "metadata": {},
     "output_type": "execute_result"
    }
   ],
   "source": [
    "pres_tweets = pd.concat([df, doc_matrix], axis=1)\n",
    "pres_tweets.head()"
   ]
  },
  {
   "cell_type": "code",
   "execution_count": 28,
   "metadata": {
    "collapsed": false
   },
   "outputs": [
    {
     "data": {
      "text/plain": [
       "index                                int64\n",
       "date                        datetime64[ns]\n",
       "favorite_count                       int64\n",
       "favorited                             bool\n",
       "language                            object\n",
       "geocode                             object\n",
       "rwtweet count                        int64\n",
       "retweeted                             bool\n",
       "coordinates                         object\n",
       "000                                  int64\n",
       "000 doctors                          int64\n",
       "0p0orubcll                           int64\n",
       "0p0orubcll stoptpp                   int64\n",
       "10                                   int64\n",
       "10 mins                              int64\n",
       "1001                                 int64\n",
       "1001 van                             int64\n",
       "107                                  int64\n",
       "107 delegates                        int64\n",
       "10am                                 int64\n",
       "10am 9pm                             int64\n",
       "13                                   int64\n",
       "13 minutes                           int64\n",
       "1457                                 int64\n",
       "1457 hillaryclinton                  int64\n",
       "14resistance                         int64\n",
       "14resistance read                    int64\n",
       "14resistance wake                    int64\n",
       "1997                                 int64\n",
       "1997 https                           int64\n",
       "                                 ...      \n",
       "xenophobia lame                      int64\n",
       "xephm4dqhf                           int64\n",
       "xext                                 int64\n",
       "xhbq1ajtyf                           int64\n",
       "xhbq1ajtyf trump2016                 int64\n",
       "xpqfmieevb                           int64\n",
       "yale                                 int64\n",
       "yale law                             int64\n",
       "yawjmgxauv                           int64\n",
       "yay                                  int64\n",
       "yay hillaryclinton                   int64\n",
       "yeah                                 int64\n",
       "yeah bernie                          int64\n",
       "yeah politicalrevolution             int64\n",
       "yeah ri                              int64\n",
       "yeeeeeee                             int64\n",
       "yeeeeeee https                       int64\n",
       "yes                                  int64\n",
       "yes trump                            int64\n",
       "yes unitedshades                     int64\n",
       "yolibeans                            int64\n",
       "yolibeans know                       int64\n",
       "young                                int64\n",
       "youtube                              int64\n",
       "yrs                                  int64\n",
       "yuge                                 int64\n",
       "yuge margin                          int64\n",
       "yz3yn                                int64\n",
       "zuckerberg                           int64\n",
       "zuckerberg censoring                 int64\n",
       "dtype: object"
      ]
     },
     "execution_count": 28,
     "metadata": {},
     "output_type": "execute_result"
    }
   ],
   "source": [
    "X_clusters.dtypes"
   ]
  },
  {
   "cell_type": "code",
   "execution_count": 30,
   "metadata": {
    "collapsed": false
   },
   "outputs": [
    {
     "ename": "TypeError",
     "evalue": "float() argument must be a string or a number",
     "output_type": "error",
     "traceback": [
      "\u001b[0;31m---------------------------------------------------------------------------\u001b[0m",
      "\u001b[0;31mTypeError\u001b[0m                                 Traceback (most recent call last)",
      "\u001b[0;32m<ipython-input-30-e85bf317b047>\u001b[0m in \u001b[0;36m<module>\u001b[0;34m()\u001b[0m\n\u001b[1;32m      4\u001b[0m \u001b[0;32mfrom\u001b[0m \u001b[0msklearn\u001b[0m\u001b[0;34m.\u001b[0m\u001b[0mcluster\u001b[0m \u001b[0;32mimport\u001b[0m \u001b[0mKMeans\u001b[0m\u001b[0;34m\u001b[0m\u001b[0m\n\u001b[1;32m      5\u001b[0m \u001b[0mkm\u001b[0m \u001b[0;34m=\u001b[0m \u001b[0mKMeans\u001b[0m\u001b[0;34m(\u001b[0m\u001b[0mn_clusters\u001b[0m\u001b[0;34m=\u001b[0m\u001b[0;36m3\u001b[0m\u001b[0;34m,\u001b[0m \u001b[0mrandom_state\u001b[0m\u001b[0;34m=\u001b[0m\u001b[0;36m1\u001b[0m\u001b[0;34m)\u001b[0m\u001b[0;34m\u001b[0m\u001b[0m\n\u001b[0;32m----> 6\u001b[0;31m \u001b[0mkm\u001b[0m\u001b[0;34m.\u001b[0m\u001b[0mfit\u001b[0m\u001b[0;34m(\u001b[0m\u001b[0mX_clusters\u001b[0m\u001b[0;34m)\u001b[0m\u001b[0;34m\u001b[0m\u001b[0m\n\u001b[0m",
      "\u001b[0;32m/Users/Vicky/anaconda/lib/python2.7/site-packages/sklearn/cluster/k_means_.pyc\u001b[0m in \u001b[0;36mfit\u001b[0;34m(self, X, y)\u001b[0m\n\u001b[1;32m    810\u001b[0m         \"\"\"\n\u001b[1;32m    811\u001b[0m         \u001b[0mrandom_state\u001b[0m \u001b[0;34m=\u001b[0m \u001b[0mcheck_random_state\u001b[0m\u001b[0;34m(\u001b[0m\u001b[0mself\u001b[0m\u001b[0;34m.\u001b[0m\u001b[0mrandom_state\u001b[0m\u001b[0;34m)\u001b[0m\u001b[0;34m\u001b[0m\u001b[0m\n\u001b[0;32m--> 812\u001b[0;31m         \u001b[0mX\u001b[0m \u001b[0;34m=\u001b[0m \u001b[0mself\u001b[0m\u001b[0;34m.\u001b[0m\u001b[0m_check_fit_data\u001b[0m\u001b[0;34m(\u001b[0m\u001b[0mX\u001b[0m\u001b[0;34m)\u001b[0m\u001b[0;34m\u001b[0m\u001b[0m\n\u001b[0m\u001b[1;32m    813\u001b[0m \u001b[0;34m\u001b[0m\u001b[0m\n\u001b[1;32m    814\u001b[0m         \u001b[0mself\u001b[0m\u001b[0;34m.\u001b[0m\u001b[0mcluster_centers_\u001b[0m\u001b[0;34m,\u001b[0m \u001b[0mself\u001b[0m\u001b[0;34m.\u001b[0m\u001b[0mlabels_\u001b[0m\u001b[0;34m,\u001b[0m \u001b[0mself\u001b[0m\u001b[0;34m.\u001b[0m\u001b[0minertia_\u001b[0m\u001b[0;34m,\u001b[0m \u001b[0mself\u001b[0m\u001b[0;34m.\u001b[0m\u001b[0mn_iter_\u001b[0m \u001b[0;34m=\u001b[0m\u001b[0;31m \u001b[0m\u001b[0;31m\\\u001b[0m\u001b[0;34m\u001b[0m\u001b[0m\n",
      "\u001b[0;32m/Users/Vicky/anaconda/lib/python2.7/site-packages/sklearn/cluster/k_means_.pyc\u001b[0m in \u001b[0;36m_check_fit_data\u001b[0;34m(self, X)\u001b[0m\n\u001b[1;32m    784\u001b[0m     \u001b[0;32mdef\u001b[0m \u001b[0m_check_fit_data\u001b[0m\u001b[0;34m(\u001b[0m\u001b[0mself\u001b[0m\u001b[0;34m,\u001b[0m \u001b[0mX\u001b[0m\u001b[0;34m)\u001b[0m\u001b[0;34m:\u001b[0m\u001b[0;34m\u001b[0m\u001b[0m\n\u001b[1;32m    785\u001b[0m         \u001b[0;34m\"\"\"Verify that the number of samples given is larger than k\"\"\"\u001b[0m\u001b[0;34m\u001b[0m\u001b[0m\n\u001b[0;32m--> 786\u001b[0;31m         \u001b[0mX\u001b[0m \u001b[0;34m=\u001b[0m \u001b[0mcheck_array\u001b[0m\u001b[0;34m(\u001b[0m\u001b[0mX\u001b[0m\u001b[0;34m,\u001b[0m \u001b[0maccept_sparse\u001b[0m\u001b[0;34m=\u001b[0m\u001b[0;34m'csr'\u001b[0m\u001b[0;34m,\u001b[0m \u001b[0mdtype\u001b[0m\u001b[0;34m=\u001b[0m\u001b[0mnp\u001b[0m\u001b[0;34m.\u001b[0m\u001b[0mfloat64\u001b[0m\u001b[0;34m)\u001b[0m\u001b[0;34m\u001b[0m\u001b[0m\n\u001b[0m\u001b[1;32m    787\u001b[0m         \u001b[0;32mif\u001b[0m \u001b[0mX\u001b[0m\u001b[0;34m.\u001b[0m\u001b[0mshape\u001b[0m\u001b[0;34m[\u001b[0m\u001b[0;36m0\u001b[0m\u001b[0;34m]\u001b[0m \u001b[0;34m<\u001b[0m \u001b[0mself\u001b[0m\u001b[0;34m.\u001b[0m\u001b[0mn_clusters\u001b[0m\u001b[0;34m:\u001b[0m\u001b[0;34m\u001b[0m\u001b[0m\n\u001b[1;32m    788\u001b[0m             raise ValueError(\"n_samples=%d should be >= n_clusters=%d\" % (\n",
      "\u001b[0;32m/Users/Vicky/anaconda/lib/python2.7/site-packages/sklearn/utils/validation.pyc\u001b[0m in \u001b[0;36mcheck_array\u001b[0;34m(array, accept_sparse, dtype, order, copy, force_all_finite, ensure_2d, allow_nd, ensure_min_samples, ensure_min_features, warn_on_dtype, estimator)\u001b[0m\n\u001b[1;32m    371\u001b[0m                                       force_all_finite)\n\u001b[1;32m    372\u001b[0m     \u001b[0;32melse\u001b[0m\u001b[0;34m:\u001b[0m\u001b[0;34m\u001b[0m\u001b[0m\n\u001b[0;32m--> 373\u001b[0;31m         \u001b[0;32mprint\u001b[0m \u001b[0marray\u001b[0m\u001b[0;34m\u001b[0m\u001b[0m\n\u001b[0m\u001b[1;32m    374\u001b[0m         \u001b[0marray\u001b[0m \u001b[0;34m=\u001b[0m \u001b[0mnp\u001b[0m\u001b[0;34m.\u001b[0m\u001b[0marray\u001b[0m\u001b[0;34m(\u001b[0m\u001b[0marray\u001b[0m\u001b[0;34m,\u001b[0m \u001b[0mdtype\u001b[0m\u001b[0;34m=\u001b[0m\u001b[0mdtype\u001b[0m\u001b[0;34m,\u001b[0m \u001b[0morder\u001b[0m\u001b[0;34m=\u001b[0m\u001b[0morder\u001b[0m\u001b[0;34m,\u001b[0m \u001b[0mcopy\u001b[0m\u001b[0;34m=\u001b[0m\u001b[0mcopy\u001b[0m\u001b[0;34m)\u001b[0m\u001b[0;34m\u001b[0m\u001b[0m\n\u001b[1;32m    375\u001b[0m \u001b[0;34m\u001b[0m\u001b[0m\n",
      "\u001b[0;31mTypeError\u001b[0m: float() argument must be a string or a number"
     ]
    }
   ],
   "source": [
    "# 6 Use kmean to create clusters for the dataframe\n",
    "X_clusters = pres_tweets.drop(['text','candidate', 'party', 'language', 'geocode', 'coordinates'], axis =1)\n",
    "                               \n",
    "from sklearn.cluster import KMeans\n",
    "km = KMeans(n_clusters=3, random_state=1)\n",
    "km.fit(X_clusters)"
   ]
  },
  {
   "cell_type": "code",
   "execution_count": null,
   "metadata": {
    "collapsed": true
   },
   "outputs": [],
   "source": [
    "pres_tweets['cluster'] = km.labels_\n",
    "pres_tweets.sort('cluster')"
   ]
  },
  {
   "cell_type": "code",
   "execution_count": null,
   "metadata": {
    "collapsed": true
   },
   "outputs": [],
   "source": [
    "#calculate the Silhouette Coefficient\n",
    "from sklearn import metrics\n",
    "metrics.silhouette_score(X_clusters, km.labels_)"
   ]
  },
  {
   "cell_type": "code",
   "execution_count": null,
   "metadata": {
    "collapsed": true
   },
   "outputs": [],
   "source": [
    "#tune the parameters\n",
    "k_range = range(2, 20)\n",
    "scores = []\n",
    "for k in k_range:\n",
    "    km = KMeans(n_clusters=k, random_state=1)\n",
    "    km.fit(X_clusters)\n",
    "    scores.append(metrics.silhouette_score(X_scaled, km.labels_))\n",
    "    \n",
    "# plot the results\n",
    "plt.plot(k_range, scores)\n",
    "plt.xlabel('Number of clusters')\n",
    "plt.ylabel('Silhouette Coefficient')\n",
    "plt.grid(True)"
   ]
  },
  {
   "cell_type": "code",
   "execution_count": null,
   "metadata": {
    "collapsed": true
   },
   "outputs": [],
   "source": [
    "# K-means with # clusters on scaled data\n",
    "km = KMeans(n_clusters=#, random_state=1)\n",
    "km.fit(X_clusters)"
   ]
  },
  {
   "cell_type": "code",
   "execution_count": null,
   "metadata": {
    "collapsed": true
   },
   "outputs": [],
   "source": [
    "# 7 Explore the clusters\n",
    "# What is interesting? Surprising? Can you draw any inferences about each cluster?\n",
    "# Write your answer to these questions in markdown"
   ]
  },
  {
   "cell_type": "code",
   "execution_count": null,
   "metadata": {
    "collapsed": true
   },
   "outputs": [],
   "source": [
    "pres_tweets['cluster'] = km.labels_\n",
    "pres_tweets.sort('cluster')"
   ]
  },
  {
   "cell_type": "code",
   "execution_count": null,
   "metadata": {
    "collapsed": true
   },
   "outputs": [],
   "source": [
    "centers = pres_tweets.groupby('cluster').mean()"
   ]
  },
  {
   "cell_type": "code",
   "execution_count": null,
   "metadata": {
    "collapsed": true
   },
   "outputs": [],
   "source": [
    "import numpy as np\n",
    "colors = np.array(['red', 'green', 'blue', 'yellow'])\n",
    "\n",
    "pd.scatter_matrix(X_clusters, c= colors[list(pres_tweets.cluster)], figsize=(10,10), s=100)"
   ]
  },
  {
   "cell_type": "code",
   "execution_count": null,
   "metadata": {
    "collapsed": true
   },
   "outputs": [],
   "source": [
    "# 8 Create a column called 'democrat' and assign it to the corresponding candidate name for all the records\n",
    "# 1 for bernie and hilary and 0 for donald trump"
   ]
  },
  {
   "cell_type": "code",
   "execution_count": null,
   "metadata": {
    "collapsed": true
   },
   "outputs": [],
   "source": [
    "# 9 Estimate classification models using knn and logistic regession.  Dont forget to use cross validation \n",
    "    # (do not use cross_val_score because we will want a confusion matrix).\n",
    "# Use a three class response variable for knn.  For logistic regression predict democrat or republic?\n",
    "#Assess the pros and cons of both approaches\n",
    "#Extra Credit: Estimate multinomial regression model using the three class response variable"
   ]
  },
  {
   "cell_type": "code",
   "execution_count": null,
   "metadata": {
    "collapsed": true
   },
   "outputs": [],
   "source": [
    "# split into training and testing sets\n",
    "from sklearn.cross_validation import train_test_split\n",
    "lgX_train, lgX_test, lgy_train, lgy_test = train_test_split(X_clusters, pres_tweets.party, random_state=1)\n",
    "\n",
    "knnX_train, knnX_test, knny_train, knny_test = train_test_split(X_clusters, pres_tweets.candidate, random_state=1)"
   ]
  },
  {
   "cell_type": "code",
   "execution_count": null,
   "metadata": {
    "collapsed": true
   },
   "outputs": [],
   "source": [
    "# 10 Initialize a classification model (for both knn and logistic)"
   ]
  },
  {
   "cell_type": "code",
   "execution_count": null,
   "metadata": {
    "collapsed": true
   },
   "outputs": [],
   "source": [
    "from sklearn.linear_model import LogisticRegression\n",
    "logreg = LogisticRegression()"
   ]
  },
  {
   "cell_type": "code",
   "execution_count": null,
   "metadata": {
    "collapsed": true
   },
   "outputs": [],
   "source": [
    "from sklearn.neighbors import KNeighborsClassifier\n",
    "knn = KNeighborsClassifier(n_neighbors=3)"
   ]
  },
  {
   "cell_type": "code",
   "execution_count": null,
   "metadata": {
    "collapsed": true
   },
   "outputs": [],
   "source": [
    "# 11 Train your classification model  (for both knn and logistic)"
   ]
  },
  {
   "cell_type": "code",
   "execution_count": null,
   "metadata": {
    "collapsed": true
   },
   "outputs": [],
   "source": [
    "logreg.fit(lgX_train, lgy_train)\n",
    "logreg.score(lgX_train, lgy_train)"
   ]
  },
  {
   "cell_type": "code",
   "execution_count": null,
   "metadata": {
    "collapsed": true
   },
   "outputs": [],
   "source": [
    "knn.fit(knnX_train, knny_train)\n",
    "\n",
    "scores = []\n",
    "for i in range(1, 30):\n",
    "    knn = KNeighborsClassifier(n_neighbors=i)\n",
    "    knn.fit(X, y)\n",
    "    scores.append(knn.score(X, y))\n",
    "    \n",
    "plt.plot(range(1,30), scores)\n",
    "plt.ylabel(\"Accuracy\")\n",
    "plt.xlabel(\"K\")\n",
    "\n",
    "scores.max()"
   ]
  },
  {
   "cell_type": "code",
   "execution_count": null,
   "metadata": {
    "collapsed": true
   },
   "outputs": [],
   "source": [
    "# 12 Predict on your test features and targets (for both knn and logistic)"
   ]
  },
  {
   "cell_type": "code",
   "execution_count": null,
   "metadata": {
    "collapsed": true
   },
   "outputs": [],
   "source": [
    "lgpreds = logreg.predict(lgX_test)"
   ]
  },
  {
   "cell_type": "code",
   "execution_count": null,
   "metadata": {
    "collapsed": true
   },
   "outputs": [],
   "source": [
    "knnpreds = knn.predict(knnX_test)"
   ]
  },
  {
   "cell_type": "code",
   "execution_count": null,
   "metadata": {
    "collapsed": true
   },
   "outputs": [],
   "source": [
    "# 13 output your accuracy (for both knn and logistic)"
   ]
  },
  {
   "cell_type": "code",
   "execution_count": null,
   "metadata": {
    "collapsed": true
   },
   "outputs": [],
   "source": [
    "from sklearn import metrics\n",
    "print metrics.accuracy_score(lgy_test, lgpreds)"
   ]
  },
  {
   "cell_type": "code",
   "execution_count": null,
   "metadata": {
    "collapsed": true
   },
   "outputs": [],
   "source": [
    "# compare to null accuracy rate\n",
    "lgy_test.mean()\n",
    "1 - lgy_test.mean()"
   ]
  },
  {
   "cell_type": "code",
   "execution_count": null,
   "metadata": {
    "collapsed": true
   },
   "outputs": [],
   "source": [
    "print metrics.accuracy_score(knny_test, knnpreds)"
   ]
  },
  {
   "cell_type": "code",
   "execution_count": null,
   "metadata": {
    "collapsed": true
   },
   "outputs": [],
   "source": [
    "# 14 Create a confusion matrix for your predictions (for both knn and logistic)"
   ]
  },
  {
   "cell_type": "code",
   "execution_count": null,
   "metadata": {
    "collapsed": true
   },
   "outputs": [],
   "source": [
    "from nltk import ConfusionMatrix\n",
    "print ConfusionMatrix(list(lgy_test), list(lgpreds))"
   ]
  },
  {
   "cell_type": "code",
   "execution_count": null,
   "metadata": {
    "collapsed": true
   },
   "outputs": [],
   "source": [
    "print ConfusionMatrix(list(knny_test), list(knnpreds))"
   ]
  },
  {
   "cell_type": "code",
   "execution_count": null,
   "metadata": {
    "collapsed": true
   },
   "outputs": [],
   "source": [
    "# 15 Who is the easiest candidate to predict? Why do you think? Who is the hardest? Why do you think?\n",
    "# Write your answers in markdown (for both knn and logistic)"
   ]
  },
  {
   "cell_type": "code",
   "execution_count": null,
   "metadata": {
    "collapsed": true
   },
   "outputs": [],
   "source": [
    "# 16 What are some extra features (data points) you would like to add to this data set. Explain in markdown.\n",
    "# (hint maybe something like a boolean, \"has_hashtag\")"
   ]
  },
  {
   "cell_type": "code",
   "execution_count": null,
   "metadata": {
    "collapsed": true
   },
   "outputs": [],
   "source": [
    "# 17 Try adding extra features to improve the quality of your predictions (for both knn and logistic)"
   ]
  }
 ],
 "metadata": {
  "kernelspec": {
   "display_name": "Python 2",
   "language": "python",
   "name": "python2"
  },
  "language_info": {
   "codemirror_mode": {
    "name": "ipython",
    "version": 2
   },
   "file_extension": ".py",
   "mimetype": "text/x-python",
   "name": "python",
   "nbconvert_exporter": "python",
   "pygments_lexer": "ipython2",
   "version": "2.7.11"
  }
 },
 "nbformat": 4,
 "nbformat_minor": 0
}
