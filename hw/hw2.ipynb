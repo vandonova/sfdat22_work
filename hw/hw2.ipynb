{
 "cells": [
  {
   "cell_type": "code",
   "execution_count": null,
   "metadata": {
    "collapsed": false
   },
   "outputs": [],
   "source": [
    "import tweepy       # python wrapper for twitter api\n",
    "import json\n",
    "import time\n",
    "import requests\n",
    "# step 0, get your own twitter credentials!"
   ]
  },
  {
   "cell_type": "code",
   "execution_count": null,
   "metadata": {
    "collapsed": false
   },
   "outputs": [],
   "source": [
    "# this is my own personal twitter api information\n",
    "# if you could be so kind as to sign up yourself on both twitter and mashape that'd be great :)\n",
    "# It's FREEEEEEE\n",
    "api_key = 'g5uPIpw80nULQI1gfklv2zrh4'\n",
    "api_secret = 'cOWvNWxYvPmEZ0ArZVeeVVvJu41QYHdUS2GpqIKtSQ1isd5PJy'\n",
    "access_token = '49722956-TWl8J0aAS6KTdcbz3ppZ7NfqZEmrwmbsb9cYPNELG'\n",
    "access_secret = '3eqrVssF3ppv23qyflyAto8wLEiYRA8sXEPSghuOJWTub'"
   ]
  },
  {
   "cell_type": "code",
   "execution_count": null,
   "metadata": {
    "collapsed": false
   },
   "outputs": [],
   "source": [
    "# Documentation is your friend! http://docs.tweepy.org/en/v3.1.0/\n",
    "auth = tweepy.OAuthHandler(api_key, api_secret)\n",
    "auth.set_access_token(access_token, access_secret)\n",
    "api = tweepy.API(auth) # returns a tweepy authorization handler object"
   ]
  },
  {
   "cell_type": "code",
   "execution_count": null,
   "metadata": {
    "collapsed": false
   },
   "outputs": [],
   "source": [
    "# 1. Use Twitter API to stream and store tweets (300 per candidate)\n",
    "# explain geocode is doing\n",
    "bernie_tweets =  api.search(q=\"#berniesanders\", count=100, geocode=\"37.781157,-122.398720,50mi\") + api.search(q='#bernie', count=100, geocode=\"37.781157,-122.398720,50mi\") + api.search(q='#FeelTheBern', count=100, geocode=\"37.781157,-122.398720,50mi\")\n",
    "hilary_tweets = api.search(q='#ImWithHer', count=100, geocode=\"37.781157,-122.398720,50mi\") + api.search(q='#hillaryclinton', count=100, geocode=\"37.781157,-122.398720,50mi\") + api.search(q='#hillary2016', count=100, geocode=\"37.781157,-122.398720,50mi\")\n",
    "the_donald_tweets = api.search(q='#donaldtrump', count=100, geocode=\"37.781157,-122.398720,50mi\") + api.search(q='#trump2016', count=100, geocode=\"37.781157,-122.398720,50mi\") + api.search(q='#trump', count=100, geocode=\"37.781157,-122.398720,50mi\") + api.search(q='#makeamericagreatagain', count=100, geocode=\"37.781157,-122.398720,50mi\")"
   ]
  },
  {
   "cell_type": "code",
   "execution_count": null,
   "metadata": {
    "collapsed": false
   },
   "outputs": [],
   "source": [
    "the_donald_tweets[0]"
   ]
  },
  {
   "cell_type": "code",
   "execution_count": null,
   "metadata": {
    "collapsed": false
   },
   "outputs": [],
   "source": [
    "# wrappers come with built in python attributes and methods!\n",
    "print dir(the_donald_tweets[0])"
   ]
  },
  {
   "cell_type": "code",
   "execution_count": null,
   "metadata": {
    "collapsed": false
   },
   "outputs": [],
   "source": [
    "print the_donald_tweets[0].created_at\n",
    "print the_donald_tweets[0].text\n",
    "print the_donald_tweets[0].favorite_count\n",
    "print the_donald_tweets[0].favorited\n",
    "print the_donald_tweets[0].lang\n",
    "print the_donald_tweets[0].geo\n",
    "print the_donald_tweets[0].retweet_count\n",
    "print the_donald_tweets[0].retweeted\n",
    "print the_donald_tweets[0].possibly_sensitive\n",
    "print the_donald_tweets[0].coordinates"
   ]
  },
  {
   "cell_type": "code",
   "execution_count": null,
   "metadata": {
    "collapsed": false
   },
   "outputs": [],
   "source": [
    "def parse_status_objects(tweet_list):\n",
    "    modified_tweets = list()\n",
    "    for x in tweet_list:\n",
    "        modified_tweets.append( [\n",
    "                    x.created_at,\n",
    "                    x.text,\n",
    "                    x.favorite_count,\n",
    "                    x.favorited,\n",
    "                    x.lang,\n",
    "                    x.geo,\n",
    "                    x.retweet_count,\n",
    "                    x.retweeted,\n",
    "                    x.coordinates\n",
    "                ])\n",
    "    return modified_tweets\n",
    "        \n",
    "hilary_tweets = parse_status_objects(hilary_tweets)\n",
    "the_donald_tweets = parse_status_objects(the_donald_tweets)\n",
    "bernie_tweets = parse_status_objects(bernie_tweets)"
   ]
  },
  {
   "cell_type": "code",
   "execution_count": null,
   "metadata": {
    "collapsed": false
   },
   "outputs": [],
   "source": [
    "print bernie_tweets[0]\n",
    "print the_donald_tweets[0]\n",
    "print hilary_tweets[0]"
   ]
  },
  {
   "cell_type": "code",
   "execution_count": null,
   "metadata": {
    "collapsed": true
   },
   "outputs": [],
   "source": [
    "# 2 Create a dataframe that combines all of the tweets from each candidate\n",
    "# To do so, you will need to concat the data frames\n",
    "# so each row is a tweet and your columns should be \n",
    "# date, text, favorite_count,favorited, language, geocode, rwtweet count, retweeted, coordinates"
   ]
  },
  {
   "cell_type": "code",
   "execution_count": null,
   "metadata": {
    "collapsed": true
   },
   "outputs": [],
   "source": [
    "# 3 Create a function to take in a string and output the textblob sentiment of that string"
   ]
  },
  {
   "cell_type": "code",
   "execution_count": null,
   "metadata": {
    "collapsed": true
   },
   "outputs": [],
   "source": [
    "# 4 Add a column to your data frame called 'sentiment' which holds the sentiment of that tweet (hint: use the function from #3)"
   ]
  },
  {
   "cell_type": "code",
   "execution_count": null,
   "metadata": {
    "collapsed": true
   },
   "outputs": [],
   "source": [
    "# 5 create a word count column, which holds the number of words in the text column"
   ]
  },
  {
   "cell_type": "code",
   "execution_count": null,
   "metadata": {
    "collapsed": true
   },
   "outputs": [],
   "source": [
    "# use countvectorizer to create a document-term matrix and concatinate it to your main dataframe\n",
    "#(hint you should now have thousands of columns)"
   ]
  },
  {
   "cell_type": "code",
   "execution_count": null,
   "metadata": {
    "collapsed": true
   },
   "outputs": [],
   "source": [
    "# 6 Use kmean to create clusters for the dataframe"
   ]
  },
  {
   "cell_type": "code",
   "execution_count": null,
   "metadata": {
    "collapsed": true
   },
   "outputs": [],
   "source": [
    "# 7 Explore the clusters\n",
    "# What is interesting? Surprising? Can you draw any inferences about each cluster?\n",
    "# Write your answer to these questions in markdown"
   ]
  },
  {
   "cell_type": "code",
   "execution_count": null,
   "metadata": {
    "collapsed": true
   },
   "outputs": [],
   "source": [
    "# 8 Create a column called 'democrat' and assign it to the corresponding candidate name for all the records\n",
    "# 1 for bernie and hilary and 0 for donald trump"
   ]
  },
  {
   "cell_type": "code",
   "execution_count": null,
   "metadata": {
    "collapsed": true
   },
   "outputs": [],
   "source": [
    "# 9 Estimate classification models using knn and logistic regession.  Dont forget to use cross validation \n",
    "    # (do not use cross_val_score because we will want a confusion matrix).\n",
    "# Use a three class response variable for knn.  For logistic regression predict democrat or republic?\n",
    "#Assess the pros and cons of both approaches\n",
    "#Extra Credit: Estimate multinomial regression model using the three class response variable"
   ]
  },
  {
   "cell_type": "code",
   "execution_count": null,
   "metadata": {
    "collapsed": true
   },
   "outputs": [],
   "source": [
    "# 10 Initialize a classification model (for both knn and logistic)"
   ]
  },
  {
   "cell_type": "code",
   "execution_count": null,
   "metadata": {
    "collapsed": true
   },
   "outputs": [],
   "source": [
    "# 11 Train your classification model  (for both knn and logistic)"
   ]
  },
  {
   "cell_type": "code",
   "execution_count": null,
   "metadata": {
    "collapsed": true
   },
   "outputs": [],
   "source": [
    "# 12 Predict on your test features and targets (for both knn and logistic)"
   ]
  },
  {
   "cell_type": "code",
   "execution_count": null,
   "metadata": {
    "collapsed": true
   },
   "outputs": [],
   "source": [
    "# 13 output your accuracy (for both knn and logistic)"
   ]
  },
  {
   "cell_type": "code",
   "execution_count": null,
   "metadata": {
    "collapsed": true
   },
   "outputs": [],
   "source": [
    "# 14 Create a confusion matrix for your predictions (for both knn and logistic)"
   ]
  },
  {
   "cell_type": "code",
   "execution_count": null,
   "metadata": {
    "collapsed": true
   },
   "outputs": [],
   "source": [
    "# 15 Who is the easiest candidate to predict? Why do you think? Who is the hardest? Why do you think?\n",
    "# Write your answers in markdown (for both knn and logistic)"
   ]
  },
  {
   "cell_type": "code",
   "execution_count": null,
   "metadata": {
    "collapsed": true
   },
   "outputs": [],
   "source": [
    "# 16 What are some extra features (data points) you would like to add to this data set. Explain in markdown.\n",
    "# (hint maybe something like a boolean, \"has_hashtag\")"
   ]
  },
  {
   "cell_type": "code",
   "execution_count": null,
   "metadata": {
    "collapsed": true
   },
   "outputs": [],
   "source": [
    "# 17 Try adding extra features to improve the quality of your predictions (for both knn and logistic)"
   ]
  }
 ],
 "metadata": {
  "kernelspec": {
   "display_name": "Python 2",
   "language": "python",
   "name": "python2"
  },
  "language_info": {
   "codemirror_mode": {
    "name": "ipython",
    "version": 2
   },
   "file_extension": ".py",
   "mimetype": "text/x-python",
   "name": "python",
   "nbconvert_exporter": "python",
   "pygments_lexer": "ipython2",
   "version": "2.7.10"
  }
 },
 "nbformat": 4,
 "nbformat_minor": 0
}
