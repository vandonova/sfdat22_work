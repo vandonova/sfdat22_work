{
 "cells": [
  {
   "cell_type": "code",
   "execution_count": 1,
   "metadata": {
    "collapsed": true
   },
   "outputs": [],
   "source": [
    "import requests\n",
    "from bs4 import BeautifulSoup\n",
    "import re"
   ]
  },
  {
   "cell_type": "code",
   "execution_count": 13,
   "metadata": {
    "collapsed": true
   },
   "outputs": [],
   "source": [
    "r = requests.get(\"http://www.amazon.com/16x24-Katherine-Gendreau-Cannon-Beach/dp/B00MBQUI4O/ref=sr_1_124?s=art&ie=UTF8&qid=1462469430&sr=1-124\")\n",
    "# going to the website"
   ]
  },
  {
   "cell_type": "code",
   "execution_count": 14,
   "metadata": {
    "collapsed": false
   },
   "outputs": [
    {
     "data": {
      "text/plain": [
       "<Response [200]>"
      ]
     },
     "execution_count": 14,
     "metadata": {},
     "output_type": "execute_result"
    }
   ],
   "source": [
    "r\n",
    "# A 200 response is GOOD, anything else is bad"
   ]
  },
  {
   "cell_type": "code",
   "execution_count": 15,
   "metadata": {
    "collapsed": false
   },
   "outputs": [
    {
     "data": {
      "text/plain": [
       "u'B00MBQUI4O'"
      ]
     },
     "execution_count": 15,
     "metadata": {},
     "output_type": "execute_result"
    }
   ],
   "source": [
    "r.url.split('/')[-1]"
   ]
  },
  {
   "cell_type": "code",
   "execution_count": 16,
   "metadata": {
    "collapsed": false
   },
   "outputs": [],
   "source": [
    "b = BeautifulSoup(r.text, 'html.parser')\n",
    "# this is a python object that parses the html code"
   ]
  },
  {
   "cell_type": "code",
   "execution_count": 25,
   "metadata": {
    "collapsed": false
   },
   "outputs": [
    {
     "data": {
      "text/plain": [
       "u'Leonard Freed'"
      ]
     },
     "execution_count": 25,
     "metadata": {},
     "output_type": "execute_result"
    }
   ],
   "source": [
    "# get the creator\n",
    "b.find('a', {'id':'fine-ART-ProductLabelArtistNameLink'}).text"
   ]
  },
  {
   "cell_type": "code",
   "execution_count": 12,
   "metadata": {
    "collapsed": false
   },
   "outputs": [
    {
     "data": {
      "text/plain": [
       "u'Mardi Gras,'"
      ]
     },
     "execution_count": 12,
     "metadata": {},
     "output_type": "execute_result"
    }
   ],
   "source": [
    "# get the title\n",
    "b.find('span', {'id': 'fineArtTitle'}).text"
   ]
  },
  {
   "cell_type": "code",
   "execution_count": 13,
   "metadata": {
    "collapsed": false
   },
   "outputs": [
    {
     "data": {
      "text/plain": [
       "45000.0"
      ]
     },
     "execution_count": 13,
     "metadata": {},
     "output_type": "execute_result"
    }
   ],
   "source": [
    "# get the price\n",
    "price = b.find('span', {'id': 'priceblock_ourprice'}).text.replace('$','').replace(',', '')\n",
    "\n",
    "if '.' in price:\n",
    "    price = float(price.replace('.', ''))/100\n",
    "else:\n",
    "    price = float(price)\n",
    "price"
   ]
  },
  {
   "cell_type": "code",
   "execution_count": 14,
   "metadata": {
    "collapsed": false
   },
   "outputs": [
    {
     "data": {
      "text/plain": [
       "u'http://ecx.images-amazon.com/images/I/51GvBhnt4sL._QL70_.jpg'"
      ]
     },
     "execution_count": 14,
     "metadata": {},
     "output_type": "execute_result"
    }
   ],
   "source": [
    "re.findall('http://ecx.images-amazon.com/images/I/.*\\.jpg', r.text)[0]"
   ]
  },
  {
   "cell_type": "code",
   "execution_count": 17,
   "metadata": {
    "collapsed": false
   },
   "outputs": [
    {
     "data": {
      "text/plain": [
       "[<span class=\"a-size-base\" id=\"mnbaProductLabelMediaType\">C-Print</span>,\n",
       " <span class=\"a-size-base\" id=\"mnbaProductLabelEditionInfo\">Edition 1-50 of 50</span>,\n",
       " <span class=\"a-size-base\">16x24 in.</span>,\n",
       " <span class=\"a-size-base\">24x36 in.</span>,\n",
       " <span class=\"a-size-base a-color-base\">&amp; <b>FREE Shipping</b></span>,\n",
       " <span class=\"a-carousel-pagination a-size-base\"><span class=\"a-carousel-page-count\"><span class=\"a-carousel-page-current\">1</span> <span class=\"a-carousel-page-max\">1</span></span><span class=\"a-carousel-restart-container\"><span class=\"a-text-separator\"></span><a class=\"a-carousel-restart\" href=\"#\"></a></span><span aria-live=\"polite\" class=\"a-carousel-accessibility-page-info a-offscreen\">1 1</span></span>,\n",
       " <span class=\"a-carousel-pagination a-size-base\"><span class=\"a-carousel-page-count\"><span class=\"a-carousel-page-current\">1</span> <span class=\"a-carousel-page-max\">1</span></span><span class=\"a-carousel-restart-container\"><span class=\"a-text-separator\"></span><a class=\"a-carousel-restart\" href=\"#\"></a></span><span aria-live=\"polite\" class=\"a-carousel-accessibility-page-info a-offscreen\">1 1</span></span>,\n",
       " <span class=\"a-carousel-pagination a-size-base\"><span class=\"a-carousel-page-count\">Page <span class=\"a-carousel-page-current\">1</span> of <span class=\"a-carousel-page-max\">1</span></span><span class=\"a-carousel-restart-container\"><span class=\"a-text-separator\"></span><a class=\"a-carousel-restart\" href=\"#\">Start Over</a></span><span aria-live=\"polite\" class=\"a-carousel-accessibility-page-info a-offscreen\">Page 1 of 1</span></span>,\n",
       " <span class=\"a-carousel-pagination a-size-base\"><span class=\"a-carousel-page-count\"><span class=\"a-carousel-page-current\">1</span> <span class=\"a-carousel-page-max\">1</span></span><span class=\"a-carousel-restart-container\"><span class=\"a-text-separator\"></span><a class=\"a-carousel-restart\" href=\"#\"></a></span><span aria-live=\"polite\" class=\"a-carousel-accessibility-page-info a-offscreen\">1 1</span></span>,\n",
       " <span class=\"a-size-base a-color-information a-text-bold\" id=\"noReviewYetText\">\\n            There are no customer reviews yet.\\n          </span>]"
      ]
     },
     "execution_count": 17,
     "metadata": {},
     "output_type": "execute_result"
    }
   ],
   "source": [
    "b.findAll('span', {'class': 'a-size-base'})"
   ]
  },
  {
   "cell_type": "code",
   "execution_count": 24,
   "metadata": {
    "collapsed": false
   },
   "outputs": [
    {
     "data": {
      "text/plain": [
       "[<span class=\"a-size-medium a-color-price\" id=\"priceblock_ourprice\">$200.00</span>]"
      ]
     },
     "execution_count": 24,
     "metadata": {},
     "output_type": "execute_result"
    }
   ],
   "source": [
    "b.findAll('span', {'class': \"a-size-medium a-color-price\"})"
   ]
  },
  {
   "cell_type": "code",
   "execution_count": 15,
   "metadata": {
    "collapsed": false
   },
   "outputs": [
    {
     "name": "stdout",
     "output_type": "stream",
     "text": [
      "(41.0, 61.0, 1.0)\n"
     ]
    }
   ],
   "source": [
    "# get the size\n",
    "size = [a.strip() for a in b.find('span', {'id': 'mnba_buybox_size'}).text.split('x')]\n",
    "\n",
    "if len(size) == 2:\n",
    "    height = float(size[0].replace('in.','').strip())\n",
    "    width = float(size[1].replace('in.','').strip())\n",
    "    depth = 1.\n",
    "elif len(size) == 3:\n",
    "    height = float(size[0].replace('in.','').strip())\n",
    "    width = float(size[1].replace('in.','').strip())\n",
    "    depth = float(size[2].replace('in.','').strip())\n",
    "\n",
    "print(height, width, depth)\n",
    "sq_inches = height*width"
   ]
  },
  {
   "cell_type": "code",
   "execution_count": 19,
   "metadata": {
    "collapsed": false
   },
   "outputs": [
    {
     "data": {
      "text/plain": [
       "u'41 x 61 in.'"
      ]
     },
     "execution_count": 19,
     "metadata": {},
     "output_type": "execute_result"
    }
   ],
   "source": [
    "size = b.find('span', {'id': 'mnba_buybox_size'}).text\n",
    "size"
   ]
  },
  {
   "cell_type": "code",
   "execution_count": null,
   "metadata": {
    "collapsed": false
   },
   "outputs": [],
   "source": [
    "#get size (height and width)\n",
    "type(b.findAll('th', {'class': 'a-span5 a-size-base'}))\n",
    "#b.findAll('td', {'class': 'a-span7 a-size-base'})"
   ]
  },
  {
   "cell_type": "code",
   "execution_count": null,
   "metadata": {
    "collapsed": false
   },
   "outputs": [],
   "source": [
    "#get type\n",
    "b.find('span', {'id': 'mnbaProductLabelMediaType'}).text"
   ]
  },
  {
   "cell_type": "code",
   "execution_count": 68,
   "metadata": {
    "collapsed": false
   },
   "outputs": [
    {
     "data": {
      "text/plain": [
       "u'Fire Hydrant, Harlem, 1963, 20x16, Archival Iris Print, signed (recto) by the photographer Leonard Freed. Edition number: 22/100. Only 25 copies were printed of the planned edition of 100. Certificate of authenticity.'"
      ]
     },
     "execution_count": 68,
     "metadata": {},
     "output_type": "execute_result"
    }
   ],
   "source": [
    "#get artwork description\n",
    "b.find('div', {'id': 'productDescription_feature_div'}).getText().replace('\\n','')"
   ]
  },
  {
   "cell_type": "code",
   "execution_count": 65,
   "metadata": {
    "collapsed": false
   },
   "outputs": [
    {
     "name": "stdout",
     "output_type": "stream",
     "text": [
      "20 inches\n",
      "16 inches\n"
     ]
    }
   ],
   "source": [
    "for desc, value in zip(b.findAll('th', {'class':'a-span5 a-size-base'}), b.findAll('td', {'class':'a-span7 a-size-base'})):\n",
    "    if desc.text.strip() in ['Height', 'Width']:\n",
    "        print value.text.strip()"
   ]
  },
  {
   "cell_type": "code",
   "execution_count": null,
   "metadata": {
    "collapsed": true
   },
   "outputs": [],
   "source": [
    "def scrapePainting(url):\n",
    "    r = requests.get(url)\n",
    "    b = BeautifulSoup(r.text, 'html.parser')\n",
    "    url_id = r.url.split('/')[-1]\n",
    "    artist = b.find('a', {'id':'fine-ART-ProductLabelArtistNameLink'}).text\n",
    "    title = b.find('span', {'id': 'fineArtTitle'}).text\n",
    "    image = re.findall('http://ecx.images-amazon.com/images/I/.*\\.jpg', r.text)[0]\n",
    "    price = price = b.find('span', {'id': 'priceblock_ourprice'}).text.replace('$','').replace(',', '')\n",
    "    if '.' in price:\n",
    "            price = float(price.replace('.', ''))/100\n",
    "    else:\n",
    "            price = float(price)\n",
    "    desc = b.find('div', {'id': 'productDescription_feature_div'}).text\n",
    "    size = [a.strip() for a in b.find('span', {'id': 'mnba_buybox_size'}).text.split('x')]\n",
    "    if len(size) == 2:\n",
    "        height = float(size[0].replace('in.','').strip())\n",
    "        width = float(size[1].replace('in.','').strip())\n",
    "        depth = 1.\n",
    "    elif len(size) == 3:\n",
    "        height = float(size[0].replace('in.','').strip())\n",
    "        width = float(size[1].replace('in.','').strip())\n",
    "        depth = float(size[2].replace('in.','').strip())\n",
    "\n",
    "    return { 'url_id': url_id, 'artist': artist, 'title':title, 'image': image, 'price': price, 'description':desc, 'height': height, 'width': width}"
   ]
  },
  {
   "cell_type": "code",
   "execution_count": null,
   "metadata": {
    "collapsed": false
   },
   "outputs": [],
   "source": [
    "import pandas as pd\n",
    "paintings = [scrapePainting(\"http://www.amazon.com/Dream-of-Migrants/dp/B00H9PNMIQ\")]\n",
    "pd.DataFrame(paintings)"
   ]
  },
  {
   "cell_type": "code",
   "execution_count": null,
   "metadata": {
    "collapsed": false
   },
   "outputs": [],
   "source": [
    "paintings = []\n",
    "    \n",
    "for page in range(1,401):\n",
    "    #url = \"http://www.amazon.com/s/ref=sr_pg_2?rh=n%3A4991425011%2Cn%3A%214991426011%2Cn%3A6685269011%2Cn%3A6685289011%2Cp_36%3A7175858011&page=\"+str(page)+\"&bbn=6685289011&sort=price-desc-rank&ie=UTF8&qid=1462043758\"\n",
    "    url = \"http://www.amazon.com/s/ref=lp_6685289011_pg_2?rh=n%3A4991425011%2Cn%3A%214991426011%2Cn%3A6685269011%2Cn%3A6685289011&page=re&ie=UTF8&qid=1462071400\"\n",
    "    r = requests.get(url)\n",
    "    r.text\n",
    "    for painting in \n",
    "    "
   ]
  },
  {
   "cell_type": "code",
   "execution_count": null,
   "metadata": {
    "collapsed": false,
    "scrolled": true
   },
   "outputs": [],
   "source": [
    "r = requests.get('http://www.amazon.com/s/ref=lp_6685289011_pg_2?rh=n%3A4991425011%2Cn%3A%214991426011%2Cn%3A6685269011%2Cn%3A6685289011&page=1&ie=UTF8&qid=1462071400')\n",
    "b = BeautifulSoup(r.text, 'html.parser')\n",
    "\n",
    "url_1 = []\n",
    "for link in b.findAll('a', {'class':\"a-link-normal a-text-normal\"}):\n",
    "    #print(link.get('href'))\n",
    "    url_1.append(link.get('href'))\n",
    "    \n",
    "url_list = url_1[::2]\n",
    "\n",
    "url_list"
   ]
  },
  {
   "cell_type": "code",
   "execution_count": 35,
   "metadata": {
    "collapsed": true
   },
   "outputs": [],
   "source": [
    "desc = b.find('div', {'id': 'productDescription_feature_div'})\n",
    "if desc is not None:     \n",
    "    desc = b.find('div', {'id': 'productDescription_feature_div'}).getText()"
   ]
  },
  {
   "cell_type": "code",
   "execution_count": 36,
   "metadata": {
    "collapsed": false
   },
   "outputs": [
    {
     "name": "stdout",
     "output_type": "stream",
     "text": [
      "\n",
      "\n",
      "Fire Hydrant, Harlem, 1963, 20x16, Archival Iris Print, signed (recto) by the photographer Leonard Freed. Edition number: 22/100. Only 25 copies were printed of the planned edition of 100. Certificate of authenticity.\n",
      "\n",
      "\n"
     ]
    }
   ],
   "source": [
    "print desc"
   ]
  },
  {
   "cell_type": "code",
   "execution_count": 37,
   "metadata": {
    "collapsed": false
   },
   "outputs": [
    {
     "data": {
      "text/plain": [
       "unicode"
      ]
     },
     "execution_count": 37,
     "metadata": {},
     "output_type": "execute_result"
    }
   ],
   "source": [
    "type(desc)"
   ]
  },
  {
   "cell_type": "code",
   "execution_count": 38,
   "metadata": {
    "collapsed": false
   },
   "outputs": [
    {
     "data": {
      "text/plain": [
       "True"
      ]
     },
     "execution_count": 38,
     "metadata": {},
     "output_type": "execute_result"
    }
   ],
   "source": [
    "desc is not None"
   ]
  },
  {
   "cell_type": "code",
   "execution_count": 48,
   "metadata": {
    "collapsed": false
   },
   "outputs": [
    {
     "data": {
      "text/plain": [
       "u'\\n\\nFire Hydrant, Harlem, 1963, 20x16, Archival Iris Print, signed (recto) by the photographer Leonard Freed. Edition number: 22/100. Only 25 copies were printed of the planned edition of 100. Certificate of authenticity.\\n\\n'"
      ]
     },
     "execution_count": 48,
     "metadata": {},
     "output_type": "execute_result"
    }
   ],
   "source": [
    "b.find('div', {'id': 'productDescription_feature_div'}).getText()"
   ]
  },
  {
   "cell_type": "code",
   "execution_count": 61,
   "metadata": {
    "collapsed": false
   },
   "outputs": [],
   "source": [
    "image = re.findall('http://ecx.images-amazon.com/images/I/.*\\.jpg', r.text)\n",
    "if image is not None:\n",
    "    image = re.findall('http://ecx.images-amazon.com/images/I/.*\\.jpg', r.text)"
   ]
  },
  {
   "cell_type": "code",
   "execution_count": 62,
   "metadata": {
    "collapsed": false
   },
   "outputs": [
    {
     "name": "stdout",
     "output_type": "stream",
     "text": [
      "[u'http://ecx.images-amazon.com/images/I/51hNjtVjR3L._QL70_.jpg', u'http://ecx.images-amazon.com/images/I/51hNjtVjR3L._QL70_.jpg', u'http://ecx.images-amazon.com/images/I/51hNjtVjR3L._QL70_.jpg\" data-old-hires=\"\" onload=\"this.onload=\\'\\';setCSMReq(\\'af\\');setCSMReq(\\'cf\\');\" class=\"a-dynamic-image a-stretch-horizontal\" id=\"fine-art-landingImage\" data-a-dynamic-image=\"{&quot;http://ecx.images-amazon.com/images/I/51hNjtVjR3L.jpg', u'http://ecx.images-amazon.com/images/I/51hNjtVjR3L._SS58_.jpg', u'http://ecx.images-amazon.com/images/I/51hNjtVjR3L._SS58_.jpg\",\"large\":\"http://ecx.images-amazon.com/images/I/51hNjtVjR3L.jpg\",\"main\":{\"http://ecx.images-amazon.com/images/I/51hNjtVjR3L.jpg', u'http://ecx.images-amazon.com/images/I/01IEknlRWxL.jpg']\n"
     ]
    }
   ],
   "source": [
    "print image"
   ]
  },
  {
   "cell_type": "code",
   "execution_count": null,
   "metadata": {
    "collapsed": true
   },
   "outputs": [],
   "source": []
  },
  {
   "cell_type": "code",
   "execution_count": null,
   "metadata": {
    "collapsed": true
   },
   "outputs": [],
   "source": []
  }
 ],
 "metadata": {
  "kernelspec": {
   "display_name": "Python 2",
   "language": "python",
   "name": "python2"
  },
  "language_info": {
   "codemirror_mode": {
    "name": "ipython",
    "version": 2
   },
   "file_extension": ".py",
   "mimetype": "text/x-python",
   "name": "python",
   "nbconvert_exporter": "python",
   "pygments_lexer": "ipython2",
   "version": "2.7.11"
  }
 },
 "nbformat": 4,
 "nbformat_minor": 0
}
